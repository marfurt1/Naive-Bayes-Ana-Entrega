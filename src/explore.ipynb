{
    "cells": [
        {
            "cell_type": "markdown",
            "metadata": {},
            "source": [
                "# Case\n",
                "\n",
                "Naive sentiment analysis\n",
                "\n",
                "This is a simple project using Naive Bayes Classifier and Scikit-learn to create a Google Play store reviews classifier (Sentiment Analysis) in Python. You will categorize user reviews as good or bad. The Naive Bayes classification technique is a simple and powerful classification task in machine learning. The Naive Bayes classification technique is a simple and powerful classification task in machine learning. In this dataset, we use the 23 most popular mobile apps, and only two columns.\n",
                "\n",
                "Step 1:\n",
                "\n",
                "We have three columns: package name, review and polarity (0 = bad, 1 = good) Preprocess the data by eliminating the package name column and putting all reviews in lower case.\n",
                "\n",
                "Step 2:\n",
                "\n",
                "Separate target from feature, and split your data.\n",
                "\n",
                "Step 3:\n",
                "\n",
                "Vectorize your features and use Naive Bayes to classify the reviews as good or bad. We will not focus on hypertuning our model this time. This was an introduction project to sentiment analysis using Naive Bayes.\n",
                "\n",
                "Step 4:\n",
                "\n",
                "Use the app.py to create your pipeline.\n",
                "\n",
                "Save your naive bayes classification model in the 'models' folder."
            ]
        },
        {
            "cell_type": "markdown",
            "metadata": {},
            "source": [
                "Insall de libraries"
            ]
        },
        {
            "cell_type": "code",
            "execution_count": 424,
            "metadata": {},
            "outputs": [
                {
                    "name": "stderr",
                    "output_type": "stream",
                    "text": [
                        "18576.96s - pydevd: Sending message related to process being replaced timed-out after 5 seconds\n"
                    ]
                },
                {
                    "name": "stdout",
                    "output_type": "stream",
                    "text": [
                        "Requirement already satisfied: pandas in /home/gitpod/.pyenv/versions/3.8.13/lib/python3.8/site-packages (1.4.3)\n",
                        "Requirement already satisfied: numpy>=1.18.5 in /home/gitpod/.pyenv/versions/3.8.13/lib/python3.8/site-packages (from pandas) (1.23.1)\n",
                        "Requirement already satisfied: python-dateutil>=2.8.1 in /home/gitpod/.pyenv/versions/3.8.13/lib/python3.8/site-packages (from pandas) (2.8.2)\n",
                        "Requirement already satisfied: pytz>=2020.1 in /home/gitpod/.pyenv/versions/3.8.13/lib/python3.8/site-packages (from pandas) (2022.1)\n",
                        "Requirement already satisfied: six>=1.5 in /home/gitpod/.pyenv/versions/3.8.13/lib/python3.8/site-packages (from python-dateutil>=2.8.1->pandas) (1.16.0)\n",
                        "\n",
                        "\u001b[1m[\u001b[0m\u001b[34;49mnotice\u001b[0m\u001b[1;39;49m]\u001b[0m\u001b[39;49m A new release of pip available: \u001b[0m\u001b[31;49m22.2\u001b[0m\u001b[39;49m -> \u001b[0m\u001b[32;49m22.2.2\u001b[0m\n",
                        "\u001b[1m[\u001b[0m\u001b[34;49mnotice\u001b[0m\u001b[1;39;49m]\u001b[0m\u001b[39;49m To update, run: \u001b[0m\u001b[32;49mpip install --upgrade pip\u001b[0m\n"
                    ]
                },
                {
                    "name": "stderr",
                    "output_type": "stream",
                    "text": [
                        "18584.50s - pydevd: Sending message related to process being replaced timed-out after 5 seconds\n"
                    ]
                },
                {
                    "name": "stdout",
                    "output_type": "stream",
                    "text": [
                        "Requirement already satisfied: numpy in /home/gitpod/.pyenv/versions/3.8.13/lib/python3.8/site-packages (1.23.1)\n",
                        "\n",
                        "\u001b[1m[\u001b[0m\u001b[34;49mnotice\u001b[0m\u001b[1;39;49m]\u001b[0m\u001b[39;49m A new release of pip available: \u001b[0m\u001b[31;49m22.2\u001b[0m\u001b[39;49m -> \u001b[0m\u001b[32;49m22.2.2\u001b[0m\n",
                        "\u001b[1m[\u001b[0m\u001b[34;49mnotice\u001b[0m\u001b[1;39;49m]\u001b[0m\u001b[39;49m To update, run: \u001b[0m\u001b[32;49mpip install --upgrade pip\u001b[0m\n"
                    ]
                },
                {
                    "name": "stderr",
                    "output_type": "stream",
                    "text": [
                        "18592.33s - pydevd: Sending message related to process being replaced timed-out after 5 seconds\n"
                    ]
                },
                {
                    "name": "stdout",
                    "output_type": "stream",
                    "text": [
                        "Requirement already satisfied: sklearn in /home/gitpod/.pyenv/versions/3.8.13/lib/python3.8/site-packages (0.0)\n",
                        "Requirement already satisfied: scikit-learn in /home/gitpod/.pyenv/versions/3.8.13/lib/python3.8/site-packages (from sklearn) (1.1.2)\n",
                        "Requirement already satisfied: threadpoolctl>=2.0.0 in /home/gitpod/.pyenv/versions/3.8.13/lib/python3.8/site-packages (from scikit-learn->sklearn) (3.1.0)\n",
                        "Requirement already satisfied: numpy>=1.17.3 in /home/gitpod/.pyenv/versions/3.8.13/lib/python3.8/site-packages (from scikit-learn->sklearn) (1.23.1)\n",
                        "Requirement already satisfied: joblib>=1.0.0 in /home/gitpod/.pyenv/versions/3.8.13/lib/python3.8/site-packages (from scikit-learn->sklearn) (1.1.0)\n",
                        "Requirement already satisfied: scipy>=1.3.2 in /home/gitpod/.pyenv/versions/3.8.13/lib/python3.8/site-packages (from scikit-learn->sklearn) (1.9.0)\n",
                        "\n",
                        "\u001b[1m[\u001b[0m\u001b[34;49mnotice\u001b[0m\u001b[1;39;49m]\u001b[0m\u001b[39;49m A new release of pip available: \u001b[0m\u001b[31;49m22.2\u001b[0m\u001b[39;49m -> \u001b[0m\u001b[32;49m22.2.2\u001b[0m\n",
                        "\u001b[1m[\u001b[0m\u001b[34;49mnotice\u001b[0m\u001b[1;39;49m]\u001b[0m\u001b[39;49m To update, run: \u001b[0m\u001b[32;49mpip install --upgrade pip\u001b[0m\n"
                    ]
                },
                {
                    "name": "stderr",
                    "output_type": "stream",
                    "text": [
                        "18600.07s - pydevd: Sending message related to process being replaced timed-out after 5 seconds\n"
                    ]
                },
                {
                    "name": "stdout",
                    "output_type": "stream",
                    "text": [
                        "Requirement already satisfied: nltk in /home/gitpod/.pyenv/versions/3.8.13/lib/python3.8/site-packages (3.7)\n",
                        "Requirement already satisfied: joblib in /home/gitpod/.pyenv/versions/3.8.13/lib/python3.8/site-packages (from nltk) (1.1.0)\n",
                        "Requirement already satisfied: regex>=2021.8.3 in /home/gitpod/.pyenv/versions/3.8.13/lib/python3.8/site-packages (from nltk) (2022.7.25)\n",
                        "Requirement already satisfied: click in /home/gitpod/.pyenv/versions/3.8.13/lib/python3.8/site-packages (from nltk) (8.1.3)\n",
                        "Requirement already satisfied: tqdm in /home/gitpod/.pyenv/versions/3.8.13/lib/python3.8/site-packages (from nltk) (4.64.0)\n",
                        "\n",
                        "\u001b[1m[\u001b[0m\u001b[34;49mnotice\u001b[0m\u001b[1;39;49m]\u001b[0m\u001b[39;49m A new release of pip available: \u001b[0m\u001b[31;49m22.2\u001b[0m\u001b[39;49m -> \u001b[0m\u001b[32;49m22.2.2\u001b[0m\n",
                        "\u001b[1m[\u001b[0m\u001b[34;49mnotice\u001b[0m\u001b[1;39;49m]\u001b[0m\u001b[39;49m To update, run: \u001b[0m\u001b[32;49mpip install --upgrade pip\u001b[0m\n"
                    ]
                },
                {
                    "name": "stderr",
                    "output_type": "stream",
                    "text": [
                        "18607.61s - pydevd: Sending message related to process being replaced timed-out after 5 seconds\n"
                    ]
                },
                {
                    "name": "stdout",
                    "output_type": "stream",
                    "text": [
                        "Requirement already satisfied: matplotlib in /home/gitpod/.pyenv/versions/3.8.13/lib/python3.8/site-packages (3.5.2)\n",
                        "Requirement already satisfied: pillow>=6.2.0 in /home/gitpod/.pyenv/versions/3.8.13/lib/python3.8/site-packages (from matplotlib) (9.2.0)\n",
                        "Requirement already satisfied: kiwisolver>=1.0.1 in /home/gitpod/.pyenv/versions/3.8.13/lib/python3.8/site-packages (from matplotlib) (1.4.4)\n",
                        "Requirement already satisfied: numpy>=1.17 in /home/gitpod/.pyenv/versions/3.8.13/lib/python3.8/site-packages (from matplotlib) (1.23.1)\n",
                        "Requirement already satisfied: pyparsing>=2.2.1 in /home/gitpod/.pyenv/versions/3.8.13/lib/python3.8/site-packages (from matplotlib) (3.0.9)\n",
                        "Requirement already satisfied: python-dateutil>=2.7 in /home/gitpod/.pyenv/versions/3.8.13/lib/python3.8/site-packages (from matplotlib) (2.8.2)\n",
                        "Requirement already satisfied: cycler>=0.10 in /home/gitpod/.pyenv/versions/3.8.13/lib/python3.8/site-packages (from matplotlib) (0.11.0)\n",
                        "Requirement already satisfied: packaging>=20.0 in /home/gitpod/.pyenv/versions/3.8.13/lib/python3.8/site-packages (from matplotlib) (21.3)\n",
                        "Requirement already satisfied: fonttools>=4.22.0 in /home/gitpod/.pyenv/versions/3.8.13/lib/python3.8/site-packages (from matplotlib) (4.34.4)\n",
                        "Requirement already satisfied: six>=1.5 in /home/gitpod/.pyenv/versions/3.8.13/lib/python3.8/site-packages (from python-dateutil>=2.7->matplotlib) (1.16.0)\n",
                        "\n",
                        "\u001b[1m[\u001b[0m\u001b[34;49mnotice\u001b[0m\u001b[1;39;49m]\u001b[0m\u001b[39;49m A new release of pip available: \u001b[0m\u001b[31;49m22.2\u001b[0m\u001b[39;49m -> \u001b[0m\u001b[32;49m22.2.2\u001b[0m\n",
                        "\u001b[1m[\u001b[0m\u001b[34;49mnotice\u001b[0m\u001b[1;39;49m]\u001b[0m\u001b[39;49m To update, run: \u001b[0m\u001b[32;49mpip install --upgrade pip\u001b[0m\n"
                    ]
                },
                {
                    "name": "stderr",
                    "output_type": "stream",
                    "text": [
                        "18615.11s - pydevd: Sending message related to process being replaced timed-out after 5 seconds\n"
                    ]
                },
                {
                    "name": "stdout",
                    "output_type": "stream",
                    "text": [
                        "\u001b[31mERROR: Could not find a version that satisfies the requirement pickle (from versions: none)\u001b[0m\u001b[31m\n",
                        "\u001b[0m\u001b[31mERROR: No matching distribution found for pickle\u001b[0m\u001b[31m\n",
                        "\u001b[0m\n",
                        "\u001b[1m[\u001b[0m\u001b[34;49mnotice\u001b[0m\u001b[1;39;49m]\u001b[0m\u001b[39;49m A new release of pip available: \u001b[0m\u001b[31;49m22.2\u001b[0m\u001b[39;49m -> \u001b[0m\u001b[32;49m22.2.2\u001b[0m\n",
                        "\u001b[1m[\u001b[0m\u001b[34;49mnotice\u001b[0m\u001b[1;39;49m]\u001b[0m\u001b[39;49m To update, run: \u001b[0m\u001b[32;49mpip install --upgrade pip\u001b[0m\n",
                        "Note: you may need to restart the kernel to use updated packages.\n"
                    ]
                }
            ],
            "source": [
                "!pip install pandas\n",
                "!pip install numpy\n",
                "!pip install sklearn\n",
                "!pip install nltk\n",
                "!pip install matplotlib\n",
                "%pip install pickle"
            ]
        },
        {
            "cell_type": "markdown",
            "metadata": {},
            "source": [
                "Imports"
            ]
        },
        {
            "cell_type": "code",
            "execution_count": 425,
            "metadata": {},
            "outputs": [],
            "source": [
                "import pandas as pd\n",
                "import numpy as np\n",
                "import nltk #text processing\n",
                "import re\n",
                "import unicodedata\n",
                "import pickle\n",
                "import matplotlib.pyplot as plt\n",
                "%matplotlib inline\n",
                "from nltk.corpus import stopwords\n",
                "from sklearn.model_selection import train_test_split\n",
                "from sklearn.feature_extraction.text import CountVectorizer\n",
                "from sklearn.naive_bayes import MultinomialNB\n",
                "from sklearn.feature_extraction.text import TfidfVectorizer\n",
                "from sklearn.feature_extraction.text import TfidfTransformer\n",
                "from sklearn.naive_bayes import MultinomialNB\n",
                "from sklearn.pipeline import Pipeline\n",
                "from sklearn import metrics\n",
                "from sklearn.metrics import precision_recall_fscore_support\n",
                "from sklearn.metrics import confusion_matrix\n",
                "from sklearn.model_selection import RandomizedSearchCV\n",
                "from sklearn.metrics import classification_report\n",
                "from sklearn.naive_bayes import GaussianNB\n",
                "\n"
            ]
        },
        {
            "cell_type": "code",
            "execution_count": 426,
            "metadata": {},
            "outputs": [
                {
                    "name": "stderr",
                    "output_type": "stream",
                    "text": [
                        "[nltk_data] Downloading package stopwords to /home/gitpod/nltk_data...\n",
                        "[nltk_data]   Package stopwords is already up-to-date!\n"
                    ]
                },
                {
                    "data": {
                        "text/plain": [
                            "True"
                        ]
                    },
                    "execution_count": 426,
                    "metadata": {},
                    "output_type": "execute_result"
                }
            ],
            "source": [
                "#load the words to use as filter\n",
                "nltk.download('stopwords')"
            ]
        },
        {
            "cell_type": "markdown",
            "metadata": {},
            "source": [
                "Load Data of Reviews"
            ]
        },
        {
            "cell_type": "code",
            "execution_count": 427,
            "metadata": {},
            "outputs": [],
            "source": [
                "url='https://raw.githubusercontent.com/4GeeksAcademy/naive-bayes-project-tutorial/main/playstore_reviews_dataset.csv'\n",
                "df = pd.read_csv(url)"
            ]
        },
        {
            "cell_type": "markdown",
            "metadata": {},
            "source": [
                "Explore Dataset"
            ]
        },
        {
            "cell_type": "code",
            "execution_count": 428,
            "metadata": {},
            "outputs": [
                {
                    "data": {
                        "text/html": [
                            "<div>\n",
                            "<style scoped>\n",
                            "    .dataframe tbody tr th:only-of-type {\n",
                            "        vertical-align: middle;\n",
                            "    }\n",
                            "\n",
                            "    .dataframe tbody tr th {\n",
                            "        vertical-align: top;\n",
                            "    }\n",
                            "\n",
                            "    .dataframe thead th {\n",
                            "        text-align: right;\n",
                            "    }\n",
                            "</style>\n",
                            "<table border=\"1\" class=\"dataframe\">\n",
                            "  <thead>\n",
                            "    <tr style=\"text-align: right;\">\n",
                            "      <th></th>\n",
                            "      <th>package_name</th>\n",
                            "      <th>review</th>\n",
                            "      <th>polarity</th>\n",
                            "    </tr>\n",
                            "  </thead>\n",
                            "  <tbody>\n",
                            "    <tr>\n",
                            "      <th>0</th>\n",
                            "      <td>com.facebook.katana</td>\n",
                            "      <td>privacy at least put some option appear offline. i mean for some people like me it's a big pressure to be seen online like you need to response on every message or else you be called seenzone only. if only i wanna do on facebook is to read on my newsfeed and just wanna response on message i want to. pls reconsidered my review. i tried to turn off chat but still can see me as online.</td>\n",
                            "      <td>0</td>\n",
                            "    </tr>\n",
                            "    <tr>\n",
                            "      <th>1</th>\n",
                            "      <td>com.facebook.katana</td>\n",
                            "      <td>messenger issues ever since the last update, initial received messages don't get pushed to the messenger app and you don't get notification in the facebook app or messenger app. you open the facebook app and happen to see you have a message. you have to click the icon and it opens messenger. subsequent messages go through messenger app, unless you close the chat head... then you start over with no notification and having to go through the facebook app.</td>\n",
                            "      <td>0</td>\n",
                            "    </tr>\n",
                            "    <tr>\n",
                            "      <th>2</th>\n",
                            "      <td>com.facebook.katana</td>\n",
                            "      <td>profile any time my wife or anybody has more than one post and i view them it would take me to there profile so that i can view them all at once. now when i try to view them it tells me that the page that i requested is not available. i've restarted my phone i even cleard the cache and i've uninstalled and reinstalled the app and it is still doing it. please fix it thank you</td>\n",
                            "      <td>0</td>\n",
                            "    </tr>\n",
                            "    <tr>\n",
                            "      <th>3</th>\n",
                            "      <td>com.facebook.katana</td>\n",
                            "      <td>the new features suck for those of us who don't have a working back button can you guys make the videos able to be slid to the left to exit the video. as i have to force close facebook to exit</td>\n",
                            "      <td>0</td>\n",
                            "    </tr>\n",
                            "    <tr>\n",
                            "      <th>4</th>\n",
                            "      <td>com.facebook.katana</td>\n",
                            "      <td>forced reload on uploading pic on replying comment last night i tried to reply a comment by uploading a photo from my phone. when i press on the button to select photos the app automatically goes back to the main page. on other occasions, i could enter to my gallery to select my image but as soon as i selected an image and press done, the program, again, forced reload and suddenly go back to the main page. please fix this and i will change my rating. thank you.</td>\n",
                            "      <td>0</td>\n",
                            "    </tr>\n",
                            "  </tbody>\n",
                            "</table>\n",
                            "</div>"
                        ],
                        "text/plain": [
                            "          package_name  \\\n",
                            "0  com.facebook.katana   \n",
                            "1  com.facebook.katana   \n",
                            "2  com.facebook.katana   \n",
                            "3  com.facebook.katana   \n",
                            "4  com.facebook.katana   \n",
                            "\n",
                            "                                                                                                                                                                                                                                                                                                                                                                                                                                                                               review  \\\n",
                            "0                                                                                   privacy at least put some option appear offline. i mean for some people like me it's a big pressure to be seen online like you need to response on every message or else you be called seenzone only. if only i wanna do on facebook is to read on my newsfeed and just wanna response on message i want to. pls reconsidered my review. i tried to turn off chat but still can see me as online.   \n",
                            "1            messenger issues ever since the last update, initial received messages don't get pushed to the messenger app and you don't get notification in the facebook app or messenger app. you open the facebook app and happen to see you have a message. you have to click the icon and it opens messenger. subsequent messages go through messenger app, unless you close the chat head... then you start over with no notification and having to go through the facebook app.   \n",
                            "2                                                                                           profile any time my wife or anybody has more than one post and i view them it would take me to there profile so that i can view them all at once. now when i try to view them it tells me that the page that i requested is not available. i've restarted my phone i even cleard the cache and i've uninstalled and reinstalled the app and it is still doing it. please fix it thank you   \n",
                            "3                                                                                                                                                                                                                                                                                    the new features suck for those of us who don't have a working back button can you guys make the videos able to be slid to the left to exit the video. as i have to force close facebook to exit   \n",
                            "4   forced reload on uploading pic on replying comment last night i tried to reply a comment by uploading a photo from my phone. when i press on the button to select photos the app automatically goes back to the main page. on other occasions, i could enter to my gallery to select my image but as soon as i selected an image and press done, the program, again, forced reload and suddenly go back to the main page. please fix this and i will change my rating. thank you.   \n",
                            "\n",
                            "   polarity  \n",
                            "0         0  \n",
                            "1         0  \n",
                            "2         0  \n",
                            "3         0  \n",
                            "4         0  "
                        ]
                    },
                    "execution_count": 428,
                    "metadata": {},
                    "output_type": "execute_result"
                }
            ],
            "source": [
                "df.head()\n"
            ]
        },
        {
            "cell_type": "code",
            "execution_count": 429,
            "metadata": {},
            "outputs": [
                {
                    "data": {
                        "text/plain": [
                            "0    584\n",
                            "1    307\n",
                            "Name: polarity, dtype: int64"
                        ]
                    },
                    "execution_count": 429,
                    "metadata": {},
                    "output_type": "execute_result"
                }
            ],
            "source": [
                "df['polarity'].value_counts()"
            ]
        },
        {
            "cell_type": "code",
            "execution_count": 430,
            "metadata": {},
            "outputs": [
                {
                    "name": "stdout",
                    "output_type": "stream",
                    "text": [
                        "<class 'pandas.core.frame.DataFrame'>\n",
                        "RangeIndex: 891 entries, 0 to 890\n",
                        "Data columns (total 3 columns):\n",
                        " #   Column        Non-Null Count  Dtype \n",
                        "---  ------        --------------  ----- \n",
                        " 0   package_name  891 non-null    object\n",
                        " 1   review        891 non-null    object\n",
                        " 2   polarity      891 non-null    int64 \n",
                        "dtypes: int64(1), object(2)\n",
                        "memory usage: 21.0+ KB\n"
                    ]
                }
            ],
            "source": [
                "df.info()"
            ]
        },
        {
            "cell_type": "markdown",
            "metadata": {},
            "source": [
                "Package name, review and polarity (0 = bad, 1 = good)"
            ]
        },
        {
            "cell_type": "code",
            "execution_count": 431,
            "metadata": {},
            "outputs": [
                {
                    "data": {
                        "text/html": [
                            "<div>\n",
                            "<style scoped>\n",
                            "    .dataframe tbody tr th:only-of-type {\n",
                            "        vertical-align: middle;\n",
                            "    }\n",
                            "\n",
                            "    .dataframe tbody tr th {\n",
                            "        vertical-align: top;\n",
                            "    }\n",
                            "\n",
                            "    .dataframe thead th {\n",
                            "        text-align: right;\n",
                            "    }\n",
                            "</style>\n",
                            "<table border=\"1\" class=\"dataframe\">\n",
                            "  <thead>\n",
                            "    <tr style=\"text-align: right;\">\n",
                            "      <th></th>\n",
                            "      <th>package_name</th>\n",
                            "      <th>review</th>\n",
                            "      <th>polarity</th>\n",
                            "    </tr>\n",
                            "  </thead>\n",
                            "  <tbody>\n",
                            "    <tr>\n",
                            "      <th>40</th>\n",
                            "      <td>com.twitter.android</td>\n",
                            "      <td>⭐⭐⭐ when will this app be created to automatically start at the top with new posts instead of having to scroll through days of old tweets to get to the top! the only social app that does that! such a headache!</td>\n",
                            "      <td>0</td>\n",
                            "    </tr>\n",
                            "    <tr>\n",
                            "      <th>678</th>\n",
                            "      <td>com.hamrokeyboard</td>\n",
                            "      <td>i found this app very fruitful.. and m using it but can you please tell me how to write ŕ¤ŕ¤§ŕ¤ž ŕ¤ŕ¤ŕľŕ¤ˇŕ¤°</td>\n",
                            "      <td>1</td>\n",
                            "    </tr>\n",
                            "    <tr>\n",
                            "      <th>18</th>\n",
                            "      <td>com.facebook.katana</td>\n",
                            "      <td>can't connect right now when trying to open links in the facebook browser, i receive a can't connect right now error message. other items on my news feed continue to load.</td>\n",
                            "      <td>0</td>\n",
                            "    </tr>\n",
                            "    <tr>\n",
                            "      <th>586</th>\n",
                            "      <td>com.evernote</td>\n",
                            "      <td>widget sabotaged this app functions ok as a note-taker. i access it primarily through its widget. the old widget was great, giving a peek at a few recent notes. then that widget was killed off, and replaced with a widget that shows only the titles of 2 recent notes, with maybe just part of the title of a third note, and no content at all. it shows poor judgment for a company to downgrade its product for no apparent reason. also, there's no undo button.</td>\n",
                            "      <td>1</td>\n",
                            "    </tr>\n",
                            "    <tr>\n",
                            "      <th>498</th>\n",
                            "      <td>com.Slack</td>\n",
                            "      <td>tablet support any chance of getting tablet support anytime soon?</td>\n",
                            "      <td>0</td>\n",
                            "    </tr>\n",
                            "    <tr>\n",
                            "      <th>501</th>\n",
                            "      <td>com.Slack</td>\n",
                            "      <td>slick chat app! reactions are my favorite part of using slack. i love adding my own!</td>\n",
                            "      <td>1</td>\n",
                            "    </tr>\n",
                            "    <tr>\n",
                            "      <th>491</th>\n",
                            "      <td>com.Slack</td>\n",
                            "      <td>good this is a very good app so far. great features and overall performance.</td>\n",
                            "      <td>1</td>\n",
                            "    </tr>\n",
                            "    <tr>\n",
                            "      <th>36</th>\n",
                            "      <td>com.facebook.katana</td>\n",
                            "      <td>update uninstalls! everytime i try to update it uninstalls the app! what i want to know is if this is using my data each time i update and then have to reinstall?! driving me crazy. please fix.</td>\n",
                            "      <td>0</td>\n",
                            "    </tr>\n",
                            "    <tr>\n",
                            "      <th>847</th>\n",
                            "      <td>com.hamropatro</td>\n",
                            "      <td>good ŕ¤ŕ¤ŕ¤śŕ¤ž ŕ¤°ŕ¤žŕ¤žŕľŕ¤°ŕľ</td>\n",
                            "      <td>1</td>\n",
                            "    </tr>\n",
                            "    <tr>\n",
                            "      <th>566</th>\n",
                            "      <td>jabanaki.todo.todoly</td>\n",
                            "      <td>doesn't log in checked my credentials multiple times. will not authenticate.</td>\n",
                            "      <td>0</td>\n",
                            "    </tr>\n",
                            "  </tbody>\n",
                            "</table>\n",
                            "</div>"
                        ],
                        "text/plain": [
                            "             package_name  \\\n",
                            "40    com.twitter.android   \n",
                            "678     com.hamrokeyboard   \n",
                            "18    com.facebook.katana   \n",
                            "586          com.evernote   \n",
                            "498             com.Slack   \n",
                            "501             com.Slack   \n",
                            "491             com.Slack   \n",
                            "36    com.facebook.katana   \n",
                            "847        com.hamropatro   \n",
                            "566  jabanaki.todo.todoly   \n",
                            "\n",
                            "                                                                                                                                                                                                                                                                                                                                                                                                                                                                        review  \\\n",
                            "40                                                                                                                                                                                                                                                           ⭐⭐⭐ when will this app be created to automatically start at the top with new posts instead of having to scroll through days of old tweets to get to the top! the only social app that does that! such a headache!   \n",
                            "678                                                                                                                                                                                                                                                                                                                                                          i found this app very fruitful.. and m using it but can you please tell me how to write ŕ¤ŕ¤§ŕ¤ž ŕ¤\n",
                            "ŕ¤ŕľŕ¤ˇŕ¤°   \n",
                            "18                                                                                                                                                                                                                                                                                                 can't connect right now when trying to open links in the facebook browser, i receive a can't connect right now error message. other items on my news feed continue to load.   \n",
                            "586   widget sabotaged this app functions ok as a note-taker. i access it primarily through its widget. the old widget was great, giving a peek at a few recent notes. then that widget was killed off, and replaced with a widget that shows only the titles of 2 recent notes, with maybe just part of the title of a third note, and no content at all. it shows poor judgment for a company to downgrade its product for no apparent reason. also, there's no undo button.   \n",
                            "498                                                                                                                                                                                                                                                                                                                                                                                                          tablet support any chance of getting tablet support anytime soon?   \n",
                            "501                                                                                                                                                                                                                                                                                                                                                                                       slick chat app! reactions are my favorite part of using slack. i love adding my own!   \n",
                            "491                                                                                                                                                                                                                                                                                                                                                                                               good this is a very good app so far. great features and overall performance.   \n",
                            "36                                                                                                                                                                                                                                                                           update uninstalls! everytime i try to update it uninstalls the app! what i want to know is if this is using my data each time i update and then have to reinstall?! driving me crazy. please fix.   \n",
                            "847                                                                                                                                                                                                                                                                                                                                                                                                                                       good ŕ¤ŕ¤ŕ¤śŕ¤ž ŕ¤°ŕ¤žŕ¤žŕľŕ¤°ŕľ   \n",
                            "566                                                                                                                                                                                                                                                                                                                                                                                             doesn't log in checked my credentials multiple times. will not authenticate.     \n",
                            "\n",
                            "     polarity  \n",
                            "40          0  \n",
                            "678         1  \n",
                            "18          0  \n",
                            "586         1  \n",
                            "498         0  \n",
                            "501         1  \n",
                            "491         1  \n",
                            "36          0  \n",
                            "847         1  \n",
                            "566         0  "
                        ]
                    },
                    "execution_count": 431,
                    "metadata": {},
                    "output_type": "execute_result"
                }
            ],
            "source": [
                "df.sample(10)"
            ]
        },
        {
            "cell_type": "markdown",
            "metadata": {},
            "source": [
                "\n",
                "Text Processing - Clean\n",
                "\n",
                "Step 1 - change all to lower case\n"
            ]
        },
        {
            "cell_type": "code",
            "execution_count": 432,
            "metadata": {},
            "outputs": [],
            "source": [
                "#Preprocess the data by eliminating the package name column and putting all reviews in lower case.\n",
                "\n",
                "df.drop(['package_name'],axis=1, inplace=True)\n",
                "#chante all to lower case\n",
                "df['review'] = df['review'].str.lower()\n"
            ]
        },
        {
            "cell_type": "markdown",
            "metadata": {},
            "source": [
                "\n",
                "\n",
                "Step 2 - Remove all words that not have meaning to the search - stop words\n"
            ]
        },
        {
            "cell_type": "code",
            "execution_count": 433,
            "metadata": {},
            "outputs": [
                {
                    "data": {
                        "text/plain": [
                            "the       1293\n",
                            "to        1159\n",
                            "i         1084\n",
                            "and        853\n",
                            "it         778\n",
                            "a          619\n",
                            "is         555\n",
                            "my         442\n",
                            "this       421\n",
                            "for        410\n",
                            "of         390\n",
                            "but        348\n",
                            "in         340\n",
                            "on         325\n",
                            "not        318\n",
                            "app        317\n",
                            "you        315\n",
                            "that       260\n",
                            "have       252\n",
                            "with       220\n",
                            "so         203\n",
                            "be         194\n",
                            "no         186\n",
                            "when       182\n",
                            "if         180\n",
                            "or         169\n",
                            "all        163\n",
                            "can        158\n",
                            "as         148\n",
                            "me         145\n",
                            "are        139\n",
                            "it's       138\n",
                            "can't      137\n",
                            "update     136\n",
                            "new        136\n",
                            "like       135\n",
                            "fix        133\n",
                            "please     131\n",
                            "good       128\n",
                            "game       121\n",
                            "one        119\n",
                            "use        118\n",
                            "just       117\n",
                            "get        112\n",
                            "its        111\n",
                            "very       109\n",
                            "more       107\n",
                            "was        104\n",
                            "there      104\n",
                            "don't      103\n",
                            "now        102\n",
                            "will       102\n",
                            "even       101\n",
                            "from       101\n",
                            "at         100\n",
                            "up          99\n",
                            "great       99\n",
                            "time        93\n",
                            "your        90\n",
                            "do          89\n",
                            "dtype: int64"
                        ]
                    },
                    "execution_count": 433,
                    "metadata": {},
                    "output_type": "execute_result"
                }
            ],
            "source": [
                "#see, the word in the reviews, create a list of word and frecuency\n",
                "df['review'].str.split(expand = True).stack().value_counts()[:60] #(show top 60)"
            ]
        },
        {
            "cell_type": "code",
            "execution_count": 434,
            "metadata": {},
            "outputs": [],
            "source": [
                "#remove the stopword\n",
                "stop = stopwords.words('english')\n",
                "\n",
                "def remove_stopwords(text):\n",
                "  if text is not None:\n",
                "    #list of the word in the text\n",
                "    words = text.strip().split()\n",
                "    words_filtered = []\n",
                "    for word in words:\n",
                "      if word not in stop:\n",
                "        words_filtered.append(word)\n",
                "    result = \" \".join(words_filtered) #join the word in a text with space separation\n",
                "  else:\n",
                "      result = None\n",
                "  return result\n"
            ]
        },
        {
            "cell_type": "markdown",
            "metadata": {},
            "source": [
                "\n",
                "\n",
                "Eliminamos los caracteres desconocidos\n"
            ]
        },
        {
            "cell_type": "code",
            "execution_count": 435,
            "metadata": {},
            "outputs": [],
            "source": [
                "# elimina espacio libre al principio y al final\n",
                "df['review'] = df['review'].str.strip()\n",
                "df['review'] = df['review'].str.lower()\n"
            ]
        },
        {
            "cell_type": "code",
            "execution_count": 436,
            "metadata": {},
            "outputs": [
                {
                    "data": {
                        "text/plain": [
                            "0                                                                                      privacy at least put some option appear offline. i mean for some people like me it's a big pressure to be seen online like you need to response on every message or else you be called seenzone only. if only i wanna do on facebook is to read on my newsfeed and just wanna response on message i want to. pls reconsidered my review. i tried to turn off chat but still can see me as online.\n",
                            "1               messenger issues ever since the last update, initial received messages don't get pushed to the messenger app and you don't get notification in the facebook app or messenger app. you open the facebook app and happen to see you have a message. you have to click the icon and it opens messenger. subsequent messages go through messenger app, unless you close the chat head... then you start over with no notification and having to go through the facebook app.\n",
                            "2                                                                                              profile any time my wife or anybody has more than one post and i view them it would take me to there profile so that i can view them all at once. now when i try to view them it tells me that the page that i requested is not available. i've restarted my phone i even cleard the cache and i've uninstalled and reinstalled the app and it is still doing it. please fix it thank you\n",
                            "3                                                                                                                                                                                                                                                                                       the new features suck for those of us who don't have a working back button can you guys make the videos able to be slid to the left to exit the video. as i have to force close facebook to exit\n",
                            "4      forced reload on uploading pic on replying comment last night i tried to reply a comment by uploading a photo from my phone. when i press on the button to select photos the app automatically goes back to the main page. on other occasions, i could enter to my gallery to select my image but as soon as i selected an image and press done, the program, again, forced reload and suddenly go back to the main page. please fix this and i will change my rating. thank you.\n",
                            "                                                                                                                                                                                                                                             ...                                                                                                                                                                                                                                        \n",
                            "886                                                                                                                                                                                                                                                                                                                                 loved it i loooooooooooooovvved it because it is incredible  awesome  and it's in go power and make a new clash of clans the same thing  butt better\n",
                            "887                                                                                                                                                                        all time legendary game the birthday party levels and short fuse levels are fantastic.especially when the pigs crash onto different chemicals is just great.suggestion to all those players who cringe about too much ads is close ur wi-fi connection and then play the game.then the ads won't trouble you.\n",
                            "888                                                     ads are way to heavy listen to the bad reviews. there are ads after every round, whether you pass it or fail it. sometimes there are ads before the next round starts to. you spend more time on ads than game play. i develop web apps, and honestly many people rely on ads to make a living. i can appreciate that all to well. however, these developers have went far beyond that. frankly, they are disrespectful nitwits.\n",
                            "889                                                                                                                                                                                                                                                                                                                                                                                           fun works perfectly well. ads aren't as annoying as you think, especially for a free game.\n",
                            "890                                                                                                                                                                                                                                                                                                                                       they're everywhere i see angry birds everywhere because i can't stop playing this game. get out my head devs! 4 đ because nothing's perfect\n",
                            "Name: review, Length: 891, dtype: object"
                        ]
                    },
                    "execution_count": 436,
                    "metadata": {},
                    "output_type": "execute_result"
                }
            ],
            "source": [
                "df['review']\n"
            ]
        },
        {
            "cell_type": "code",
            "execution_count": 437,
            "metadata": {},
            "outputs": [],
            "source": [
                "def normalize_str(text_string):\n",
                "    if text_string is not None:\n",
                "        result=unicodedata.normalize('NFD',text_string).encode('ascii','ignore').decode()\n",
                "    else:\n",
                "        result=None \n",
                "    return result"
            ]
        },
        {
            "cell_type": "code",
            "execution_count": 438,
            "metadata": {},
            "outputs": [],
            "source": [
                "df['review']=df['review'].apply(normalize_str)\n",
                "df['review']=df['review'].str.replace('!','')\n",
                "df['review']=df['review'].str.replace(',','')\n",
                "df['review']=df['review'].str.replace('&','')\n",
                "df['review']=df['review'].str.normalize('NFKC')\n",
                "df['review']=df['review'].str.replace(r'([a-zA-Z])\\1{2,}',r'\\1',regex=True)"
            ]
        },
        {
            "cell_type": "code",
            "execution_count": 439,
            "metadata": {},
            "outputs": [
                {
                    "data": {
                        "text/html": [
                            "<div>\n",
                            "<style scoped>\n",
                            "    .dataframe tbody tr th:only-of-type {\n",
                            "        vertical-align: middle;\n",
                            "    }\n",
                            "\n",
                            "    .dataframe tbody tr th {\n",
                            "        vertical-align: top;\n",
                            "    }\n",
                            "\n",
                            "    .dataframe thead th {\n",
                            "        text-align: right;\n",
                            "    }\n",
                            "</style>\n",
                            "<table border=\"1\" class=\"dataframe\">\n",
                            "  <thead>\n",
                            "    <tr style=\"text-align: right;\">\n",
                            "      <th></th>\n",
                            "      <th>review</th>\n",
                            "      <th>polarity</th>\n",
                            "    </tr>\n",
                            "  </thead>\n",
                            "  <tbody>\n",
                            "    <tr>\n",
                            "      <th>453</th>\n",
                            "      <td>very nice app best feature is all friends get in touch with it.. runs well during roaming and with low signal.. i hope to see some improvement as in group chatting if we have tag feature or topic hashtag feature within the group so that we can refer to a particular topic in discussion  just like in twitter etc.. but within the group not public ..would be great.</td>\n",
                            "      <td>1</td>\n",
                            "    </tr>\n",
                            "    <tr>\n",
                            "      <th>125</th>\n",
                            "      <td>memory game the levels are so hard and less moves . l do no how to pass 95 levels but levels are so bour. chico bar is very hard to finish. please any of you send me life</td>\n",
                            "      <td>1</td>\n",
                            "    </tr>\n",
                            "    <tr>\n",
                            "      <th>305</th>\n",
                            "      <td>after ur latest update i and my friend made a video call after ur latest update video of my friend z vry clr bt voice cnt b heard of my friend so plz plz resolve dis problem plz plz its a kind request</td>\n",
                            "      <td>0</td>\n",
                            "    </tr>\n",
                            "    <tr>\n",
                            "      <th>19</th>\n",
                            "      <td>error i cannot edit my post with pictures. the moment i do it will not change after save and it appears like when ur uploading but not yet done post in news feed and still there until i did reinstall the app. this still happens even.</td>\n",
                            "      <td>0</td>\n",
                            "    </tr>\n",
                            "    <tr>\n",
                            "      <th>361</th>\n",
                            "      <td>it's great when it works but right now it won't download any mms. it just says they're there and won't download them and then loses the message when i switch to a different app to try to download it instead.</td>\n",
                            "      <td>1</td>\n",
                            "    </tr>\n",
                            "    <tr>\n",
                            "      <th>47</th>\n",
                            "      <td>came here to rate this app to give 5 stars for good optimization for android this is one of the only apps that i open and close and it actually clears fully from ram and does not use up cpu power unlike facebook and its messenger using up ram and cpu.</td>\n",
                            "      <td>0</td>\n",
                            "    </tr>\n",
                            "    <tr>\n",
                            "      <th>795</th>\n",
                            "      <td>trust worthy as always have been a long time user of firefox in all my desktops and laptops. now using it on my android phones as well. not settling for any other second rate browser</td>\n",
                            "      <td>1</td>\n",
                            "    </tr>\n",
                            "    <tr>\n",
                            "      <th>879</th>\n",
                            "      <td>not the same with my hand on my heart. i can honestly say that the first angry birds was great. the latter is a horrible mess of horrible games cashing in on the original success. unfortunately this hame has suffered the same fate... it is no longer the brilliant game it once was... it's  an updated version with none of the original stuff that once made it great...</td>\n",
                            "      <td>1</td>\n",
                            "    </tr>\n",
                            "    <tr>\n",
                            "      <th>560</th>\n",
                            "      <td>great simple recommend love this app. looking forward to more new features.</td>\n",
                            "      <td>1</td>\n",
                            "    </tr>\n",
                            "    <tr>\n",
                            "      <th>496</th>\n",
                            "      <td>everyone loves slack. count me among them</td>\n",
                            "      <td>1</td>\n",
                            "    </tr>\n",
                            "  </tbody>\n",
                            "</table>\n",
                            "</div>"
                        ],
                        "text/plain": [
                            "                                                                                                                                                                                                                                                                                                                                                                              review  \\\n",
                            "453      very nice app best feature is all friends get in touch with it.. runs well during roaming and with low signal.. i hope to see some improvement as in group chatting if we have tag feature or topic hashtag feature within the group so that we can refer to a particular topic in discussion  just like in twitter etc.. but within the group not public ..would be great.   \n",
                            "125                                                                                                                                                                                                       memory game the levels are so hard and less moves . l do no how to pass 95 levels but levels are so bour. chico bar is very hard to finish. please any of you send me life   \n",
                            "305                                                                                                                                                                         after ur latest update i and my friend made a video call after ur latest update video of my friend z vry clr bt voice cnt b heard of my friend so plz plz resolve dis problem plz plz its a kind request   \n",
                            "19                                                                                                                                         error i cannot edit my post with pictures. the moment i do it will not change after save and it appears like when ur uploading but not yet done post in news feed and still there until i did reinstall the app. this still happens even.   \n",
                            "361                                                                                                                                                                  it's great when it works but right now it won't download any mms. it just says they're there and won't download them and then loses the message when i switch to a different app to try to download it instead.   \n",
                            "47                                                                                                                       came here to rate this app to give 5 stars for good optimization for android this is one of the only apps that i open and close and it actually clears fully from ram and does not use up cpu power unlike facebook and its messenger using up ram and cpu.   \n",
                            "795                                                                                                                                                                                           trust worthy as always have been a long time user of firefox in all my desktops and laptops. now using it on my android phones as well. not settling for any other second rate browser   \n",
                            "879  not the same with my hand on my heart. i can honestly say that the first angry birds was great. the latter is a horrible mess of horrible games cashing in on the original success. unfortunately this hame has suffered the same fate... it is no longer the brilliant game it once was... it's  an updated version with none of the original stuff that once made it great...   \n",
                            "560                                                                                                                                                                                                                                                                                                      great simple recommend love this app. looking forward to more new features.   \n",
                            "496                                                                                                                                                                                                                                                                                                                                        everyone loves slack. count me among them   \n",
                            "\n",
                            "     polarity  \n",
                            "453         1  \n",
                            "125         1  \n",
                            "305         0  \n",
                            "19          0  \n",
                            "361         1  \n",
                            "47          0  \n",
                            "795         1  \n",
                            "879         1  \n",
                            "560         1  \n",
                            "496         1  "
                        ]
                    },
                    "execution_count": 439,
                    "metadata": {},
                    "output_type": "execute_result"
                }
            ],
            "source": [
                "df.sample(10)"
            ]
        },
        {
            "cell_type": "code",
            "execution_count": 440,
            "metadata": {},
            "outputs": [
                {
                    "data": {
                        "text/plain": [
                            "review      loved it rzrl app rrlrrl rrsrzrlrrl r rrsrzrlrrl r rr rsrrz rzrrzrz rrlrsrl rrlrrz rlrsrl rr rzrrl rrsrzrlrrl rsrlrrl rlrzrzrl rlrrlr inserting symbols inserting pictures from the galary wedding 123 etc. and phonetic symbols so the english learners could be helped more. rrsrz rlrrl rrlrrz rrz rsrzrrzrz rrlrsrlrz rsrrz rzrl  rrtrlrrz rsrlrrzrlr rlrrzrsrrlrrzr rrsrzrlr rlrrl r rl\n",
                            "polarity                                                                                                                                                                                                                                                                                                                                                                                               1\n",
                            "Name: 675, dtype: object"
                        ]
                    },
                    "execution_count": 440,
                    "metadata": {},
                    "output_type": "execute_result"
                }
            ],
            "source": [
                "df.iloc[675,]"
            ]
        },
        {
            "cell_type": "code",
            "execution_count": 441,
            "metadata": {},
            "outputs": [],
            "source": [
                "df_interim = df.copy()"
            ]
        },
        {
            "cell_type": "code",
            "execution_count": 442,
            "metadata": {},
            "outputs": [],
            "source": [
                "df_interim['review']=df_interim['review'].str.lower()"
            ]
        },
        {
            "cell_type": "code",
            "execution_count": 443,
            "metadata": {},
            "outputs": [],
            "source": [
                "df_interim['review'] = df_interim['review'].apply(remove_stopwords)\n"
            ]
        },
        {
            "cell_type": "code",
            "execution_count": 444,
            "metadata": {},
            "outputs": [
                {
                    "data": {
                        "text/plain": [
                            "app         351\n",
                            "update      150\n",
                            "game        140\n",
                            "please      138\n",
                            "like        137\n",
                            "can't       137\n",
                            "new         137\n",
                            "fix         135\n",
                            "good        134\n",
                            "use         123\n",
                            "one         120\n",
                            "great       115\n",
                            "get         112\n",
                            "even        102\n",
                            "time         98\n",
                            "browser      85\n",
                            "really       84\n",
                            "back         81\n",
                            "still        80\n",
                            "would        80\n",
                            "love         77\n",
                            "make         74\n",
                            "5            71\n",
                            "work         71\n",
                            "also         69\n",
                            "see          69\n",
                            "using        68\n",
                            "phone        68\n",
                            "i'm          67\n",
                            "open         66\n",
                            "it.          65\n",
                            "want         64\n",
                            "google       64\n",
                            "much         62\n",
                            "every        61\n",
                            "version      60\n",
                            "option       59\n",
                            "u            58\n",
                            "way          57\n",
                            "app.         56\n",
                            "go           56\n",
                            "android      56\n",
                            "used         55\n",
                            "best         54\n",
                            "download     53\n",
                            "better       53\n",
                            "play         52\n",
                            ".            51\n",
                            "give         50\n",
                            "send         49\n",
                            "people       48\n",
                            "able         48\n",
                            "message      47\n",
                            "since        47\n",
                            "many         46\n",
                            "works        45\n",
                            "apps         45\n",
                            "ads          45\n",
                            "keep         45\n",
                            "old          44\n",
                            "dtype: int64"
                        ]
                    },
                    "execution_count": 444,
                    "metadata": {},
                    "output_type": "execute_result"
                }
            ],
            "source": [
                "df_interim['review'].str.split(expand=True).stack().value_counts()[:60] "
            ]
        },
        {
            "cell_type": "code",
            "execution_count": 445,
            "metadata": {},
            "outputs": [],
            "source": [
                "def word_only_letters(word):\n",
                "    for c in word:\n",
                "        cat = unicodedata.category(c)\n",
                "        if cat not in ('Ll','Lu'):  #only letter upper y lower\n",
                "            return False\n",
                "    return True\n",
                "\n",
                "# clean only letter\n",
                "def text_only_letters(text):\n",
                "    if text is not None:\n",
                "        #list of the word in the text\n",
                "        words = text.strip().split()\n",
                "        words_filtered = []\n",
                "        for word in words:\n",
                "            if word_only_letters(word):\n",
                "                words_filtered.append(word)\n",
                "            result = \" \".join(words_filtered) #join the word in a text with space separation\n",
                "    else:\n",
                "        result = None\n",
                "    return result"
            ]
        },
        {
            "cell_type": "code",
            "execution_count": 446,
            "metadata": {},
            "outputs": [],
            "source": [
                "df_interim['review'] = df_interim['review'].apply(text_only_letters)"
            ]
        },
        {
            "cell_type": "code",
            "execution_count": 447,
            "metadata": {},
            "outputs": [],
            "source": [
                "#remove multi letter looove iiiitttt, or repeat secuence\n",
                "def replace_multiple_letters(message):\n",
                "  if message is not None:\n",
                "    result = re.sub(r'(.+?)\\1+', r'\\1', message)\n",
                "    #result = re.sub(r\"([a-zA-Z])＼1{2,}\", r\"＼1\", message)\n",
                "  else:\n",
                "    result = None\n",
                "  return result\n"
            ]
        },
        {
            "cell_type": "code",
            "execution_count": 448,
            "metadata": {},
            "outputs": [],
            "source": [
                "df_interim['review'] = df_interim['review'].apply(replace_multiple_letters)"
            ]
        },
        {
            "cell_type": "code",
            "execution_count": 449,
            "metadata": {},
            "outputs": [
                {
                    "data": {
                        "text/plain": [
                            "0                                                                           privacy least put option apear mean people like big presure sen online like ned response every mesage else caled senzone wana facebok read newsfed wana response mesage want pls reconsidered tried turn chat stil se\n",
                            "1                                           mesenger isues ever since last update initial received mesages get pushed mesenger ap get notification facebok ap mesenger open facebok ap hapen se click icon opens subsequent mesages go mesenger ap unles close chat start notification go facebok\n",
                            "2                                                                                                                   profile time wife anybody one post view would take profile view try view tels page requested restarted phone even cleard cache uninstaled reinstaled ap stil please fix thank\n",
                            "3                                                                                                                                                                                           new features suck us working back buton guys make videos able slid left exit force close facebok exit\n",
                            "4      forced reload uploading pic replying coment last night tried reply coment uploading photo pres buton select photos ap automaticaly goes back main ocasions could enter galery select image son selected image pres done program forced reload sudenly go back main please fix change thank\n",
                            "                                                                                                                                                  ...                                                                                                                                            \n",
                            "886                                                                                                                                                                                                                        loved incredible awesome go power make new clash clans thing but beter\n",
                            "887                                                                                                                                    time legendary game birthday party levels short fuse levels pigs crash onto diferent chemicals players cringe much ads close ur conection play ads trouble\n",
                            "888                                                           ads way heavy listen bad ads every round whether pas fail sometimes ads next round starts spend time ads game develop web aps honestly many people rely ads make apreciate however developers went far beyond frankly disrespectful\n",
                            "889                                                                                                                                                                                                                                           fun works perfectly ads anoying think especialy fre\n",
                            "890                                                                                                                                                                                                                       everywhere se angry birds everywhere stop playing get head devs perfect\n",
                            "Name: review, Length: 891, dtype: object"
                        ]
                    },
                    "execution_count": 449,
                    "metadata": {},
                    "output_type": "execute_result"
                }
            ],
            "source": [
                "df_interim['review']"
            ]
        },
        {
            "cell_type": "code",
            "execution_count": 450,
            "metadata": {},
            "outputs": [],
            "source": [
                "#copy to df\n",
                "df = df_interim.copy()\n"
            ]
        },
        {
            "cell_type": "markdown",
            "metadata": {},
            "source": [
                "\n",
                "\n",
                "Setp 3 - Model\n"
            ]
        },
        {
            "cell_type": "code",
            "execution_count": 451,
            "metadata": {},
            "outputs": [],
            "source": [
                "# Separate target and predictor\n",
                "X = df['review']\n",
                "y = df['polarity']\n"
            ]
        },
        {
            "cell_type": "code",
            "execution_count": 452,
            "metadata": {},
            "outputs": [
                {
                    "data": {
                        "text/plain": [
                            "array(['abesta', 'abilities', 'ability', ..., 'zespole', 'zom', 'zoming'],\n",
                            "      dtype=object)"
                        ]
                    },
                    "execution_count": 452,
                    "metadata": {},
                    "output_type": "execute_result"
                }
            ],
            "source": [
                "vectorizer = CountVectorizer(stop_words='english')\n",
                "X = vectorizer.fit_transform(X)\n",
                "vectorizer.get_feature_names_out()"
            ]
        },
        {
            "cell_type": "code",
            "execution_count": 453,
            "metadata": {},
            "outputs": [],
            "source": [
                "X = X.toarray()"
            ]
        },
        {
            "cell_type": "code",
            "execution_count": 454,
            "metadata": {},
            "outputs": [],
            "source": [
                "X_train, X_test, y_train, y_test = train_test_split(X, y, stratify=y, random_state=25)"
            ]
        },
        {
            "cell_type": "code",
            "execution_count": 455,
            "metadata": {},
            "outputs": [],
            "source": [
                "#Vectorizer change matriz with 0-1\n",
                "#vec = CountVectorizer(stop_words = \"english\")\n",
                "#X_train = vec.fit_transform(X_train).toarray()\n",
                "#X_test = vec.transform(X_test).toarray()"
            ]
        },
        {
            "cell_type": "code",
            "execution_count": 456,
            "metadata": {},
            "outputs": [
                {
                    "name": "stdout",
                    "output_type": "stream",
                    "text": [
                        "[[0 0 0 ... 0 0 0]\n",
                        " [0 0 0 ... 0 0 0]\n",
                        " [0 0 0 ... 0 0 0]\n",
                        " ...\n",
                        " [0 0 0 ... 0 0 0]\n",
                        " [0 0 0 ... 0 0 0]\n",
                        " [0 0 0 ... 0 0 0]]\n"
                    ]
                }
            ],
            "source": [
                "print(X_train)\n"
            ]
        },
        {
            "cell_type": "code",
            "execution_count": 457,
            "metadata": {},
            "outputs": [
                {
                    "name": "stdout",
                    "output_type": "stream",
                    "text": [
                        "(891, 3289)\n",
                        "(223, 3289)\n",
                        "(668, 3289)\n"
                    ]
                }
            ],
            "source": [
                "print(X.shape)\n",
                "print(X_test.shape)\n",
                "print(X_train.shape)"
            ]
        },
        {
            "cell_type": "code",
            "execution_count": 458,
            "metadata": {},
            "outputs": [
                {
                    "data": {
                        "text/html": [
                            "<style>#sk-container-id-14 {color: black;background-color: white;}#sk-container-id-14 pre{padding: 0;}#sk-container-id-14 div.sk-toggleable {background-color: white;}#sk-container-id-14 label.sk-toggleable__label {cursor: pointer;display: block;width: 100%;margin-bottom: 0;padding: 0.3em;box-sizing: border-box;text-align: center;}#sk-container-id-14 label.sk-toggleable__label-arrow:before {content: \"▸\";float: left;margin-right: 0.25em;color: #696969;}#sk-container-id-14 label.sk-toggleable__label-arrow:hover:before {color: black;}#sk-container-id-14 div.sk-estimator:hover label.sk-toggleable__label-arrow:before {color: black;}#sk-container-id-14 div.sk-toggleable__content {max-height: 0;max-width: 0;overflow: hidden;text-align: left;background-color: #f0f8ff;}#sk-container-id-14 div.sk-toggleable__content pre {margin: 0.2em;color: black;border-radius: 0.25em;background-color: #f0f8ff;}#sk-container-id-14 input.sk-toggleable__control:checked~div.sk-toggleable__content {max-height: 200px;max-width: 100%;overflow: auto;}#sk-container-id-14 input.sk-toggleable__control:checked~label.sk-toggleable__label-arrow:before {content: \"▾\";}#sk-container-id-14 div.sk-estimator input.sk-toggleable__control:checked~label.sk-toggleable__label {background-color: #d4ebff;}#sk-container-id-14 div.sk-label input.sk-toggleable__control:checked~label.sk-toggleable__label {background-color: #d4ebff;}#sk-container-id-14 input.sk-hidden--visually {border: 0;clip: rect(1px 1px 1px 1px);clip: rect(1px, 1px, 1px, 1px);height: 1px;margin: -1px;overflow: hidden;padding: 0;position: absolute;width: 1px;}#sk-container-id-14 div.sk-estimator {font-family: monospace;background-color: #f0f8ff;border: 1px dotted black;border-radius: 0.25em;box-sizing: border-box;margin-bottom: 0.5em;}#sk-container-id-14 div.sk-estimator:hover {background-color: #d4ebff;}#sk-container-id-14 div.sk-parallel-item::after {content: \"\";width: 100%;border-bottom: 1px solid gray;flex-grow: 1;}#sk-container-id-14 div.sk-label:hover label.sk-toggleable__label {background-color: #d4ebff;}#sk-container-id-14 div.sk-serial::before {content: \"\";position: absolute;border-left: 1px solid gray;box-sizing: border-box;top: 0;bottom: 0;left: 50%;z-index: 0;}#sk-container-id-14 div.sk-serial {display: flex;flex-direction: column;align-items: center;background-color: white;padding-right: 0.2em;padding-left: 0.2em;position: relative;}#sk-container-id-14 div.sk-item {position: relative;z-index: 1;}#sk-container-id-14 div.sk-parallel {display: flex;align-items: stretch;justify-content: center;background-color: white;position: relative;}#sk-container-id-14 div.sk-item::before, #sk-container-id-14 div.sk-parallel-item::before {content: \"\";position: absolute;border-left: 1px solid gray;box-sizing: border-box;top: 0;bottom: 0;left: 50%;z-index: -1;}#sk-container-id-14 div.sk-parallel-item {display: flex;flex-direction: column;z-index: 1;position: relative;background-color: white;}#sk-container-id-14 div.sk-parallel-item:first-child::after {align-self: flex-end;width: 50%;}#sk-container-id-14 div.sk-parallel-item:last-child::after {align-self: flex-start;width: 50%;}#sk-container-id-14 div.sk-parallel-item:only-child::after {width: 0;}#sk-container-id-14 div.sk-dashed-wrapped {border: 1px dashed gray;margin: 0 0.4em 0.5em 0.4em;box-sizing: border-box;padding-bottom: 0.4em;background-color: white;}#sk-container-id-14 div.sk-label label {font-family: monospace;font-weight: bold;display: inline-block;line-height: 1.2em;}#sk-container-id-14 div.sk-label-container {text-align: center;}#sk-container-id-14 div.sk-container {/* jupyter's `normalize.less` sets `[hidden] { display: none; }` but bootstrap.min.css set `[hidden] { display: none !important; }` so we also need the `!important` here to be able to override the default hidden behavior on the sphinx rendered scikit-learn.org. See: https://github.com/scikit-learn/scikit-learn/issues/21755 */display: inline-block !important;position: relative;}#sk-container-id-14 div.sk-text-repr-fallback {display: none;}</style><div id=\"sk-container-id-14\" class=\"sk-top-container\"><div class=\"sk-text-repr-fallback\"><pre>GaussianNB()</pre><b>In a Jupyter environment, please rerun this cell to show the HTML representation or trust the notebook. <br />On GitHub, the HTML representation is unable to render, please try loading this page with nbviewer.org.</b></div><div class=\"sk-container\" hidden><div class=\"sk-item\"><div class=\"sk-estimator sk-toggleable\"><input class=\"sk-toggleable__control sk-hidden--visually\" id=\"sk-estimator-id-14\" type=\"checkbox\" checked><label for=\"sk-estimator-id-14\" class=\"sk-toggleable__label sk-toggleable__label-arrow\">GaussianNB</label><div class=\"sk-toggleable__content\"><pre>GaussianNB()</pre></div></div></div></div></div>"
                        ],
                        "text/plain": [
                            "GaussianNB()"
                        ]
                    },
                    "execution_count": 458,
                    "metadata": {},
                    "output_type": "execute_result"
                }
            ],
            "source": [
                "clf = GaussianNB()\n",
                "clf.fit(X_train, y_train)"
            ]
        },
        {
            "cell_type": "code",
            "execution_count": 459,
            "metadata": {},
            "outputs": [
                {
                    "data": {
                        "text/plain": [
                            "0    438\n",
                            "1    230\n",
                            "Name: polarity, dtype: int64"
                        ]
                    },
                    "execution_count": 459,
                    "metadata": {},
                    "output_type": "execute_result"
                }
            ],
            "source": [
                "y_train.value_counts()"
            ]
        },
        {
            "cell_type": "code",
            "execution_count": 460,
            "metadata": {},
            "outputs": [],
            "source": [
                "y_train_pred = clf.predict(X_train)\n",
                "y_test_pred = clf.predict(X_test)"
            ]
        },
        {
            "cell_type": "code",
            "execution_count": 461,
            "metadata": {},
            "outputs": [
                {
                    "name": "stdout",
                    "output_type": "stream",
                    "text": [
                        "              precision    recall  f1-score   support\n",
                        "\n",
                        "         bad       1.00      0.98      0.99       438\n",
                        "        good       0.96      1.00      0.98       230\n",
                        "\n",
                        "    accuracy                           0.99       668\n",
                        "   macro avg       0.98      0.99      0.99       668\n",
                        "weighted avg       0.99      0.99      0.99       668\n",
                        "\n"
                    ]
                }
            ],
            "source": [
                "target_names = ['bad', 'good']\n",
                "print(classification_report(y_train, y_train_pred, target_names=target_names))"
            ]
        },
        {
            "cell_type": "code",
            "execution_count": 462,
            "metadata": {},
            "outputs": [
                {
                    "name": "stdout",
                    "output_type": "stream",
                    "text": [
                        "              precision    recall  f1-score   support\n",
                        "\n",
                        "         bad       0.80      0.83      0.81       146\n",
                        "        good       0.65      0.61      0.63        77\n",
                        "\n",
                        "    accuracy                           0.75       223\n",
                        "   macro avg       0.73      0.72      0.72       223\n",
                        "weighted avg       0.75      0.75      0.75       223\n",
                        "\n"
                    ]
                }
            ],
            "source": [
                "print(classification_report(y_test, y_test_pred, target_names=target_names))\n"
            ]
        },
        {
            "cell_type": "markdown",
            "metadata": {},
            "source": [
                "No resultó muy bueno - overfit"
            ]
        },
        {
            "cell_type": "markdown",
            "metadata": {},
            "source": [
                "# Naive Bayes\n",
                "\n",
                "Naive Bayes is a probabilistic algorithm for classification, based on Bayes Theorem. This algorithm really makes you understand a big deal about classification and it is probably one of the most useful algorithms for simple Machine Learning use cases. It is simple enough to be completed by hand."
            ]
        },
        {
            "cell_type": "code",
            "execution_count": 463,
            "metadata": {},
            "outputs": [
                {
                    "data": {
                        "text/html": [
                            "<style>#sk-container-id-15 {color: black;background-color: white;}#sk-container-id-15 pre{padding: 0;}#sk-container-id-15 div.sk-toggleable {background-color: white;}#sk-container-id-15 label.sk-toggleable__label {cursor: pointer;display: block;width: 100%;margin-bottom: 0;padding: 0.3em;box-sizing: border-box;text-align: center;}#sk-container-id-15 label.sk-toggleable__label-arrow:before {content: \"▸\";float: left;margin-right: 0.25em;color: #696969;}#sk-container-id-15 label.sk-toggleable__label-arrow:hover:before {color: black;}#sk-container-id-15 div.sk-estimator:hover label.sk-toggleable__label-arrow:before {color: black;}#sk-container-id-15 div.sk-toggleable__content {max-height: 0;max-width: 0;overflow: hidden;text-align: left;background-color: #f0f8ff;}#sk-container-id-15 div.sk-toggleable__content pre {margin: 0.2em;color: black;border-radius: 0.25em;background-color: #f0f8ff;}#sk-container-id-15 input.sk-toggleable__control:checked~div.sk-toggleable__content {max-height: 200px;max-width: 100%;overflow: auto;}#sk-container-id-15 input.sk-toggleable__control:checked~label.sk-toggleable__label-arrow:before {content: \"▾\";}#sk-container-id-15 div.sk-estimator input.sk-toggleable__control:checked~label.sk-toggleable__label {background-color: #d4ebff;}#sk-container-id-15 div.sk-label input.sk-toggleable__control:checked~label.sk-toggleable__label {background-color: #d4ebff;}#sk-container-id-15 input.sk-hidden--visually {border: 0;clip: rect(1px 1px 1px 1px);clip: rect(1px, 1px, 1px, 1px);height: 1px;margin: -1px;overflow: hidden;padding: 0;position: absolute;width: 1px;}#sk-container-id-15 div.sk-estimator {font-family: monospace;background-color: #f0f8ff;border: 1px dotted black;border-radius: 0.25em;box-sizing: border-box;margin-bottom: 0.5em;}#sk-container-id-15 div.sk-estimator:hover {background-color: #d4ebff;}#sk-container-id-15 div.sk-parallel-item::after {content: \"\";width: 100%;border-bottom: 1px solid gray;flex-grow: 1;}#sk-container-id-15 div.sk-label:hover label.sk-toggleable__label {background-color: #d4ebff;}#sk-container-id-15 div.sk-serial::before {content: \"\";position: absolute;border-left: 1px solid gray;box-sizing: border-box;top: 0;bottom: 0;left: 50%;z-index: 0;}#sk-container-id-15 div.sk-serial {display: flex;flex-direction: column;align-items: center;background-color: white;padding-right: 0.2em;padding-left: 0.2em;position: relative;}#sk-container-id-15 div.sk-item {position: relative;z-index: 1;}#sk-container-id-15 div.sk-parallel {display: flex;align-items: stretch;justify-content: center;background-color: white;position: relative;}#sk-container-id-15 div.sk-item::before, #sk-container-id-15 div.sk-parallel-item::before {content: \"\";position: absolute;border-left: 1px solid gray;box-sizing: border-box;top: 0;bottom: 0;left: 50%;z-index: -1;}#sk-container-id-15 div.sk-parallel-item {display: flex;flex-direction: column;z-index: 1;position: relative;background-color: white;}#sk-container-id-15 div.sk-parallel-item:first-child::after {align-self: flex-end;width: 50%;}#sk-container-id-15 div.sk-parallel-item:last-child::after {align-self: flex-start;width: 50%;}#sk-container-id-15 div.sk-parallel-item:only-child::after {width: 0;}#sk-container-id-15 div.sk-dashed-wrapped {border: 1px dashed gray;margin: 0 0.4em 0.5em 0.4em;box-sizing: border-box;padding-bottom: 0.4em;background-color: white;}#sk-container-id-15 div.sk-label label {font-family: monospace;font-weight: bold;display: inline-block;line-height: 1.2em;}#sk-container-id-15 div.sk-label-container {text-align: center;}#sk-container-id-15 div.sk-container {/* jupyter's `normalize.less` sets `[hidden] { display: none; }` but bootstrap.min.css set `[hidden] { display: none !important; }` so we also need the `!important` here to be able to override the default hidden behavior on the sphinx rendered scikit-learn.org. See: https://github.com/scikit-learn/scikit-learn/issues/21755 */display: inline-block !important;position: relative;}#sk-container-id-15 div.sk-text-repr-fallback {display: none;}</style><div id=\"sk-container-id-15\" class=\"sk-top-container\"><div class=\"sk-text-repr-fallback\"><pre>MultinomialNB()</pre><b>In a Jupyter environment, please rerun this cell to show the HTML representation or trust the notebook. <br />On GitHub, the HTML representation is unable to render, please try loading this page with nbviewer.org.</b></div><div class=\"sk-container\" hidden><div class=\"sk-item\"><div class=\"sk-estimator sk-toggleable\"><input class=\"sk-toggleable__control sk-hidden--visually\" id=\"sk-estimator-id-15\" type=\"checkbox\" checked><label for=\"sk-estimator-id-15\" class=\"sk-toggleable__label sk-toggleable__label-arrow\">MultinomialNB</label><div class=\"sk-toggleable__content\"><pre>MultinomialNB()</pre></div></div></div></div></div>"
                        ],
                        "text/plain": [
                            "MultinomialNB()"
                        ]
                    },
                    "execution_count": 463,
                    "metadata": {},
                    "output_type": "execute_result"
                }
            ],
            "source": [
                "clf_multinomial = MultinomialNB()\n",
                "clf_multinomial.fit(X_train, y_train)"
            ]
        },
        {
            "cell_type": "code",
            "execution_count": 464,
            "metadata": {},
            "outputs": [
                {
                    "data": {
                        "text/html": [
                            "<style>#sk-container-id-16 {color: black;background-color: white;}#sk-container-id-16 pre{padding: 0;}#sk-container-id-16 div.sk-toggleable {background-color: white;}#sk-container-id-16 label.sk-toggleable__label {cursor: pointer;display: block;width: 100%;margin-bottom: 0;padding: 0.3em;box-sizing: border-box;text-align: center;}#sk-container-id-16 label.sk-toggleable__label-arrow:before {content: \"▸\";float: left;margin-right: 0.25em;color: #696969;}#sk-container-id-16 label.sk-toggleable__label-arrow:hover:before {color: black;}#sk-container-id-16 div.sk-estimator:hover label.sk-toggleable__label-arrow:before {color: black;}#sk-container-id-16 div.sk-toggleable__content {max-height: 0;max-width: 0;overflow: hidden;text-align: left;background-color: #f0f8ff;}#sk-container-id-16 div.sk-toggleable__content pre {margin: 0.2em;color: black;border-radius: 0.25em;background-color: #f0f8ff;}#sk-container-id-16 input.sk-toggleable__control:checked~div.sk-toggleable__content {max-height: 200px;max-width: 100%;overflow: auto;}#sk-container-id-16 input.sk-toggleable__control:checked~label.sk-toggleable__label-arrow:before {content: \"▾\";}#sk-container-id-16 div.sk-estimator input.sk-toggleable__control:checked~label.sk-toggleable__label {background-color: #d4ebff;}#sk-container-id-16 div.sk-label input.sk-toggleable__control:checked~label.sk-toggleable__label {background-color: #d4ebff;}#sk-container-id-16 input.sk-hidden--visually {border: 0;clip: rect(1px 1px 1px 1px);clip: rect(1px, 1px, 1px, 1px);height: 1px;margin: -1px;overflow: hidden;padding: 0;position: absolute;width: 1px;}#sk-container-id-16 div.sk-estimator {font-family: monospace;background-color: #f0f8ff;border: 1px dotted black;border-radius: 0.25em;box-sizing: border-box;margin-bottom: 0.5em;}#sk-container-id-16 div.sk-estimator:hover {background-color: #d4ebff;}#sk-container-id-16 div.sk-parallel-item::after {content: \"\";width: 100%;border-bottom: 1px solid gray;flex-grow: 1;}#sk-container-id-16 div.sk-label:hover label.sk-toggleable__label {background-color: #d4ebff;}#sk-container-id-16 div.sk-serial::before {content: \"\";position: absolute;border-left: 1px solid gray;box-sizing: border-box;top: 0;bottom: 0;left: 50%;z-index: 0;}#sk-container-id-16 div.sk-serial {display: flex;flex-direction: column;align-items: center;background-color: white;padding-right: 0.2em;padding-left: 0.2em;position: relative;}#sk-container-id-16 div.sk-item {position: relative;z-index: 1;}#sk-container-id-16 div.sk-parallel {display: flex;align-items: stretch;justify-content: center;background-color: white;position: relative;}#sk-container-id-16 div.sk-item::before, #sk-container-id-16 div.sk-parallel-item::before {content: \"\";position: absolute;border-left: 1px solid gray;box-sizing: border-box;top: 0;bottom: 0;left: 50%;z-index: -1;}#sk-container-id-16 div.sk-parallel-item {display: flex;flex-direction: column;z-index: 1;position: relative;background-color: white;}#sk-container-id-16 div.sk-parallel-item:first-child::after {align-self: flex-end;width: 50%;}#sk-container-id-16 div.sk-parallel-item:last-child::after {align-self: flex-start;width: 50%;}#sk-container-id-16 div.sk-parallel-item:only-child::after {width: 0;}#sk-container-id-16 div.sk-dashed-wrapped {border: 1px dashed gray;margin: 0 0.4em 0.5em 0.4em;box-sizing: border-box;padding-bottom: 0.4em;background-color: white;}#sk-container-id-16 div.sk-label label {font-family: monospace;font-weight: bold;display: inline-block;line-height: 1.2em;}#sk-container-id-16 div.sk-label-container {text-align: center;}#sk-container-id-16 div.sk-container {/* jupyter's `normalize.less` sets `[hidden] { display: none; }` but bootstrap.min.css set `[hidden] { display: none !important; }` so we also need the `!important` here to be able to override the default hidden behavior on the sphinx rendered scikit-learn.org. See: https://github.com/scikit-learn/scikit-learn/issues/21755 */display: inline-block !important;position: relative;}#sk-container-id-16 div.sk-text-repr-fallback {display: none;}</style><div id=\"sk-container-id-16\" class=\"sk-top-container\"><div class=\"sk-text-repr-fallback\"><pre>MultinomialNB()</pre><b>In a Jupyter environment, please rerun this cell to show the HTML representation or trust the notebook. <br />On GitHub, the HTML representation is unable to render, please try loading this page with nbviewer.org.</b></div><div class=\"sk-container\" hidden><div class=\"sk-item\"><div class=\"sk-estimator sk-toggleable\"><input class=\"sk-toggleable__control sk-hidden--visually\" id=\"sk-estimator-id-16\" type=\"checkbox\" checked><label for=\"sk-estimator-id-16\" class=\"sk-toggleable__label sk-toggleable__label-arrow\">MultinomialNB</label><div class=\"sk-toggleable__content\"><pre>MultinomialNB()</pre></div></div></div></div></div>"
                        ],
                        "text/plain": [
                            "MultinomialNB()"
                        ]
                    },
                    "execution_count": 464,
                    "metadata": {},
                    "output_type": "execute_result"
                }
            ],
            "source": [
                "MultinomialNB()\n"
            ]
        },
        {
            "cell_type": "code",
            "execution_count": 465,
            "metadata": {},
            "outputs": [],
            "source": [
                "y_train_pred = clf_multinomial.predict(X_train)\n",
                "y_test_pred = clf_multinomial.predict(X_test)\n"
            ]
        },
        {
            "cell_type": "code",
            "execution_count": 466,
            "metadata": {},
            "outputs": [
                {
                    "name": "stdout",
                    "output_type": "stream",
                    "text": [
                        "              precision    recall  f1-score   support\n",
                        "\n",
                        "         bad       0.95      0.97      0.96       438\n",
                        "        good       0.95      0.90      0.92       230\n",
                        "\n",
                        "    accuracy                           0.95       668\n",
                        "   macro avg       0.95      0.94      0.94       668\n",
                        "weighted avg       0.95      0.95      0.95       668\n",
                        "\n"
                    ]
                }
            ],
            "source": [
                "print(classification_report(y_train, y_train_pred, target_names=target_names))\n"
            ]
        },
        {
            "cell_type": "code",
            "execution_count": 467,
            "metadata": {},
            "outputs": [
                {
                    "name": "stdout",
                    "output_type": "stream",
                    "text": [
                        "              precision    recall  f1-score   support\n",
                        "\n",
                        "         bad       0.86      0.90      0.88       146\n",
                        "        good       0.79      0.71      0.75        77\n",
                        "\n",
                        "    accuracy                           0.83       223\n",
                        "   macro avg       0.82      0.81      0.81       223\n",
                        "weighted avg       0.83      0.83      0.83       223\n",
                        "\n"
                    ]
                }
            ],
            "source": [
                "print(classification_report(y_test, y_test_pred, target_names=target_names))\n"
            ]
        },
        {
            "cell_type": "code",
            "execution_count": 468,
            "metadata": {},
            "outputs": [],
            "source": [
                "Z = vectorizer.transform(['I like this app'])"
            ]
        },
        {
            "cell_type": "code",
            "execution_count": 469,
            "metadata": {},
            "outputs": [
                {
                    "name": "stdout",
                    "output_type": "stream",
                    "text": [
                        "  (0, 142)\t1\n",
                        "  (0, 1602)\t1\n",
                        "(1, 3289)\n",
                        "  (0, 142)\t1\n",
                        "  (0, 1602)\t1\n"
                    ]
                }
            ],
            "source": [
                "print(np.array(Z))\n",
                "print(Z.shape)\n",
                "print(Z)"
            ]
        },
        {
            "cell_type": "code",
            "execution_count": 470,
            "metadata": {},
            "outputs": [
                {
                    "name": "stdout",
                    "output_type": "stream",
                    "text": [
                        "[1]\n"
                    ]
                }
            ],
            "source": [
                "# Modelo GaussianNB\n",
                "print(clf.predict(Z.toarray()))\n",
                "\n"
            ]
        },
        {
            "cell_type": "code",
            "execution_count": 471,
            "metadata": {},
            "outputs": [
                {
                    "name": "stdout",
                    "output_type": "stream",
                    "text": [
                        "[1]\n"
                    ]
                }
            ],
            "source": [
                "# Modelo Multinomial\n",
                "print(clf_multinomial.predict(Z.toarray()))\n"
            ]
        },
        {
            "cell_type": "code",
            "execution_count": 472,
            "metadata": {},
            "outputs": [
                {
                    "data": {
                        "text/html": [
                            "<div>\n",
                            "<style scoped>\n",
                            "    .dataframe tbody tr th:only-of-type {\n",
                            "        vertical-align: middle;\n",
                            "    }\n",
                            "\n",
                            "    .dataframe tbody tr th {\n",
                            "        vertical-align: top;\n",
                            "    }\n",
                            "\n",
                            "    .dataframe thead th {\n",
                            "        text-align: right;\n",
                            "    }\n",
                            "</style>\n",
                            "<table border=\"1\" class=\"dataframe\">\n",
                            "  <thead>\n",
                            "    <tr style=\"text-align: right;\">\n",
                            "      <th></th>\n",
                            "      <th>review</th>\n",
                            "      <th>polarity</th>\n",
                            "    </tr>\n",
                            "  </thead>\n",
                            "  <tbody>\n",
                            "    <tr>\n",
                            "      <th>881</th>\n",
                            "      <td>game ruined felt like playing awhile imediately second awful mobile game ad poped second level loking store realized pay remove yep</td>\n",
                            "      <td>0</td>\n",
                            "    </tr>\n",
                            "    <tr>\n",
                            "      <th>882</th>\n",
                            "      <td>ads way many ads even enjoy game amount ads every level</td>\n",
                            "      <td>0</td>\n",
                            "    </tr>\n",
                            "    <tr>\n",
                            "      <th>883</th>\n",
                            "      <td>great game many ads almost worth</td>\n",
                            "      <td>1</td>\n",
                            "    </tr>\n",
                            "    <tr>\n",
                            "      <th>884</th>\n",
                            "      <td>fun hard angry birds realy fun video game people least year olds people lot years older one really chalenge teach children control even though ba litle</td>\n",
                            "      <td>1</td>\n",
                            "    </tr>\n",
                            "    <tr>\n",
                            "      <th>885</th>\n",
                            "      <td>many ads far adverts game know fre ned ads make profit neds</td>\n",
                            "      <td>1</td>\n",
                            "    </tr>\n",
                            "    <tr>\n",
                            "      <th>886</th>\n",
                            "      <td>loved incredible awesome go power make new clash clans thing but beter</td>\n",
                            "      <td>1</td>\n",
                            "    </tr>\n",
                            "    <tr>\n",
                            "      <th>887</th>\n",
                            "      <td>time legendary game birthday party levels short fuse levels pigs crash onto diferent chemicals players cringe much ads close ur conection play ads trouble</td>\n",
                            "      <td>1</td>\n",
                            "    </tr>\n",
                            "    <tr>\n",
                            "      <th>888</th>\n",
                            "      <td>ads way heavy listen bad ads every round whether pas fail sometimes ads next round starts spend time ads game develop web aps honestly many people rely ads make apreciate however developers went far beyond frankly disrespectful</td>\n",
                            "      <td>0</td>\n",
                            "    </tr>\n",
                            "    <tr>\n",
                            "      <th>889</th>\n",
                            "      <td>fun works perfectly ads anoying think especialy fre</td>\n",
                            "      <td>1</td>\n",
                            "    </tr>\n",
                            "    <tr>\n",
                            "      <th>890</th>\n",
                            "      <td>everywhere se angry birds everywhere stop playing get head devs perfect</td>\n",
                            "      <td>1</td>\n",
                            "    </tr>\n",
                            "  </tbody>\n",
                            "</table>\n",
                            "</div>"
                        ],
                        "text/plain": [
                            "                                                                                                                                                                                                                                  review  \\\n",
                            "881                                                                                                  game ruined felt like playing awhile imediately second awful mobile game ad poped second level loking store realized pay remove yep   \n",
                            "882                                                                                                                                                                              ads way many ads even enjoy game amount ads every level   \n",
                            "883                                                                                                                                                                                                     great game many ads almost worth   \n",
                            "884                                                                              fun hard angry birds realy fun video game people least year olds people lot years older one really chalenge teach children control even though ba litle   \n",
                            "885                                                                                                                                                                          many ads far adverts game know fre ned ads make profit neds   \n",
                            "886                                                                                                                                                               loved incredible awesome go power make new clash clans thing but beter   \n",
                            "887                                                                           time legendary game birthday party levels short fuse levels pigs crash onto diferent chemicals players cringe much ads close ur conection play ads trouble   \n",
                            "888  ads way heavy listen bad ads every round whether pas fail sometimes ads next round starts spend time ads game develop web aps honestly many people rely ads make apreciate however developers went far beyond frankly disrespectful   \n",
                            "889                                                                                                                                                                                  fun works perfectly ads anoying think especialy fre   \n",
                            "890                                                                                                                                                              everywhere se angry birds everywhere stop playing get head devs perfect   \n",
                            "\n",
                            "     polarity  \n",
                            "881         0  \n",
                            "882         0  \n",
                            "883         1  \n",
                            "884         1  \n",
                            "885         1  \n",
                            "886         1  \n",
                            "887         1  \n",
                            "888         0  \n",
                            "889         1  \n",
                            "890         1  "
                        ]
                    },
                    "execution_count": 472,
                    "metadata": {},
                    "output_type": "execute_result"
                }
            ],
            "source": [
                "pd.set_option('display.max_colwidth', None)\n",
                "df.tail(10)"
            ]
        },
        {
            "cell_type": "code",
            "execution_count": 473,
            "metadata": {},
            "outputs": [
                {
                    "name": "stdout",
                    "output_type": "stream",
                    "text": [
                        "Gauss: [1]\n",
                        "Multi: [1]\n"
                    ]
                }
            ],
            "source": [
                "Z2 = vectorizer.transform(['I do not like this app'])\n",
                "\n",
                "# Modelo GaussianNB\n",
                "print(f\"Gauss: {clf.predict(Z2.toarray())}\")\n",
                "\n",
                "# Modelo Multinomial\n",
                "print(f\"Multi: {clf_multinomial.predict(Z2.toarray())}\")\n",
                "\n"
            ]
        },
        {
            "cell_type": "markdown",
            "metadata": {},
            "source": [
                "Guardar Modelo"
            ]
        },
        {
            "cell_type": "code",
            "execution_count": 474,
            "metadata": {},
            "outputs": [],
            "source": [
                "pickle.dump(clf_multinomial, open('../models/multinomial.pkl', 'wb'))"
            ]
        },
        {
            "cell_type": "markdown",
            "metadata": {},
            "source": [
                "Traer el Modelo"
            ]
        },
        {
            "cell_type": "code",
            "execution_count": 475,
            "metadata": {},
            "outputs": [],
            "source": [
                "load_model = pickle.load(open('../models/multinomial.pkl', 'rb'))\n"
            ]
        },
        {
            "cell_type": "code",
            "execution_count": 476,
            "metadata": {},
            "outputs": [
                {
                    "name": "stdout",
                    "output_type": "stream",
                    "text": [
                        "Multi: [1]\n"
                    ]
                }
            ],
            "source": [
                "Z2 = vectorizer.transform(['I do not like this app'])\n",
                "# Modelo Multinomial loaded\n",
                "print(f\"Multi: {load_model.predict(Z2.toarray())}\")\n",
                "\n"
            ]
        },
        {
            "cell_type": "code",
            "execution_count": 477,
            "metadata": {},
            "outputs": [
                {
                    "name": "stderr",
                    "output_type": "stream",
                    "text": [
                        "18637.60s - pydevd: Sending message related to process being replaced timed-out after 5 seconds\n"
                    ]
                },
                {
                    "name": "stdout",
                    "output_type": "stream",
                    "text": [
                        "Requirement already satisfied: torch in /home/gitpod/.pyenv/versions/3.8.13/lib/python3.8/site-packages (1.12.1)\n",
                        "Requirement already satisfied: typing-extensions in /home/gitpod/.pyenv/versions/3.8.13/lib/python3.8/site-packages (from torch) (4.3.0)\n",
                        "\n",
                        "\u001b[1m[\u001b[0m\u001b[34;49mnotice\u001b[0m\u001b[1;39;49m]\u001b[0m\u001b[39;49m A new release of pip available: \u001b[0m\u001b[31;49m22.2\u001b[0m\u001b[39;49m -> \u001b[0m\u001b[32;49m22.2.2\u001b[0m\n",
                        "\u001b[1m[\u001b[0m\u001b[34;49mnotice\u001b[0m\u001b[1;39;49m]\u001b[0m\u001b[39;49m To update, run: \u001b[0m\u001b[32;49mpip install --upgrade pip\u001b[0m\n"
                    ]
                },
                {
                    "name": "stderr",
                    "output_type": "stream",
                    "text": [
                        "18645.24s - pydevd: Sending message related to process being replaced timed-out after 5 seconds\n"
                    ]
                },
                {
                    "name": "stdout",
                    "output_type": "stream",
                    "text": [
                        "Requirement already satisfied: tensorflow in /home/gitpod/.pyenv/versions/3.8.13/lib/python3.8/site-packages (2.9.1)\n",
                        "Requirement already satisfied: keras-preprocessing>=1.1.1 in /home/gitpod/.pyenv/versions/3.8.13/lib/python3.8/site-packages (from tensorflow) (1.1.2)\n",
                        "Requirement already satisfied: tensorboard<2.10,>=2.9 in /home/gitpod/.pyenv/versions/3.8.13/lib/python3.8/site-packages (from tensorflow) (2.9.1)\n",
                        "Requirement already satisfied: six>=1.12.0 in /home/gitpod/.pyenv/versions/3.8.13/lib/python3.8/site-packages (from tensorflow) (1.16.0)\n",
                        "Requirement already satisfied: astunparse>=1.6.0 in /home/gitpod/.pyenv/versions/3.8.13/lib/python3.8/site-packages (from tensorflow) (1.6.3)\n",
                        "Requirement already satisfied: termcolor>=1.1.0 in /home/gitpod/.pyenv/versions/3.8.13/lib/python3.8/site-packages (from tensorflow) (1.1.0)\n",
                        "Requirement already satisfied: keras<2.10.0,>=2.9.0rc0 in /home/gitpod/.pyenv/versions/3.8.13/lib/python3.8/site-packages (from tensorflow) (2.9.0)\n",
                        "Requirement already satisfied: numpy>=1.20 in /home/gitpod/.pyenv/versions/3.8.13/lib/python3.8/site-packages (from tensorflow) (1.23.1)\n",
                        "Requirement already satisfied: libclang>=13.0.0 in /home/gitpod/.pyenv/versions/3.8.13/lib/python3.8/site-packages (from tensorflow) (14.0.6)\n",
                        "Requirement already satisfied: gast<=0.4.0,>=0.2.1 in /home/gitpod/.pyenv/versions/3.8.13/lib/python3.8/site-packages (from tensorflow) (0.4.0)\n",
                        "Requirement already satisfied: packaging in /home/gitpod/.pyenv/versions/3.8.13/lib/python3.8/site-packages (from tensorflow) (21.3)\n",
                        "Requirement already satisfied: tensorflow-io-gcs-filesystem>=0.23.1 in /home/gitpod/.pyenv/versions/3.8.13/lib/python3.8/site-packages (from tensorflow) (0.26.0)\n",
                        "Requirement already satisfied: grpcio<2.0,>=1.24.3 in /home/gitpod/.pyenv/versions/3.8.13/lib/python3.8/site-packages (from tensorflow) (1.47.0)\n",
                        "Requirement already satisfied: google-pasta>=0.1.1 in /home/gitpod/.pyenv/versions/3.8.13/lib/python3.8/site-packages (from tensorflow) (0.2.0)\n",
                        "Requirement already satisfied: setuptools in /home/gitpod/.pyenv/versions/3.8.13/lib/python3.8/site-packages (from tensorflow) (63.2.0)\n",
                        "Requirement already satisfied: tensorflow-estimator<2.10.0,>=2.9.0rc0 in /home/gitpod/.pyenv/versions/3.8.13/lib/python3.8/site-packages (from tensorflow) (2.9.0)\n",
                        "Requirement already satisfied: typing-extensions>=3.6.6 in /home/gitpod/.pyenv/versions/3.8.13/lib/python3.8/site-packages (from tensorflow) (4.3.0)\n",
                        "Requirement already satisfied: wrapt>=1.11.0 in /home/gitpod/.pyenv/versions/3.8.13/lib/python3.8/site-packages (from tensorflow) (1.14.1)\n",
                        "Requirement already satisfied: protobuf<3.20,>=3.9.2 in /home/gitpod/.pyenv/versions/3.8.13/lib/python3.8/site-packages (from tensorflow) (3.19.4)\n",
                        "Requirement already satisfied: absl-py>=1.0.0 in /home/gitpod/.pyenv/versions/3.8.13/lib/python3.8/site-packages (from tensorflow) (1.2.0)\n",
                        "Requirement already satisfied: opt-einsum>=2.3.2 in /home/gitpod/.pyenv/versions/3.8.13/lib/python3.8/site-packages (from tensorflow) (3.3.0)\n",
                        "Requirement already satisfied: flatbuffers<2,>=1.12 in /home/gitpod/.pyenv/versions/3.8.13/lib/python3.8/site-packages (from tensorflow) (1.12)\n",
                        "Requirement already satisfied: h5py>=2.9.0 in /home/gitpod/.pyenv/versions/3.8.13/lib/python3.8/site-packages (from tensorflow) (3.7.0)\n",
                        "Requirement already satisfied: wheel<1.0,>=0.23.0 in /home/gitpod/.pyenv/versions/3.8.13/lib/python3.8/site-packages (from astunparse>=1.6.0->tensorflow) (0.37.1)\n",
                        "Requirement already satisfied: requests<3,>=2.21.0 in /home/gitpod/.pyenv/versions/3.8.13/lib/python3.8/site-packages (from tensorboard<2.10,>=2.9->tensorflow) (2.28.1)\n",
                        "Requirement already satisfied: tensorboard-data-server<0.7.0,>=0.6.0 in /home/gitpod/.pyenv/versions/3.8.13/lib/python3.8/site-packages (from tensorboard<2.10,>=2.9->tensorflow) (0.6.1)\n",
                        "Requirement already satisfied: markdown>=2.6.8 in /home/gitpod/.pyenv/versions/3.8.13/lib/python3.8/site-packages (from tensorboard<2.10,>=2.9->tensorflow) (3.4.1)\n",
                        "Requirement already satisfied: google-auth<3,>=1.6.3 in /home/gitpod/.pyenv/versions/3.8.13/lib/python3.8/site-packages (from tensorboard<2.10,>=2.9->tensorflow) (2.10.0)\n",
                        "Requirement already satisfied: werkzeug>=1.0.1 in /home/gitpod/.pyenv/versions/3.8.13/lib/python3.8/site-packages (from tensorboard<2.10,>=2.9->tensorflow) (2.2.1)\n",
                        "Requirement already satisfied: tensorboard-plugin-wit>=1.6.0 in /home/gitpod/.pyenv/versions/3.8.13/lib/python3.8/site-packages (from tensorboard<2.10,>=2.9->tensorflow) (1.8.1)\n",
                        "Requirement already satisfied: google-auth-oauthlib<0.5,>=0.4.1 in /home/gitpod/.pyenv/versions/3.8.13/lib/python3.8/site-packages (from tensorboard<2.10,>=2.9->tensorflow) (0.4.6)\n",
                        "Requirement already satisfied: pyparsing!=3.0.5,>=2.0.2 in /home/gitpod/.pyenv/versions/3.8.13/lib/python3.8/site-packages (from packaging->tensorflow) (3.0.9)\n",
                        "Requirement already satisfied: rsa<5,>=3.1.4 in /home/gitpod/.pyenv/versions/3.8.13/lib/python3.8/site-packages (from google-auth<3,>=1.6.3->tensorboard<2.10,>=2.9->tensorflow) (4.9)\n",
                        "Requirement already satisfied: pyasn1-modules>=0.2.1 in /home/gitpod/.pyenv/versions/3.8.13/lib/python3.8/site-packages (from google-auth<3,>=1.6.3->tensorboard<2.10,>=2.9->tensorflow) (0.2.8)\n",
                        "Requirement already satisfied: cachetools<6.0,>=2.0.0 in /home/gitpod/.pyenv/versions/3.8.13/lib/python3.8/site-packages (from google-auth<3,>=1.6.3->tensorboard<2.10,>=2.9->tensorflow) (5.2.0)\n",
                        "Requirement already satisfied: requests-oauthlib>=0.7.0 in /home/gitpod/.pyenv/versions/3.8.13/lib/python3.8/site-packages (from google-auth-oauthlib<0.5,>=0.4.1->tensorboard<2.10,>=2.9->tensorflow) (1.3.1)\n",
                        "Requirement already satisfied: importlib-metadata>=4.4 in /home/gitpod/.pyenv/versions/3.8.13/lib/python3.8/site-packages (from markdown>=2.6.8->tensorboard<2.10,>=2.9->tensorflow) (4.12.0)\n",
                        "Requirement already satisfied: certifi>=2017.4.17 in /home/gitpod/.pyenv/versions/3.8.13/lib/python3.8/site-packages (from requests<3,>=2.21.0->tensorboard<2.10,>=2.9->tensorflow) (2022.6.15)\n",
                        "Requirement already satisfied: idna<4,>=2.5 in /home/gitpod/.pyenv/versions/3.8.13/lib/python3.8/site-packages (from requests<3,>=2.21.0->tensorboard<2.10,>=2.9->tensorflow) (3.3)\n",
                        "Requirement already satisfied: charset-normalizer<3,>=2 in /home/gitpod/.pyenv/versions/3.8.13/lib/python3.8/site-packages (from requests<3,>=2.21.0->tensorboard<2.10,>=2.9->tensorflow) (2.1.0)\n",
                        "Requirement already satisfied: urllib3<1.27,>=1.21.1 in /home/gitpod/.pyenv/versions/3.8.13/lib/python3.8/site-packages (from requests<3,>=2.21.0->tensorboard<2.10,>=2.9->tensorflow) (1.26.11)\n",
                        "Requirement already satisfied: MarkupSafe>=2.1.1 in /home/gitpod/.pyenv/versions/3.8.13/lib/python3.8/site-packages (from werkzeug>=1.0.1->tensorboard<2.10,>=2.9->tensorflow) (2.1.1)\n",
                        "Requirement already satisfied: zipp>=0.5 in /home/gitpod/.pyenv/versions/3.8.13/lib/python3.8/site-packages (from importlib-metadata>=4.4->markdown>=2.6.8->tensorboard<2.10,>=2.9->tensorflow) (3.8.1)\n",
                        "Requirement already satisfied: pyasn1<0.5.0,>=0.4.6 in /home/gitpod/.pyenv/versions/3.8.13/lib/python3.8/site-packages (from pyasn1-modules>=0.2.1->google-auth<3,>=1.6.3->tensorboard<2.10,>=2.9->tensorflow) (0.4.8)\n",
                        "Requirement already satisfied: oauthlib>=3.0.0 in /home/gitpod/.pyenv/versions/3.8.13/lib/python3.8/site-packages (from requests-oauthlib>=0.7.0->google-auth-oauthlib<0.5,>=0.4.1->tensorboard<2.10,>=2.9->tensorflow) (3.2.0)\n",
                        "\n",
                        "\u001b[1m[\u001b[0m\u001b[34;49mnotice\u001b[0m\u001b[1;39;49m]\u001b[0m\u001b[39;49m A new release of pip available: \u001b[0m\u001b[31;49m22.2\u001b[0m\u001b[39;49m -> \u001b[0m\u001b[32;49m22.2.2\u001b[0m\n",
                        "\u001b[1m[\u001b[0m\u001b[34;49mnotice\u001b[0m\u001b[1;39;49m]\u001b[0m\u001b[39;49m To update, run: \u001b[0m\u001b[32;49mpip install --upgrade pip\u001b[0m\n"
                    ]
                },
                {
                    "name": "stderr",
                    "output_type": "stream",
                    "text": [
                        "18653.17s - pydevd: Sending message related to process being replaced timed-out after 5 seconds\n",
                        "No model was supplied, defaulted to distilbert-base-uncased-finetuned-sst-2-english and revision af0f99b (https://huggingface.co/distilbert-base-uncased-finetuned-sst-2-english).\n",
                        "Using a pipeline without specifying a model name and revision in production is not recommended.\n"
                    ]
                }
            ],
            "source": [
                "!pip install torch\n",
                "!pip install tensorflow\n",
                "!pip install -q transformers\n",
                "\n",
                "from transformers import pipeline\n",
                "sentiment_pipeline = pipeline(\"sentiment-analysis\")"
            ]
        },
        {
            "cell_type": "code",
            "execution_count": 478,
            "metadata": {},
            "outputs": [
                {
                    "data": {
                        "text/plain": [
                            "[{'label': 'POSITIVE', 'score': 0.9998656511306763},\n",
                            " {'label': 'NEGATIVE', 'score': 0.9991129040718079}]"
                        ]
                    },
                    "execution_count": 478,
                    "metadata": {},
                    "output_type": "execute_result"
                }
            ],
            "source": [
                "data = [\"I love you\", \"I hate you\"]\n",
                "sentiment_pipeline(data)"
            ]
        },
        {
            "cell_type": "code",
            "execution_count": 479,
            "metadata": {},
            "outputs": [
                {
                    "data": {
                        "text/plain": [
                            "array([0, 0, 0, 0])"
                        ]
                    },
                    "execution_count": 479,
                    "metadata": {},
                    "output_type": "execute_result"
                }
            ],
            "source": [
                "nb.predict(vec.transform(['i don\\'t like','eat much ram','eat','like']))\n"
            ]
        },
        {
            "cell_type": "code",
            "execution_count": 480,
            "metadata": {},
            "outputs": [
                {
                    "data": {
                        "text/plain": [
                            "array([1, 1, 0, 1])"
                        ]
                    },
                    "execution_count": 480,
                    "metadata": {},
                    "output_type": "execute_result"
                }
            ],
            "source": [
                "nb.predict(vec.transform(['love','great solid love important feature','ram','like fast']))"
            ]
        },
        {
            "cell_type": "code",
            "execution_count": 481,
            "metadata": {},
            "outputs": [
                {
                    "data": {
                        "text/plain": [
                            "679                              hamro keyboard god ap doubt however ading features definitely make best folowing things option caps lock key enabled made available leters available along also les options go numbers option one signs mising easy togle option phone keyboard ap keyboard made post\n",
                            "349                                                 viber voice mesages chating viber best ap caling services even mesenger performs ap optimised newest version new option introduced alows se friends sen mesage group wel working makes litle bit mad finaly function introduced viber stil working\n",
                            "701                                                                                                                                      stil best mini like new lok news front fast eficient though overal best around browsers id go maxthon yandex opera mini gold though uc mini coming along neds\n",
                            "182                                                                                                                                                                                                                                                                prety god say oh wait fun game play\n",
                            "663              god ap nice try dear developers great job done would sugest u get idea fleksy keyboard ap also shal get rating around would sugest make easy standard keys hamro best hope update new inovative idea ap sugested ap frenz nepal overseas since ap one best ap mine want se ap since r\n",
                            "260                                                                                                                                                                        chrome browser barister fine aplication like aplication also love thi esay browsing perfectly working given aplication star\n",
                            "472                                                                                                                                                        love switch sign buton sign option helps maintaing personal kep check constant adiction usage service help striking balance personal social\n",
                            "863                                                                                                                                                                        angry birds loks easy demand bit player may become frustrated never always find angry birds great way pas adverts alow skip\n",
                            "766                                                                                                                                                                                                                                                                                              loved\n",
                            "606    great ap god tol like virtual notebok binder file cabinet use diferent aps quick notes tasks would use tasks repeating reminders ability snoze also sync ned save notes receipts travel plans prayers spiritual writings evernote ap easy use never loses dependable love using desktop version\n",
                            "Name: review, dtype: object"
                        ]
                    },
                    "execution_count": 481,
                    "metadata": {},
                    "output_type": "execute_result"
                }
            ],
            "source": [
                "df[df['polarity']==1]['review'].sample(10)"
            ]
        },
        {
            "cell_type": "code",
            "execution_count": 482,
            "metadata": {},
            "outputs": [
                {
                    "data": {
                        "text/plain": [
                            "65              neds actual update twiter slows twets continue even takes long time load twet use moblie site version actualy use\n",
                            "166                                                      like review take advice cant save data though always find chest uninstal\n",
                            "308                          download pics used able download pics conversation save option long pres gives every option download\n",
                            "338    option separate viber se viber contacts separately shows together last update god cal drops video cal hear person properly\n",
                            "427                                     se change friend change nicknames mine setings change color anything fix please faster gr\n",
                            "36                             update uninstals everytime try update uninstals ap want know using data time update driving please\n",
                            "392                    major anoyance new update show online define online gogle using timestamps please ad dark mode feature wel\n",
                            "699                                                     cant download big things cant download mb says failed tel work ur fix plz\n",
                            "221                                                ap load since update ap even stuck downloading content uninstal going eror fix\n",
                            "505                                                      ned swipe images nice ap would realy nice could swipe images viewing ful\n",
                            "Name: review, dtype: object"
                        ]
                    },
                    "execution_count": 482,
                    "metadata": {},
                    "output_type": "execute_result"
                }
            ],
            "source": [
                "df[df['polarity']==0]['review'].sample(10)"
            ]
        },
        {
            "cell_type": "markdown",
            "metadata": {},
            "source": [
                "Save the model \n"
            ]
        },
        {
            "cell_type": "code",
            "execution_count": 483,
            "metadata": {},
            "outputs": [],
            "source": [
                "#filename = '../modelo_final.sav' #use absolute path\n",
                "#pickle.dump(nb, open('../models/modelo_final.sav', 'wb'))\n"
            ]
        }
    ],
    "metadata": {
        "kernelspec": {
            "display_name": "Python 3.8.13 64-bit ('3.8.13')",
            "language": "python",
            "name": "python3"
        },
        "language_info": {
            "codemirror_mode": {
                "name": "ipython",
                "version": 3
            },
            "file_extension": ".py",
            "mimetype": "text/x-python",
            "name": "python",
            "nbconvert_exporter": "python",
            "pygments_lexer": "ipython3",
            "version": "3.8.13"
        },
        "orig_nbformat": 4,
        "vscode": {
            "interpreter": {
                "hash": "110cc1dee26208153f2972f08a2ad52b6a56238dc66d48e87fb757ef2996db56"
            }
        }
    },
    "nbformat": 4,
    "nbformat_minor": 2
}
