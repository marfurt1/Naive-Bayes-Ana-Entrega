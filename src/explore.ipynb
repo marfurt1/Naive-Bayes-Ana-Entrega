{
    "cells": [
        {
            "cell_type": "markdown",
            "metadata": {},
            "source": [
                "# Case\n",
                "\n",
                "Naive sentiment analysis\n",
                "\n",
                "This is a simple project using Naive Bayes Classifier and Scikit-learn to create a Google Play store reviews classifier (Sentiment Analysis) in Python. You will categorize user reviews as good or bad. The Naive Bayes classification technique is a simple and powerful classification task in machine learning. The Naive Bayes classification technique is a simple and powerful classification task in machine learning. In this dataset, we use the 23 most popular mobile apps, and only two columns.\n",
                "\n",
                "Step 1:\n",
                "\n",
                "We have three columns: package name, review and polarity (0 = bad, 1 = good) Preprocess the data by eliminating the package name column and putting all reviews in lower case.\n",
                "\n",
                "Step 2:\n",
                "\n",
                "Separate target from feature, and split your data.\n",
                "\n",
                "Step 3:\n",
                "\n",
                "Vectorize your features and use Naive Bayes to classify the reviews as good or bad. We will not focus on hypertuning our model this time. This was an introduction project to sentiment analysis using Naive Bayes.\n",
                "\n",
                "Step 4:\n",
                "\n",
                "Use the app.py to create your pipeline.\n",
                "\n",
                "Save your naive bayes classification model in the 'models' folder."
            ]
        },
        {
            "cell_type": "markdown",
            "metadata": {},
            "source": [
                "Insall de libraries"
            ]
        },
        {
            "cell_type": "code",
            "execution_count": 1,
            "metadata": {},
            "outputs": [
                {
                    "name": "stdout",
                    "output_type": "stream",
                    "text": [
                        "Collecting pandas\n",
                        "  Downloading pandas-1.4.3-cp38-cp38-manylinux_2_17_x86_64.manylinux2014_x86_64.whl (11.7 MB)\n",
                        "\u001b[2K     \u001b[90m━━━━━━━━━━━━━━━━━━━━━━━━━━━━━━━━━━━━━━━━\u001b[0m \u001b[32m11.7/11.7 MB\u001b[0m \u001b[31m97.4 MB/s\u001b[0m eta \u001b[36m0:00:00\u001b[0m00:01\u001b[0m00:01\u001b[0m\n",
                        "\u001b[?25hCollecting pytz>=2020.1\n",
                        "  Downloading pytz-2022.1-py2.py3-none-any.whl (503 kB)\n",
                        "\u001b[2K     \u001b[90m━━━━━━━━━━━━━━━━━━━━━━━━━━━━━━━━━━━━━━\u001b[0m \u001b[32m503.5/503.5 kB\u001b[0m \u001b[31m81.1 MB/s\u001b[0m eta \u001b[36m0:00:00\u001b[0m\n",
                        "\u001b[?25hRequirement already satisfied: python-dateutil>=2.8.1 in /home/gitpod/.pyenv/versions/3.8.13/lib/python3.8/site-packages (from pandas) (2.8.2)\n",
                        "Collecting numpy>=1.18.5\n",
                        "  Downloading numpy-1.23.1-cp38-cp38-manylinux_2_17_x86_64.manylinux2014_x86_64.whl (17.1 MB)\n",
                        "\u001b[2K     \u001b[90m━━━━━━━━━━━━━━━━━━━━━━━━━━━━━━━━━━━━━━━━\u001b[0m \u001b[32m17.1/17.1 MB\u001b[0m \u001b[31m93.3 MB/s\u001b[0m eta \u001b[36m0:00:00\u001b[0m00:01\u001b[0m00:01\u001b[0m\n",
                        "\u001b[?25hRequirement already satisfied: six>=1.5 in /home/gitpod/.pyenv/versions/3.8.13/lib/python3.8/site-packages (from python-dateutil>=2.8.1->pandas) (1.16.0)\n",
                        "Installing collected packages: pytz, numpy, pandas\n",
                        "Successfully installed numpy-1.23.1 pandas-1.4.3 pytz-2022.1\n",
                        "\n",
                        "\u001b[1m[\u001b[0m\u001b[34;49mnotice\u001b[0m\u001b[1;39;49m]\u001b[0m\u001b[39;49m A new release of pip available: \u001b[0m\u001b[31;49m22.2\u001b[0m\u001b[39;49m -> \u001b[0m\u001b[32;49m22.2.2\u001b[0m\n",
                        "\u001b[1m[\u001b[0m\u001b[34;49mnotice\u001b[0m\u001b[1;39;49m]\u001b[0m\u001b[39;49m To update, run: \u001b[0m\u001b[32;49mpip install --upgrade pip\u001b[0m\n",
                        "Requirement already satisfied: numpy in /home/gitpod/.pyenv/versions/3.8.13/lib/python3.8/site-packages (1.23.1)\n",
                        "\n",
                        "\u001b[1m[\u001b[0m\u001b[34;49mnotice\u001b[0m\u001b[1;39;49m]\u001b[0m\u001b[39;49m A new release of pip available: \u001b[0m\u001b[31;49m22.2\u001b[0m\u001b[39;49m -> \u001b[0m\u001b[32;49m22.2.2\u001b[0m\n",
                        "\u001b[1m[\u001b[0m\u001b[34;49mnotice\u001b[0m\u001b[1;39;49m]\u001b[0m\u001b[39;49m To update, run: \u001b[0m\u001b[32;49mpip install --upgrade pip\u001b[0m\n",
                        "Collecting sklearn\n",
                        "  Downloading sklearn-0.0.tar.gz (1.1 kB)\n",
                        "  Preparing metadata (setup.py) ... \u001b[?25ldone\n",
                        "\u001b[?25hCollecting scikit-learn\n",
                        "  Downloading scikit_learn-1.1.2-cp38-cp38-manylinux_2_17_x86_64.manylinux2014_x86_64.whl (31.2 MB)\n",
                        "\u001b[2K     \u001b[90m━━━━━━━━━━━━━━━━━━━━━━━━━━━━━━━━━━━━━━━━\u001b[0m \u001b[32m31.2/31.2 MB\u001b[0m \u001b[31m47.3 MB/s\u001b[0m eta \u001b[36m0:00:00\u001b[0m00:01\u001b[0m00:01\u001b[0m\n",
                        "\u001b[?25hCollecting scipy>=1.3.2\n",
                        "  Downloading scipy-1.9.0-cp38-cp38-manylinux_2_17_x86_64.manylinux2014_x86_64.whl (43.4 MB)\n",
                        "\u001b[2K     \u001b[90m━━━━━━━━━━━━━━━━━━━━━━━━━━━━━━━━━━━━━━━━\u001b[0m \u001b[32m43.4/43.4 MB\u001b[0m \u001b[31m42.1 MB/s\u001b[0m eta \u001b[36m0:00:00\u001b[0m00:01\u001b[0m00:01\u001b[0m\n",
                        "\u001b[?25hCollecting threadpoolctl>=2.0.0\n",
                        "  Downloading threadpoolctl-3.1.0-py3-none-any.whl (14 kB)\n",
                        "Collecting joblib>=1.0.0\n",
                        "  Downloading joblib-1.1.0-py2.py3-none-any.whl (306 kB)\n",
                        "\u001b[2K     \u001b[90m━━━━━━━━━━━━━━━━━━━━━━━━━━━━━━━━━━━━━━\u001b[0m \u001b[32m307.0/307.0 kB\u001b[0m \u001b[31m96.0 MB/s\u001b[0m eta \u001b[36m0:00:00\u001b[0m\n",
                        "\u001b[?25hRequirement already satisfied: numpy>=1.17.3 in /home/gitpod/.pyenv/versions/3.8.13/lib/python3.8/site-packages (from scikit-learn->sklearn) (1.23.1)\n",
                        "Building wheels for collected packages: sklearn\n",
                        "  Building wheel for sklearn (setup.py) ... \u001b[?25ldone\n",
                        "\u001b[?25h  Created wheel for sklearn: filename=sklearn-0.0-py2.py3-none-any.whl size=1304 sha256=76ef1b7bfab720be08984ac5b539f117f400bb3d705573a37c822bcc04023972\n",
                        "  Stored in directory: /home/gitpod/.cache/pip/wheels/22/0b/40/fd3f795caaa1fb4c6cb738bc1f56100be1e57da95849bfc897\n",
                        "Successfully built sklearn\n",
                        "Installing collected packages: threadpoolctl, scipy, joblib, scikit-learn, sklearn\n",
                        "Successfully installed joblib-1.1.0 scikit-learn-1.1.2 scipy-1.9.0 sklearn-0.0 threadpoolctl-3.1.0\n",
                        "\n",
                        "\u001b[1m[\u001b[0m\u001b[34;49mnotice\u001b[0m\u001b[1;39;49m]\u001b[0m\u001b[39;49m A new release of pip available: \u001b[0m\u001b[31;49m22.2\u001b[0m\u001b[39;49m -> \u001b[0m\u001b[32;49m22.2.2\u001b[0m\n",
                        "\u001b[1m[\u001b[0m\u001b[34;49mnotice\u001b[0m\u001b[1;39;49m]\u001b[0m\u001b[39;49m To update, run: \u001b[0m\u001b[32;49mpip install --upgrade pip\u001b[0m\n",
                        "Collecting nltk\n",
                        "  Downloading nltk-3.7-py3-none-any.whl (1.5 MB)\n",
                        "\u001b[2K     \u001b[90m━━━━━━━━━━━━━━━━━━━━━━━━━━━━━━━━━━━━━━━━\u001b[0m \u001b[32m1.5/1.5 MB\u001b[0m \u001b[31m31.5 MB/s\u001b[0m eta \u001b[36m0:00:00\u001b[0ma \u001b[36m0:00:01\u001b[0m\n",
                        "\u001b[?25hRequirement already satisfied: joblib in /home/gitpod/.pyenv/versions/3.8.13/lib/python3.8/site-packages (from nltk) (1.1.0)\n",
                        "Collecting regex>=2021.8.3\n",
                        "  Downloading regex-2022.7.25-cp38-cp38-manylinux_2_17_x86_64.manylinux2014_x86_64.whl (768 kB)\n",
                        "\u001b[2K     \u001b[90m━━━━━━━━━━━━━━━━━━━━━━━━━━━━━━━━━━━━━\u001b[0m \u001b[32m768.2/768.2 kB\u001b[0m \u001b[31m104.8 MB/s\u001b[0m eta \u001b[36m0:00:00\u001b[0m\n",
                        "\u001b[?25hCollecting click\n",
                        "  Downloading click-8.1.3-py3-none-any.whl (96 kB)\n",
                        "\u001b[2K     \u001b[90m━━━━━━━━━━━━━━━━━━━━━━━━━━━━━━━━━━━━━━━━\u001b[0m \u001b[32m96.6/96.6 kB\u001b[0m \u001b[31m33.4 MB/s\u001b[0m eta \u001b[36m0:00:00\u001b[0m\n",
                        "\u001b[?25hCollecting tqdm\n",
                        "  Downloading tqdm-4.64.0-py2.py3-none-any.whl (78 kB)\n",
                        "\u001b[2K     \u001b[90m━━━━━━━━━━━━━━━━━━━━━━━━━━━━━━━━━━━━━━━━\u001b[0m \u001b[32m78.4/78.4 kB\u001b[0m \u001b[31m24.3 MB/s\u001b[0m eta \u001b[36m0:00:00\u001b[0m\n",
                        "\u001b[?25hInstalling collected packages: tqdm, regex, click, nltk\n",
                        "Successfully installed click-8.1.3 nltk-3.7 regex-2022.7.25 tqdm-4.64.0\n",
                        "\n",
                        "\u001b[1m[\u001b[0m\u001b[34;49mnotice\u001b[0m\u001b[1;39;49m]\u001b[0m\u001b[39;49m A new release of pip available: \u001b[0m\u001b[31;49m22.2\u001b[0m\u001b[39;49m -> \u001b[0m\u001b[32;49m22.2.2\u001b[0m\n",
                        "\u001b[1m[\u001b[0m\u001b[34;49mnotice\u001b[0m\u001b[1;39;49m]\u001b[0m\u001b[39;49m To update, run: \u001b[0m\u001b[32;49mpip install --upgrade pip\u001b[0m\n",
                        "Collecting matplotlib\n",
                        "  Downloading matplotlib-3.5.2-cp38-cp38-manylinux_2_5_x86_64.manylinux1_x86_64.whl (11.3 MB)\n",
                        "\u001b[2K     \u001b[90m━━━━━━━━━━━━━━━━━━━━━━━━━━━━━━━━━━━━━━━\u001b[0m \u001b[32m11.3/11.3 MB\u001b[0m \u001b[31m112.7 MB/s\u001b[0m eta \u001b[36m0:00:00\u001b[0m00:01\u001b[0m0:01\u001b[0m\n",
                        "\u001b[?25hCollecting kiwisolver>=1.0.1\n",
                        "  Downloading kiwisolver-1.4.4-cp38-cp38-manylinux_2_5_x86_64.manylinux1_x86_64.whl (1.2 MB)\n",
                        "\u001b[2K     \u001b[90m━━━━━━━━━━━━━━━━━━━━━━━━━━━━━━━━━━━━━━━━\u001b[0m \u001b[32m1.2/1.2 MB\u001b[0m \u001b[31m136.1 MB/s\u001b[0m eta \u001b[36m0:00:00\u001b[0m\n",
                        "\u001b[?25hRequirement already satisfied: packaging>=20.0 in /home/gitpod/.pyenv/versions/3.8.13/lib/python3.8/site-packages (from matplotlib) (21.3)\n",
                        "Collecting cycler>=0.10\n",
                        "  Downloading cycler-0.11.0-py3-none-any.whl (6.4 kB)\n",
                        "Requirement already satisfied: pyparsing>=2.2.1 in /home/gitpod/.pyenv/versions/3.8.13/lib/python3.8/site-packages (from matplotlib) (3.0.9)\n",
                        "Requirement already satisfied: numpy>=1.17 in /home/gitpod/.pyenv/versions/3.8.13/lib/python3.8/site-packages (from matplotlib) (1.23.1)\n",
                        "Requirement already satisfied: python-dateutil>=2.7 in /home/gitpod/.pyenv/versions/3.8.13/lib/python3.8/site-packages (from matplotlib) (2.8.2)\n",
                        "Collecting fonttools>=4.22.0\n",
                        "  Downloading fonttools-4.34.4-py3-none-any.whl (944 kB)\n",
                        "\u001b[2K     \u001b[90m━━━━━━━━━━━━━━━━━━━━━━━━━━━━━━━━━━━━━\u001b[0m \u001b[32m944.1/944.1 kB\u001b[0m \u001b[31m127.3 MB/s\u001b[0m eta \u001b[36m0:00:00\u001b[0m\n",
                        "\u001b[?25hCollecting pillow>=6.2.0\n",
                        "  Downloading Pillow-9.2.0-cp38-cp38-manylinux_2_28_x86_64.whl (3.2 MB)\n",
                        "\u001b[2K     \u001b[90m━━━━━━━━━━━━━━━━━━━━━━━━━━━━━━━━━━━━━━━━\u001b[0m \u001b[32m3.2/3.2 MB\u001b[0m \u001b[31m147.1 MB/s\u001b[0m eta \u001b[36m0:00:00\u001b[0m\n",
                        "\u001b[?25hRequirement already satisfied: six>=1.5 in /home/gitpod/.pyenv/versions/3.8.13/lib/python3.8/site-packages (from python-dateutil>=2.7->matplotlib) (1.16.0)\n",
                        "Installing collected packages: pillow, kiwisolver, fonttools, cycler, matplotlib\n",
                        "Successfully installed cycler-0.11.0 fonttools-4.34.4 kiwisolver-1.4.4 matplotlib-3.5.2 pillow-9.2.0\n",
                        "\n",
                        "\u001b[1m[\u001b[0m\u001b[34;49mnotice\u001b[0m\u001b[1;39;49m]\u001b[0m\u001b[39;49m A new release of pip available: \u001b[0m\u001b[31;49m22.2\u001b[0m\u001b[39;49m -> \u001b[0m\u001b[32;49m22.2.2\u001b[0m\n",
                        "\u001b[1m[\u001b[0m\u001b[34;49mnotice\u001b[0m\u001b[1;39;49m]\u001b[0m\u001b[39;49m To update, run: \u001b[0m\u001b[32;49mpip install --upgrade pip\u001b[0m\n",
                        "\u001b[31mERROR: Could not find a version that satisfies the requirement pickle (from versions: none)\u001b[0m\u001b[31m\n",
                        "\u001b[0m\u001b[31mERROR: No matching distribution found for pickle\u001b[0m\u001b[31m\n",
                        "\u001b[0m\n",
                        "\u001b[1m[\u001b[0m\u001b[34;49mnotice\u001b[0m\u001b[1;39;49m]\u001b[0m\u001b[39;49m A new release of pip available: \u001b[0m\u001b[31;49m22.2\u001b[0m\u001b[39;49m -> \u001b[0m\u001b[32;49m22.2.2\u001b[0m\n",
                        "\u001b[1m[\u001b[0m\u001b[34;49mnotice\u001b[0m\u001b[1;39;49m]\u001b[0m\u001b[39;49m To update, run: \u001b[0m\u001b[32;49mpip install --upgrade pip\u001b[0m\n",
                        "Note: you may need to restart the kernel to use updated packages.\n"
                    ]
                }
            ],
            "source": [
                "!pip install pandas\n",
                "!pip install numpy\n",
                "!pip install sklearn\n",
                "!pip install nltk\n",
                "!pip install matplotlib\n",
                "%pip install pickle"
            ]
        },
        {
            "cell_type": "markdown",
            "metadata": {},
            "source": [
                "Imports"
            ]
        },
        {
            "cell_type": "code",
            "execution_count": 2,
            "metadata": {},
            "outputs": [],
            "source": [
                "import pandas as pd\n",
                "import numpy as np\n",
                "import nltk #text processing\n",
                "import re\n",
                "import unicodedata\n",
                "import pickle\n",
                "import matplotlib.pyplot as plt\n",
                "%matplotlib inline\n",
                "from nltk.corpus import stopwords\n",
                "from sklearn.model_selection import train_test_split\n",
                "from sklearn.feature_extraction.text import CountVectorizer\n",
                "from sklearn.naive_bayes import MultinomialNB\n",
                "from sklearn.feature_extraction.text import TfidfVectorizer\n",
                "from sklearn.feature_extraction.text import TfidfTransformer\n",
                "from sklearn.naive_bayes import MultinomialNB\n",
                "from sklearn.pipeline import Pipeline\n",
                "from sklearn import metrics\n",
                "from sklearn.metrics import precision_recall_fscore_support\n",
                "from sklearn.metrics import confusion_matrix\n",
                "from sklearn.model_selection import RandomizedSearchCV\n",
                "from sklearn.metrics import classification_report\n",
                "from sklearn.naive_bayes import GaussianNB\n",
                "\n"
            ]
        },
        {
            "cell_type": "code",
            "execution_count": 3,
            "metadata": {},
            "outputs": [
                {
                    "name": "stderr",
                    "output_type": "stream",
                    "text": [
                        "[nltk_data] Downloading package stopwords to /home/gitpod/nltk_data...\n",
                        "[nltk_data]   Unzipping corpora/stopwords.zip.\n"
                    ]
                },
                {
                    "data": {
                        "text/plain": [
                            "True"
                        ]
                    },
                    "execution_count": 3,
                    "metadata": {},
                    "output_type": "execute_result"
                }
            ],
            "source": [
                "#load the words to use as filter\n",
                "nltk.download('stopwords')"
            ]
        },
        {
            "cell_type": "markdown",
            "metadata": {},
            "source": [
                "Load Data of Reviews"
            ]
        },
        {
            "cell_type": "code",
            "execution_count": 4,
            "metadata": {},
            "outputs": [],
            "source": [
                "url='https://raw.githubusercontent.com/4GeeksAcademy/naive-bayes-project-tutorial/main/playstore_reviews_dataset.csv'\n",
                "df = pd.read_csv(url)"
            ]
        },
        {
            "cell_type": "markdown",
            "metadata": {},
            "source": [
                "Explore Dataset"
            ]
        },
        {
            "cell_type": "code",
            "execution_count": 5,
            "metadata": {},
            "outputs": [
                {
                    "data": {
                        "text/html": [
                            "<div>\n",
                            "<style scoped>\n",
                            "    .dataframe tbody tr th:only-of-type {\n",
                            "        vertical-align: middle;\n",
                            "    }\n",
                            "\n",
                            "    .dataframe tbody tr th {\n",
                            "        vertical-align: top;\n",
                            "    }\n",
                            "\n",
                            "    .dataframe thead th {\n",
                            "        text-align: right;\n",
                            "    }\n",
                            "</style>\n",
                            "<table border=\"1\" class=\"dataframe\">\n",
                            "  <thead>\n",
                            "    <tr style=\"text-align: right;\">\n",
                            "      <th></th>\n",
                            "      <th>package_name</th>\n",
                            "      <th>review</th>\n",
                            "      <th>polarity</th>\n",
                            "    </tr>\n",
                            "  </thead>\n",
                            "  <tbody>\n",
                            "    <tr>\n",
                            "      <th>0</th>\n",
                            "      <td>com.facebook.katana</td>\n",
                            "      <td>privacy at least put some option appear offli...</td>\n",
                            "      <td>0</td>\n",
                            "    </tr>\n",
                            "    <tr>\n",
                            "      <th>1</th>\n",
                            "      <td>com.facebook.katana</td>\n",
                            "      <td>messenger issues ever since the last update, ...</td>\n",
                            "      <td>0</td>\n",
                            "    </tr>\n",
                            "    <tr>\n",
                            "      <th>2</th>\n",
                            "      <td>com.facebook.katana</td>\n",
                            "      <td>profile any time my wife or anybody has more ...</td>\n",
                            "      <td>0</td>\n",
                            "    </tr>\n",
                            "    <tr>\n",
                            "      <th>3</th>\n",
                            "      <td>com.facebook.katana</td>\n",
                            "      <td>the new features suck for those of us who don...</td>\n",
                            "      <td>0</td>\n",
                            "    </tr>\n",
                            "    <tr>\n",
                            "      <th>4</th>\n",
                            "      <td>com.facebook.katana</td>\n",
                            "      <td>forced reload on uploading pic on replying co...</td>\n",
                            "      <td>0</td>\n",
                            "    </tr>\n",
                            "  </tbody>\n",
                            "</table>\n",
                            "</div>"
                        ],
                        "text/plain": [
                            "          package_name                                             review  \\\n",
                            "0  com.facebook.katana   privacy at least put some option appear offli...   \n",
                            "1  com.facebook.katana   messenger issues ever since the last update, ...   \n",
                            "2  com.facebook.katana   profile any time my wife or anybody has more ...   \n",
                            "3  com.facebook.katana   the new features suck for those of us who don...   \n",
                            "4  com.facebook.katana   forced reload on uploading pic on replying co...   \n",
                            "\n",
                            "   polarity  \n",
                            "0         0  \n",
                            "1         0  \n",
                            "2         0  \n",
                            "3         0  \n",
                            "4         0  "
                        ]
                    },
                    "execution_count": 5,
                    "metadata": {},
                    "output_type": "execute_result"
                }
            ],
            "source": [
                "df.head()\n"
            ]
        },
        {
            "cell_type": "code",
            "execution_count": 6,
            "metadata": {},
            "outputs": [
                {
                    "data": {
                        "text/plain": [
                            "0    584\n",
                            "1    307\n",
                            "Name: polarity, dtype: int64"
                        ]
                    },
                    "execution_count": 6,
                    "metadata": {},
                    "output_type": "execute_result"
                }
            ],
            "source": [
                "df['polarity'].value_counts()"
            ]
        },
        {
            "cell_type": "code",
            "execution_count": 7,
            "metadata": {},
            "outputs": [
                {
                    "name": "stdout",
                    "output_type": "stream",
                    "text": [
                        "<class 'pandas.core.frame.DataFrame'>\n",
                        "RangeIndex: 891 entries, 0 to 890\n",
                        "Data columns (total 3 columns):\n",
                        " #   Column        Non-Null Count  Dtype \n",
                        "---  ------        --------------  ----- \n",
                        " 0   package_name  891 non-null    object\n",
                        " 1   review        891 non-null    object\n",
                        " 2   polarity      891 non-null    int64 \n",
                        "dtypes: int64(1), object(2)\n",
                        "memory usage: 21.0+ KB\n"
                    ]
                }
            ],
            "source": [
                "df.info()"
            ]
        },
        {
            "cell_type": "markdown",
            "metadata": {},
            "source": [
                "Package name, review and polarity (0 = bad, 1 = good)"
            ]
        },
        {
            "cell_type": "code",
            "execution_count": 8,
            "metadata": {},
            "outputs": [
                {
                    "data": {
                        "text/html": [
                            "<div>\n",
                            "<style scoped>\n",
                            "    .dataframe tbody tr th:only-of-type {\n",
                            "        vertical-align: middle;\n",
                            "    }\n",
                            "\n",
                            "    .dataframe tbody tr th {\n",
                            "        vertical-align: top;\n",
                            "    }\n",
                            "\n",
                            "    .dataframe thead th {\n",
                            "        text-align: right;\n",
                            "    }\n",
                            "</style>\n",
                            "<table border=\"1\" class=\"dataframe\">\n",
                            "  <thead>\n",
                            "    <tr style=\"text-align: right;\">\n",
                            "      <th></th>\n",
                            "      <th>package_name</th>\n",
                            "      <th>review</th>\n",
                            "      <th>polarity</th>\n",
                            "    </tr>\n",
                            "  </thead>\n",
                            "  <tbody>\n",
                            "    <tr>\n",
                            "      <th>73</th>\n",
                            "      <td>com.twitter.android</td>\n",
                            "      <td>love it you are able to see celebrity tweets ...</td>\n",
                            "      <td>1</td>\n",
                            "    </tr>\n",
                            "    <tr>\n",
                            "      <th>207</th>\n",
                            "      <td>com.supercell.clashofclans</td>\n",
                            "      <td>want to get all 5 stars ????? reduce the amou...</td>\n",
                            "      <td>0</td>\n",
                            "    </tr>\n",
                            "    <tr>\n",
                            "      <th>788</th>\n",
                            "      <td>org.mozilla.firefox</td>\n",
                            "      <td>shite. crashes constantly! test 1st does noth...</td>\n",
                            "      <td>0</td>\n",
                            "    </tr>\n",
                            "    <tr>\n",
                            "      <th>627</th>\n",
                            "      <td>com.uc.browser.en</td>\n",
                            "      <td>outstanding this app is not only fabulous on ...</td>\n",
                            "      <td>1</td>\n",
                            "    </tr>\n",
                            "    <tr>\n",
                            "      <th>27</th>\n",
                            "      <td>com.facebook.katana</td>\n",
                            "      <td>doesn't work 90% of the time. doesn't update ...</td>\n",
                            "      <td>0</td>\n",
                            "    </tr>\n",
                            "    <tr>\n",
                            "      <th>113</th>\n",
                            "      <td>com.linkedin.android</td>\n",
                            "      <td>groups??? ** edit: i changed my rating from o...</td>\n",
                            "      <td>1</td>\n",
                            "    </tr>\n",
                            "    <tr>\n",
                            "      <th>477</th>\n",
                            "      <td>com.Slack</td>\n",
                            "      <td>it sucks! i am always shown offline and unab...</td>\n",
                            "      <td>0</td>\n",
                            "    </tr>\n",
                            "    <tr>\n",
                            "      <th>873</th>\n",
                            "      <td>com.rovio.angrybirds</td>\n",
                            "      <td>such an awesome game love it a really fun gam...</td>\n",
                            "      <td>1</td>\n",
                            "    </tr>\n",
                            "    <tr>\n",
                            "      <th>341</th>\n",
                            "      <td>com.viber.voip</td>\n",
                            "      <td>voice messages problem most times recorded me...</td>\n",
                            "      <td>0</td>\n",
                            "    </tr>\n",
                            "    <tr>\n",
                            "      <th>119</th>\n",
                            "      <td>com.king.candycrushsaga</td>\n",
                            "      <td>why do u do this to me ok so i can't unlock t...</td>\n",
                            "      <td>0</td>\n",
                            "    </tr>\n",
                            "  </tbody>\n",
                            "</table>\n",
                            "</div>"
                        ],
                        "text/plain": [
                            "                   package_name  \\\n",
                            "73          com.twitter.android   \n",
                            "207  com.supercell.clashofclans   \n",
                            "788         org.mozilla.firefox   \n",
                            "627           com.uc.browser.en   \n",
                            "27          com.facebook.katana   \n",
                            "113        com.linkedin.android   \n",
                            "477                   com.Slack   \n",
                            "873        com.rovio.angrybirds   \n",
                            "341              com.viber.voip   \n",
                            "119     com.king.candycrushsaga   \n",
                            "\n",
                            "                                                review  polarity  \n",
                            "73    love it you are able to see celebrity tweets ...         1  \n",
                            "207   want to get all 5 stars ????? reduce the amou...         0  \n",
                            "788   shite. crashes constantly! test 1st does noth...         0  \n",
                            "627   outstanding this app is not only fabulous on ...         1  \n",
                            "27    doesn't work 90% of the time. doesn't update ...         0  \n",
                            "113   groups??? ** edit: i changed my rating from o...         1  \n",
                            "477    it sucks! i am always shown offline and unab...         0  \n",
                            "873   such an awesome game love it a really fun gam...         1  \n",
                            "341   voice messages problem most times recorded me...         0  \n",
                            "119   why do u do this to me ok so i can't unlock t...         0  "
                        ]
                    },
                    "execution_count": 8,
                    "metadata": {},
                    "output_type": "execute_result"
                }
            ],
            "source": [
                "df.sample(10)"
            ]
        },
        {
            "cell_type": "markdown",
            "metadata": {},
            "source": [
                "\n",
                "Text Processing - Clean\n",
                "\n",
                "Step 1 - change all to lower case\n"
            ]
        },
        {
            "cell_type": "code",
            "execution_count": 9,
            "metadata": {},
            "outputs": [],
            "source": [
                "#Preprocess the data by eliminating the package name column and putting all reviews in lower case.\n",
                "\n",
                "df.drop(['package_name'],axis=1, inplace=True)\n",
                "#chante all to lower case\n",
                "df['review'] = df['review'].str.lower()\n"
            ]
        },
        {
            "cell_type": "markdown",
            "metadata": {},
            "source": [
                "\n",
                "\n",
                "Step 2 - Remove all words that not have meaning to the search - stop words\n"
            ]
        },
        {
            "cell_type": "code",
            "execution_count": 10,
            "metadata": {},
            "outputs": [
                {
                    "data": {
                        "text/plain": [
                            "the       1293\n",
                            "to        1159\n",
                            "i         1084\n",
                            "and        853\n",
                            "it         778\n",
                            "a          619\n",
                            "is         555\n",
                            "my         442\n",
                            "this       421\n",
                            "for        410\n",
                            "of         390\n",
                            "but        348\n",
                            "in         340\n",
                            "on         325\n",
                            "not        318\n",
                            "app        317\n",
                            "you        315\n",
                            "that       260\n",
                            "have       252\n",
                            "with       220\n",
                            "so         203\n",
                            "be         194\n",
                            "no         186\n",
                            "when       182\n",
                            "if         180\n",
                            "or         169\n",
                            "all        163\n",
                            "can        158\n",
                            "as         148\n",
                            "me         145\n",
                            "are        139\n",
                            "it's       138\n",
                            "can't      137\n",
                            "update     136\n",
                            "new        136\n",
                            "like       135\n",
                            "fix        133\n",
                            "please     131\n",
                            "good       128\n",
                            "game       121\n",
                            "one        119\n",
                            "use        118\n",
                            "just       117\n",
                            "get        112\n",
                            "its        111\n",
                            "very       109\n",
                            "more       107\n",
                            "was        104\n",
                            "there      104\n",
                            "don't      103\n",
                            "now        102\n",
                            "will       102\n",
                            "even       101\n",
                            "from       101\n",
                            "at         100\n",
                            "up          99\n",
                            "great       99\n",
                            "time        93\n",
                            "your        90\n",
                            "do          89\n",
                            "dtype: int64"
                        ]
                    },
                    "execution_count": 10,
                    "metadata": {},
                    "output_type": "execute_result"
                }
            ],
            "source": [
                "#see, the word in the reviews, create a list of word and frecuency\n",
                "df['review'].str.split(expand = True).stack().value_counts()[:60] #(show top 60)"
            ]
        },
        {
            "cell_type": "code",
            "execution_count": 11,
            "metadata": {},
            "outputs": [],
            "source": [
                "#remove the stopword\n",
                "stop = stopwords.words('english')\n",
                "\n",
                "def remove_stopwords(text):\n",
                "  if text is not None:\n",
                "    #list of the word in the text\n",
                "    words = text.strip().split()\n",
                "    words_filtered = []\n",
                "    for word in words:\n",
                "      if word not in stop:\n",
                "        words_filtered.append(word)\n",
                "    result = \" \".join(words_filtered) #join the word in a text with space separation\n",
                "  else:\n",
                "      result = None\n",
                "  return result\n"
            ]
        },
        {
            "cell_type": "markdown",
            "metadata": {},
            "source": [
                "\n",
                "\n",
                "Eliminamos los caracteres desconocidos\n"
            ]
        },
        {
            "cell_type": "code",
            "execution_count": 12,
            "metadata": {},
            "outputs": [],
            "source": [
                "# elimina espacio libre al principio y al final\n",
                "df['review'] = df['review'].str.strip()\n",
                "df['review'] = df['review'].str.lower()\n"
            ]
        },
        {
            "cell_type": "code",
            "execution_count": 13,
            "metadata": {},
            "outputs": [
                {
                    "data": {
                        "text/plain": [
                            "0      privacy at least put some option appear offlin...\n",
                            "1      messenger issues ever since the last update, i...\n",
                            "2      profile any time my wife or anybody has more t...\n",
                            "3      the new features suck for those of us who don'...\n",
                            "4      forced reload on uploading pic on replying com...\n",
                            "                             ...                        \n",
                            "886    loved it i loooooooooooooovvved it because it ...\n",
                            "887    all time legendary game the birthday party lev...\n",
                            "888    ads are way to heavy listen to the bad reviews...\n",
                            "889    fun works perfectly well. ads aren't as annoyi...\n",
                            "890    they're everywhere i see angry birds everywher...\n",
                            "Name: review, Length: 891, dtype: object"
                        ]
                    },
                    "execution_count": 13,
                    "metadata": {},
                    "output_type": "execute_result"
                }
            ],
            "source": [
                "df['review']\n"
            ]
        },
        {
            "cell_type": "code",
            "execution_count": 14,
            "metadata": {},
            "outputs": [],
            "source": [
                "def normalize_str(text_string):\n",
                "    if text_string is not None:\n",
                "        result=unicodedata.normalize('NFD',text_string).encode('ascii','ignore').decode()\n",
                "    else:\n",
                "        result=None \n",
                "    return result"
            ]
        },
        {
            "cell_type": "code",
            "execution_count": 15,
            "metadata": {},
            "outputs": [],
            "source": [
                "df['review']=df['review'].apply(normalize_str)\n",
                "df['review']=df['review'].str.replace('!','')\n",
                "df['review']=df['review'].str.replace(',','')\n",
                "df['review']=df['review'].str.replace('&','')\n",
                "df['review']=df['review'].str.normalize('NFKC')\n",
                "df['review']=df['review'].str.replace(r'([a-zA-Z])\\1{2,}',r'\\1',regex=True)"
            ]
        },
        {
            "cell_type": "code",
            "execution_count": 16,
            "metadata": {},
            "outputs": [
                {
                    "data": {
                        "text/html": [
                            "<div>\n",
                            "<style scoped>\n",
                            "    .dataframe tbody tr th:only-of-type {\n",
                            "        vertical-align: middle;\n",
                            "    }\n",
                            "\n",
                            "    .dataframe tbody tr th {\n",
                            "        vertical-align: top;\n",
                            "    }\n",
                            "\n",
                            "    .dataframe thead th {\n",
                            "        text-align: right;\n",
                            "    }\n",
                            "</style>\n",
                            "<table border=\"1\" class=\"dataframe\">\n",
                            "  <thead>\n",
                            "    <tr style=\"text-align: right;\">\n",
                            "      <th></th>\n",
                            "      <th>review</th>\n",
                            "      <th>polarity</th>\n",
                            "    </tr>\n",
                            "  </thead>\n",
                            "  <tbody>\n",
                            "    <tr>\n",
                            "      <th>486</th>\n",
                            "      <td>when you'll add gif support i'll give you 5 st...</td>\n",
                            "      <td>1</td>\n",
                            "    </tr>\n",
                            "    <tr>\n",
                            "      <th>459</th>\n",
                            "      <td>wrong details of last seen after upgrading to ...</td>\n",
                            "      <td>0</td>\n",
                            "    </tr>\n",
                            "    <tr>\n",
                            "      <th>829</th>\n",
                            "      <td>j khojyo thyehi paine ek matra apps</td>\n",
                            "      <td>1</td>\n",
                            "    </tr>\n",
                            "    <tr>\n",
                            "      <th>729</th>\n",
                            "      <td>light fast and comfortable apps when i compare...</td>\n",
                            "      <td>1</td>\n",
                            "    </tr>\n",
                            "    <tr>\n",
                            "      <th>841</th>\n",
                            "      <td>all nepali must use</td>\n",
                            "      <td>1</td>\n",
                            "    </tr>\n",
                            "    <tr>\n",
                            "      <th>582</th>\n",
                            "      <td>evernote...forever evernote helps this busy mo...</td>\n",
                            "      <td>1</td>\n",
                            "    </tr>\n",
                            "    <tr>\n",
                            "      <th>136</th>\n",
                            "      <td>the scoring system on facebook gains more poin...</td>\n",
                            "      <td>0</td>\n",
                            "    </tr>\n",
                            "    <tr>\n",
                            "      <th>229</th>\n",
                            "      <td>sucks the new update especially the multiplaye...</td>\n",
                            "      <td>0</td>\n",
                            "    </tr>\n",
                            "    <tr>\n",
                            "      <th>262</th>\n",
                            "      <td>the best i agree totally with the last poster....</td>\n",
                            "      <td>1</td>\n",
                            "    </tr>\n",
                            "    <tr>\n",
                            "      <th>0</th>\n",
                            "      <td>privacy at least put some option appear offlin...</td>\n",
                            "      <td>0</td>\n",
                            "    </tr>\n",
                            "  </tbody>\n",
                            "</table>\n",
                            "</div>"
                        ],
                        "text/plain": [
                            "                                                review  polarity\n",
                            "486  when you'll add gif support i'll give you 5 st...         1\n",
                            "459  wrong details of last seen after upgrading to ...         0\n",
                            "829                j khojyo thyehi paine ek matra apps         1\n",
                            "729  light fast and comfortable apps when i compare...         1\n",
                            "841                                all nepali must use         1\n",
                            "582  evernote...forever evernote helps this busy mo...         1\n",
                            "136  the scoring system on facebook gains more poin...         0\n",
                            "229  sucks the new update especially the multiplaye...         0\n",
                            "262  the best i agree totally with the last poster....         1\n",
                            "0    privacy at least put some option appear offlin...         0"
                        ]
                    },
                    "execution_count": 16,
                    "metadata": {},
                    "output_type": "execute_result"
                }
            ],
            "source": [
                "df.sample(10)"
            ]
        },
        {
            "cell_type": "code",
            "execution_count": 17,
            "metadata": {},
            "outputs": [
                {
                    "data": {
                        "text/plain": [
                            "review      loved it rzrl app rrlrrl rrsrzrlrrl r rrsrzrlr...\n",
                            "polarity                                                    1\n",
                            "Name: 675, dtype: object"
                        ]
                    },
                    "execution_count": 17,
                    "metadata": {},
                    "output_type": "execute_result"
                }
            ],
            "source": [
                "df.iloc[675,]"
            ]
        },
        {
            "cell_type": "code",
            "execution_count": 18,
            "metadata": {},
            "outputs": [],
            "source": [
                "df_interim = df.copy()"
            ]
        },
        {
            "cell_type": "code",
            "execution_count": 19,
            "metadata": {},
            "outputs": [],
            "source": [
                "df_interim['review']=df_interim['review'].str.lower()"
            ]
        },
        {
            "cell_type": "code",
            "execution_count": 20,
            "metadata": {},
            "outputs": [],
            "source": [
                "df_interim['review'] = df_interim['review'].apply(remove_stopwords)\n"
            ]
        },
        {
            "cell_type": "code",
            "execution_count": 21,
            "metadata": {},
            "outputs": [
                {
                    "data": {
                        "text/plain": [
                            "app         351\n",
                            "update      150\n",
                            "game        140\n",
                            "please      138\n",
                            "like        137\n",
                            "can't       137\n",
                            "new         137\n",
                            "fix         135\n",
                            "good        134\n",
                            "use         123\n",
                            "one         120\n",
                            "great       115\n",
                            "get         112\n",
                            "even        102\n",
                            "time         98\n",
                            "browser      85\n",
                            "really       84\n",
                            "back         81\n",
                            "still        80\n",
                            "would        80\n",
                            "love         77\n",
                            "make         74\n",
                            "5            71\n",
                            "work         71\n",
                            "also         69\n",
                            "see          69\n",
                            "using        68\n",
                            "phone        68\n",
                            "i'm          67\n",
                            "open         66\n",
                            "it.          65\n",
                            "want         64\n",
                            "google       64\n",
                            "much         62\n",
                            "every        61\n",
                            "version      60\n",
                            "option       59\n",
                            "u            58\n",
                            "way          57\n",
                            "app.         56\n",
                            "go           56\n",
                            "android      56\n",
                            "used         55\n",
                            "best         54\n",
                            "download     53\n",
                            "better       53\n",
                            "play         52\n",
                            ".            51\n",
                            "give         50\n",
                            "send         49\n",
                            "people       48\n",
                            "able         48\n",
                            "message      47\n",
                            "since        47\n",
                            "many         46\n",
                            "works        45\n",
                            "apps         45\n",
                            "ads          45\n",
                            "keep         45\n",
                            "old          44\n",
                            "dtype: int64"
                        ]
                    },
                    "execution_count": 21,
                    "metadata": {},
                    "output_type": "execute_result"
                }
            ],
            "source": [
                "df_interim['review'].str.split(expand=True).stack().value_counts()[:60] "
            ]
        },
        {
            "cell_type": "code",
            "execution_count": 22,
            "metadata": {},
            "outputs": [],
            "source": [
                "def word_only_letters(word):\n",
                "    for c in word:\n",
                "        cat = unicodedata.category(c)\n",
                "        if cat not in ('Ll','Lu'):  #only letter upper y lower\n",
                "            return False\n",
                "    return True\n",
                "\n",
                "# clean only letter\n",
                "def text_only_letters(text):\n",
                "    if text is not None:\n",
                "        #list of the word in the text\n",
                "        words = text.strip().split()\n",
                "        words_filtered = []\n",
                "        for word in words:\n",
                "            if word_only_letters(word):\n",
                "                words_filtered.append(word)\n",
                "            result = \" \".join(words_filtered) #join the word in a text with space separation\n",
                "    else:\n",
                "        result = None\n",
                "    return result"
            ]
        },
        {
            "cell_type": "code",
            "execution_count": 23,
            "metadata": {},
            "outputs": [],
            "source": [
                "df_interim['review'] = df_interim['review'].apply(text_only_letters)"
            ]
        },
        {
            "cell_type": "code",
            "execution_count": 24,
            "metadata": {},
            "outputs": [],
            "source": [
                "#remove multi letter looove iiiitttt, or repeat secuence\n",
                "def replace_multiple_letters(message):\n",
                "  if message is not None:\n",
                "    result = re.sub(r'(.+?)\\1+', r'\\1', message)\n",
                "    #result = re.sub(r\"([a-zA-Z])＼1{2,}\", r\"＼1\", message)\n",
                "  else:\n",
                "    result = None\n",
                "  return result\n"
            ]
        },
        {
            "cell_type": "code",
            "execution_count": 25,
            "metadata": {},
            "outputs": [],
            "source": [
                "df_interim['review'] = df_interim['review'].apply(replace_multiple_letters)"
            ]
        },
        {
            "cell_type": "code",
            "execution_count": 26,
            "metadata": {},
            "outputs": [
                {
                    "data": {
                        "text/plain": [
                            "0      privacy least put option apear mean people lik...\n",
                            "1      mesenger isues ever since last update initial ...\n",
                            "2      profile time wife anybody one post view would ...\n",
                            "3      new features suck us working back buton guys m...\n",
                            "4      forced reload uploading pic replying coment la...\n",
                            "                             ...                        \n",
                            "886    loved incredible awesome go power make new cla...\n",
                            "887    time legendary game birthday party levels shor...\n",
                            "888    ads way heavy listen bad ads every round wheth...\n",
                            "889    fun works perfectly ads anoying think especial...\n",
                            "890    everywhere se angry birds everywhere stop play...\n",
                            "Name: review, Length: 891, dtype: object"
                        ]
                    },
                    "execution_count": 26,
                    "metadata": {},
                    "output_type": "execute_result"
                }
            ],
            "source": [
                "df_interim['review']"
            ]
        },
        {
            "cell_type": "code",
            "execution_count": 27,
            "metadata": {},
            "outputs": [],
            "source": [
                "#copy to df\n",
                "df = df_interim.copy()\n"
            ]
        },
        {
            "cell_type": "markdown",
            "metadata": {},
            "source": [
                "\n",
                "\n",
                "Setp 3 - Model\n"
            ]
        },
        {
            "cell_type": "code",
            "execution_count": 28,
            "metadata": {},
            "outputs": [],
            "source": [
                "# Separate target and predictor\n",
                "X = df['review']\n",
                "y = df['polarity']\n"
            ]
        },
        {
            "cell_type": "code",
            "execution_count": 29,
            "metadata": {},
            "outputs": [
                {
                    "data": {
                        "text/plain": [
                            "array(['abesta', 'abilities', 'ability', ..., 'zespole', 'zom', 'zoming'],\n",
                            "      dtype=object)"
                        ]
                    },
                    "execution_count": 29,
                    "metadata": {},
                    "output_type": "execute_result"
                }
            ],
            "source": [
                "vectorizer = CountVectorizer(stop_words='english')\n",
                "X = vectorizer.fit_transform(X)\n",
                "vectorizer.get_feature_names_out()\n"
            ]
        },
        {
            "cell_type": "code",
            "execution_count": 30,
            "metadata": {},
            "outputs": [],
            "source": [
                "X = X.toarray()"
            ]
        },
        {
            "cell_type": "code",
            "execution_count": 31,
            "metadata": {},
            "outputs": [],
            "source": [
                "X_train, X_test, y_train, y_test = train_test_split(X, y, stratify=y, random_state=25)"
            ]
        },
        {
            "cell_type": "code",
            "execution_count": 32,
            "metadata": {},
            "outputs": [],
            "source": [
                "#Vectorizer change matriz with 0-1\n",
                "#vec = CountVectorizer(stop_words = \"english\")\n",
                "#X_train = vec.fit_transform(X_train).toarray()\n",
                "#X_test = vec.transform(X_test).toarray()"
            ]
        },
        {
            "cell_type": "code",
            "execution_count": 33,
            "metadata": {},
            "outputs": [
                {
                    "name": "stdout",
                    "output_type": "stream",
                    "text": [
                        "[[0 0 0 ... 0 0 0]\n",
                        " [0 0 0 ... 0 0 0]\n",
                        " [0 0 0 ... 0 0 0]\n",
                        " ...\n",
                        " [0 0 0 ... 0 0 0]\n",
                        " [0 0 0 ... 0 0 0]\n",
                        " [0 0 0 ... 0 0 0]]\n"
                    ]
                }
            ],
            "source": [
                "print(X_train)\n"
            ]
        },
        {
            "cell_type": "code",
            "execution_count": 34,
            "metadata": {},
            "outputs": [
                {
                    "name": "stdout",
                    "output_type": "stream",
                    "text": [
                        "(891, 3289)\n",
                        "(223, 3289)\n",
                        "(668, 3289)\n"
                    ]
                }
            ],
            "source": [
                "print(X.shape)\n",
                "print(X_test.shape)\n",
                "print(X_train.shape)"
            ]
        },
        {
            "cell_type": "code",
            "execution_count": 35,
            "metadata": {},
            "outputs": [
                {
                    "data": {
                        "text/html": [
                            "<style>#sk-container-id-1 {color: black;background-color: white;}#sk-container-id-1 pre{padding: 0;}#sk-container-id-1 div.sk-toggleable {background-color: white;}#sk-container-id-1 label.sk-toggleable__label {cursor: pointer;display: block;width: 100%;margin-bottom: 0;padding: 0.3em;box-sizing: border-box;text-align: center;}#sk-container-id-1 label.sk-toggleable__label-arrow:before {content: \"▸\";float: left;margin-right: 0.25em;color: #696969;}#sk-container-id-1 label.sk-toggleable__label-arrow:hover:before {color: black;}#sk-container-id-1 div.sk-estimator:hover label.sk-toggleable__label-arrow:before {color: black;}#sk-container-id-1 div.sk-toggleable__content {max-height: 0;max-width: 0;overflow: hidden;text-align: left;background-color: #f0f8ff;}#sk-container-id-1 div.sk-toggleable__content pre {margin: 0.2em;color: black;border-radius: 0.25em;background-color: #f0f8ff;}#sk-container-id-1 input.sk-toggleable__control:checked~div.sk-toggleable__content {max-height: 200px;max-width: 100%;overflow: auto;}#sk-container-id-1 input.sk-toggleable__control:checked~label.sk-toggleable__label-arrow:before {content: \"▾\";}#sk-container-id-1 div.sk-estimator input.sk-toggleable__control:checked~label.sk-toggleable__label {background-color: #d4ebff;}#sk-container-id-1 div.sk-label input.sk-toggleable__control:checked~label.sk-toggleable__label {background-color: #d4ebff;}#sk-container-id-1 input.sk-hidden--visually {border: 0;clip: rect(1px 1px 1px 1px);clip: rect(1px, 1px, 1px, 1px);height: 1px;margin: -1px;overflow: hidden;padding: 0;position: absolute;width: 1px;}#sk-container-id-1 div.sk-estimator {font-family: monospace;background-color: #f0f8ff;border: 1px dotted black;border-radius: 0.25em;box-sizing: border-box;margin-bottom: 0.5em;}#sk-container-id-1 div.sk-estimator:hover {background-color: #d4ebff;}#sk-container-id-1 div.sk-parallel-item::after {content: \"\";width: 100%;border-bottom: 1px solid gray;flex-grow: 1;}#sk-container-id-1 div.sk-label:hover label.sk-toggleable__label {background-color: #d4ebff;}#sk-container-id-1 div.sk-serial::before {content: \"\";position: absolute;border-left: 1px solid gray;box-sizing: border-box;top: 0;bottom: 0;left: 50%;z-index: 0;}#sk-container-id-1 div.sk-serial {display: flex;flex-direction: column;align-items: center;background-color: white;padding-right: 0.2em;padding-left: 0.2em;position: relative;}#sk-container-id-1 div.sk-item {position: relative;z-index: 1;}#sk-container-id-1 div.sk-parallel {display: flex;align-items: stretch;justify-content: center;background-color: white;position: relative;}#sk-container-id-1 div.sk-item::before, #sk-container-id-1 div.sk-parallel-item::before {content: \"\";position: absolute;border-left: 1px solid gray;box-sizing: border-box;top: 0;bottom: 0;left: 50%;z-index: -1;}#sk-container-id-1 div.sk-parallel-item {display: flex;flex-direction: column;z-index: 1;position: relative;background-color: white;}#sk-container-id-1 div.sk-parallel-item:first-child::after {align-self: flex-end;width: 50%;}#sk-container-id-1 div.sk-parallel-item:last-child::after {align-self: flex-start;width: 50%;}#sk-container-id-1 div.sk-parallel-item:only-child::after {width: 0;}#sk-container-id-1 div.sk-dashed-wrapped {border: 1px dashed gray;margin: 0 0.4em 0.5em 0.4em;box-sizing: border-box;padding-bottom: 0.4em;background-color: white;}#sk-container-id-1 div.sk-label label {font-family: monospace;font-weight: bold;display: inline-block;line-height: 1.2em;}#sk-container-id-1 div.sk-label-container {text-align: center;}#sk-container-id-1 div.sk-container {/* jupyter's `normalize.less` sets `[hidden] { display: none; }` but bootstrap.min.css set `[hidden] { display: none !important; }` so we also need the `!important` here to be able to override the default hidden behavior on the sphinx rendered scikit-learn.org. See: https://github.com/scikit-learn/scikit-learn/issues/21755 */display: inline-block !important;position: relative;}#sk-container-id-1 div.sk-text-repr-fallback {display: none;}</style><div id=\"sk-container-id-1\" class=\"sk-top-container\"><div class=\"sk-text-repr-fallback\"><pre>GaussianNB()</pre><b>In a Jupyter environment, please rerun this cell to show the HTML representation or trust the notebook. <br />On GitHub, the HTML representation is unable to render, please try loading this page with nbviewer.org.</b></div><div class=\"sk-container\" hidden><div class=\"sk-item\"><div class=\"sk-estimator sk-toggleable\"><input class=\"sk-toggleable__control sk-hidden--visually\" id=\"sk-estimator-id-1\" type=\"checkbox\" checked><label for=\"sk-estimator-id-1\" class=\"sk-toggleable__label sk-toggleable__label-arrow\">GaussianNB</label><div class=\"sk-toggleable__content\"><pre>GaussianNB()</pre></div></div></div></div></div>"
                        ],
                        "text/plain": [
                            "GaussianNB()"
                        ]
                    },
                    "execution_count": 35,
                    "metadata": {},
                    "output_type": "execute_result"
                }
            ],
            "source": [
                "clf = GaussianNB()\n",
                "clf.fit(X_train, y_train)"
            ]
        },
        {
            "cell_type": "code",
            "execution_count": 36,
            "metadata": {},
            "outputs": [
                {
                    "data": {
                        "text/plain": [
                            "0    438\n",
                            "1    230\n",
                            "Name: polarity, dtype: int64"
                        ]
                    },
                    "execution_count": 36,
                    "metadata": {},
                    "output_type": "execute_result"
                }
            ],
            "source": [
                "y_train.value_counts()"
            ]
        },
        {
            "cell_type": "code",
            "execution_count": 37,
            "metadata": {},
            "outputs": [],
            "source": [
                "y_train_pred = clf.predict(X_train)\n",
                "y_test_pred = clf.predict(X_test)"
            ]
        },
        {
            "cell_type": "code",
            "execution_count": 38,
            "metadata": {},
            "outputs": [
                {
                    "name": "stdout",
                    "output_type": "stream",
                    "text": [
                        "              precision    recall  f1-score   support\n",
                        "\n",
                        "         bad       1.00      0.98      0.99       438\n",
                        "        good       0.96      1.00      0.98       230\n",
                        "\n",
                        "    accuracy                           0.99       668\n",
                        "   macro avg       0.98      0.99      0.99       668\n",
                        "weighted avg       0.99      0.99      0.99       668\n",
                        "\n"
                    ]
                }
            ],
            "source": [
                "target_names = ['bad', 'good']\n",
                "print(classification_report(y_train, y_train_pred, target_names=target_names))"
            ]
        },
        {
            "cell_type": "code",
            "execution_count": 39,
            "metadata": {},
            "outputs": [
                {
                    "name": "stdout",
                    "output_type": "stream",
                    "text": [
                        "              precision    recall  f1-score   support\n",
                        "\n",
                        "         bad       0.80      0.83      0.81       146\n",
                        "        good       0.65      0.61      0.63        77\n",
                        "\n",
                        "    accuracy                           0.75       223\n",
                        "   macro avg       0.73      0.72      0.72       223\n",
                        "weighted avg       0.75      0.75      0.75       223\n",
                        "\n"
                    ]
                }
            ],
            "source": [
                "print(classification_report(y_test, y_test_pred, target_names=target_names))\n"
            ]
        },
        {
            "cell_type": "markdown",
            "metadata": {},
            "source": [
                "No resultó muy bueno - overfit"
            ]
        },
        {
            "cell_type": "markdown",
            "metadata": {},
            "source": [
                "# Naive Bayes\n",
                "\n",
                "Naive Bayes is a probabilistic algorithm for classification, based on Bayes Theorem. This algorithm really makes you understand a big deal about classification and it is probably one of the most useful algorithms for simple Machine Learning use cases. It is simple enough to be completed by hand."
            ]
        },
        {
            "cell_type": "code",
            "execution_count": 40,
            "metadata": {},
            "outputs": [
                {
                    "data": {
                        "text/html": [
                            "<style>#sk-container-id-2 {color: black;background-color: white;}#sk-container-id-2 pre{padding: 0;}#sk-container-id-2 div.sk-toggleable {background-color: white;}#sk-container-id-2 label.sk-toggleable__label {cursor: pointer;display: block;width: 100%;margin-bottom: 0;padding: 0.3em;box-sizing: border-box;text-align: center;}#sk-container-id-2 label.sk-toggleable__label-arrow:before {content: \"▸\";float: left;margin-right: 0.25em;color: #696969;}#sk-container-id-2 label.sk-toggleable__label-arrow:hover:before {color: black;}#sk-container-id-2 div.sk-estimator:hover label.sk-toggleable__label-arrow:before {color: black;}#sk-container-id-2 div.sk-toggleable__content {max-height: 0;max-width: 0;overflow: hidden;text-align: left;background-color: #f0f8ff;}#sk-container-id-2 div.sk-toggleable__content pre {margin: 0.2em;color: black;border-radius: 0.25em;background-color: #f0f8ff;}#sk-container-id-2 input.sk-toggleable__control:checked~div.sk-toggleable__content {max-height: 200px;max-width: 100%;overflow: auto;}#sk-container-id-2 input.sk-toggleable__control:checked~label.sk-toggleable__label-arrow:before {content: \"▾\";}#sk-container-id-2 div.sk-estimator input.sk-toggleable__control:checked~label.sk-toggleable__label {background-color: #d4ebff;}#sk-container-id-2 div.sk-label input.sk-toggleable__control:checked~label.sk-toggleable__label {background-color: #d4ebff;}#sk-container-id-2 input.sk-hidden--visually {border: 0;clip: rect(1px 1px 1px 1px);clip: rect(1px, 1px, 1px, 1px);height: 1px;margin: -1px;overflow: hidden;padding: 0;position: absolute;width: 1px;}#sk-container-id-2 div.sk-estimator {font-family: monospace;background-color: #f0f8ff;border: 1px dotted black;border-radius: 0.25em;box-sizing: border-box;margin-bottom: 0.5em;}#sk-container-id-2 div.sk-estimator:hover {background-color: #d4ebff;}#sk-container-id-2 div.sk-parallel-item::after {content: \"\";width: 100%;border-bottom: 1px solid gray;flex-grow: 1;}#sk-container-id-2 div.sk-label:hover label.sk-toggleable__label {background-color: #d4ebff;}#sk-container-id-2 div.sk-serial::before {content: \"\";position: absolute;border-left: 1px solid gray;box-sizing: border-box;top: 0;bottom: 0;left: 50%;z-index: 0;}#sk-container-id-2 div.sk-serial {display: flex;flex-direction: column;align-items: center;background-color: white;padding-right: 0.2em;padding-left: 0.2em;position: relative;}#sk-container-id-2 div.sk-item {position: relative;z-index: 1;}#sk-container-id-2 div.sk-parallel {display: flex;align-items: stretch;justify-content: center;background-color: white;position: relative;}#sk-container-id-2 div.sk-item::before, #sk-container-id-2 div.sk-parallel-item::before {content: \"\";position: absolute;border-left: 1px solid gray;box-sizing: border-box;top: 0;bottom: 0;left: 50%;z-index: -1;}#sk-container-id-2 div.sk-parallel-item {display: flex;flex-direction: column;z-index: 1;position: relative;background-color: white;}#sk-container-id-2 div.sk-parallel-item:first-child::after {align-self: flex-end;width: 50%;}#sk-container-id-2 div.sk-parallel-item:last-child::after {align-self: flex-start;width: 50%;}#sk-container-id-2 div.sk-parallel-item:only-child::after {width: 0;}#sk-container-id-2 div.sk-dashed-wrapped {border: 1px dashed gray;margin: 0 0.4em 0.5em 0.4em;box-sizing: border-box;padding-bottom: 0.4em;background-color: white;}#sk-container-id-2 div.sk-label label {font-family: monospace;font-weight: bold;display: inline-block;line-height: 1.2em;}#sk-container-id-2 div.sk-label-container {text-align: center;}#sk-container-id-2 div.sk-container {/* jupyter's `normalize.less` sets `[hidden] { display: none; }` but bootstrap.min.css set `[hidden] { display: none !important; }` so we also need the `!important` here to be able to override the default hidden behavior on the sphinx rendered scikit-learn.org. See: https://github.com/scikit-learn/scikit-learn/issues/21755 */display: inline-block !important;position: relative;}#sk-container-id-2 div.sk-text-repr-fallback {display: none;}</style><div id=\"sk-container-id-2\" class=\"sk-top-container\"><div class=\"sk-text-repr-fallback\"><pre>MultinomialNB()</pre><b>In a Jupyter environment, please rerun this cell to show the HTML representation or trust the notebook. <br />On GitHub, the HTML representation is unable to render, please try loading this page with nbviewer.org.</b></div><div class=\"sk-container\" hidden><div class=\"sk-item\"><div class=\"sk-estimator sk-toggleable\"><input class=\"sk-toggleable__control sk-hidden--visually\" id=\"sk-estimator-id-2\" type=\"checkbox\" checked><label for=\"sk-estimator-id-2\" class=\"sk-toggleable__label sk-toggleable__label-arrow\">MultinomialNB</label><div class=\"sk-toggleable__content\"><pre>MultinomialNB()</pre></div></div></div></div></div>"
                        ],
                        "text/plain": [
                            "MultinomialNB()"
                        ]
                    },
                    "execution_count": 40,
                    "metadata": {},
                    "output_type": "execute_result"
                }
            ],
            "source": [
                "clf_multinomial = MultinomialNB()\n",
                "clf_multinomial.fit(X_train, y_train)"
            ]
        },
        {
            "cell_type": "code",
            "execution_count": 41,
            "metadata": {},
            "outputs": [
                {
                    "data": {
                        "text/html": [
                            "<style>#sk-container-id-3 {color: black;background-color: white;}#sk-container-id-3 pre{padding: 0;}#sk-container-id-3 div.sk-toggleable {background-color: white;}#sk-container-id-3 label.sk-toggleable__label {cursor: pointer;display: block;width: 100%;margin-bottom: 0;padding: 0.3em;box-sizing: border-box;text-align: center;}#sk-container-id-3 label.sk-toggleable__label-arrow:before {content: \"▸\";float: left;margin-right: 0.25em;color: #696969;}#sk-container-id-3 label.sk-toggleable__label-arrow:hover:before {color: black;}#sk-container-id-3 div.sk-estimator:hover label.sk-toggleable__label-arrow:before {color: black;}#sk-container-id-3 div.sk-toggleable__content {max-height: 0;max-width: 0;overflow: hidden;text-align: left;background-color: #f0f8ff;}#sk-container-id-3 div.sk-toggleable__content pre {margin: 0.2em;color: black;border-radius: 0.25em;background-color: #f0f8ff;}#sk-container-id-3 input.sk-toggleable__control:checked~div.sk-toggleable__content {max-height: 200px;max-width: 100%;overflow: auto;}#sk-container-id-3 input.sk-toggleable__control:checked~label.sk-toggleable__label-arrow:before {content: \"▾\";}#sk-container-id-3 div.sk-estimator input.sk-toggleable__control:checked~label.sk-toggleable__label {background-color: #d4ebff;}#sk-container-id-3 div.sk-label input.sk-toggleable__control:checked~label.sk-toggleable__label {background-color: #d4ebff;}#sk-container-id-3 input.sk-hidden--visually {border: 0;clip: rect(1px 1px 1px 1px);clip: rect(1px, 1px, 1px, 1px);height: 1px;margin: -1px;overflow: hidden;padding: 0;position: absolute;width: 1px;}#sk-container-id-3 div.sk-estimator {font-family: monospace;background-color: #f0f8ff;border: 1px dotted black;border-radius: 0.25em;box-sizing: border-box;margin-bottom: 0.5em;}#sk-container-id-3 div.sk-estimator:hover {background-color: #d4ebff;}#sk-container-id-3 div.sk-parallel-item::after {content: \"\";width: 100%;border-bottom: 1px solid gray;flex-grow: 1;}#sk-container-id-3 div.sk-label:hover label.sk-toggleable__label {background-color: #d4ebff;}#sk-container-id-3 div.sk-serial::before {content: \"\";position: absolute;border-left: 1px solid gray;box-sizing: border-box;top: 0;bottom: 0;left: 50%;z-index: 0;}#sk-container-id-3 div.sk-serial {display: flex;flex-direction: column;align-items: center;background-color: white;padding-right: 0.2em;padding-left: 0.2em;position: relative;}#sk-container-id-3 div.sk-item {position: relative;z-index: 1;}#sk-container-id-3 div.sk-parallel {display: flex;align-items: stretch;justify-content: center;background-color: white;position: relative;}#sk-container-id-3 div.sk-item::before, #sk-container-id-3 div.sk-parallel-item::before {content: \"\";position: absolute;border-left: 1px solid gray;box-sizing: border-box;top: 0;bottom: 0;left: 50%;z-index: -1;}#sk-container-id-3 div.sk-parallel-item {display: flex;flex-direction: column;z-index: 1;position: relative;background-color: white;}#sk-container-id-3 div.sk-parallel-item:first-child::after {align-self: flex-end;width: 50%;}#sk-container-id-3 div.sk-parallel-item:last-child::after {align-self: flex-start;width: 50%;}#sk-container-id-3 div.sk-parallel-item:only-child::after {width: 0;}#sk-container-id-3 div.sk-dashed-wrapped {border: 1px dashed gray;margin: 0 0.4em 0.5em 0.4em;box-sizing: border-box;padding-bottom: 0.4em;background-color: white;}#sk-container-id-3 div.sk-label label {font-family: monospace;font-weight: bold;display: inline-block;line-height: 1.2em;}#sk-container-id-3 div.sk-label-container {text-align: center;}#sk-container-id-3 div.sk-container {/* jupyter's `normalize.less` sets `[hidden] { display: none; }` but bootstrap.min.css set `[hidden] { display: none !important; }` so we also need the `!important` here to be able to override the default hidden behavior on the sphinx rendered scikit-learn.org. See: https://github.com/scikit-learn/scikit-learn/issues/21755 */display: inline-block !important;position: relative;}#sk-container-id-3 div.sk-text-repr-fallback {display: none;}</style><div id=\"sk-container-id-3\" class=\"sk-top-container\"><div class=\"sk-text-repr-fallback\"><pre>MultinomialNB()</pre><b>In a Jupyter environment, please rerun this cell to show the HTML representation or trust the notebook. <br />On GitHub, the HTML representation is unable to render, please try loading this page with nbviewer.org.</b></div><div class=\"sk-container\" hidden><div class=\"sk-item\"><div class=\"sk-estimator sk-toggleable\"><input class=\"sk-toggleable__control sk-hidden--visually\" id=\"sk-estimator-id-3\" type=\"checkbox\" checked><label for=\"sk-estimator-id-3\" class=\"sk-toggleable__label sk-toggleable__label-arrow\">MultinomialNB</label><div class=\"sk-toggleable__content\"><pre>MultinomialNB()</pre></div></div></div></div></div>"
                        ],
                        "text/plain": [
                            "MultinomialNB()"
                        ]
                    },
                    "execution_count": 41,
                    "metadata": {},
                    "output_type": "execute_result"
                }
            ],
            "source": [
                "MultinomialNB()\n"
            ]
        },
        {
            "cell_type": "code",
            "execution_count": 42,
            "metadata": {},
            "outputs": [],
            "source": [
                "y_train_pred = clf_multinomial.predict(X_train)\n",
                "y_test_pred = clf_multinomial.predict(X_test)\n"
            ]
        },
        {
            "cell_type": "code",
            "execution_count": 43,
            "metadata": {},
            "outputs": [
                {
                    "name": "stdout",
                    "output_type": "stream",
                    "text": [
                        "              precision    recall  f1-score   support\n",
                        "\n",
                        "         bad       0.95      0.97      0.96       438\n",
                        "        good       0.95      0.90      0.92       230\n",
                        "\n",
                        "    accuracy                           0.95       668\n",
                        "   macro avg       0.95      0.94      0.94       668\n",
                        "weighted avg       0.95      0.95      0.95       668\n",
                        "\n"
                    ]
                }
            ],
            "source": [
                "print(classification_report(y_train, y_train_pred, target_names=target_names))\n"
            ]
        },
        {
            "cell_type": "code",
            "execution_count": 44,
            "metadata": {},
            "outputs": [
                {
                    "name": "stdout",
                    "output_type": "stream",
                    "text": [
                        "              precision    recall  f1-score   support\n",
                        "\n",
                        "         bad       0.86      0.90      0.88       146\n",
                        "        good       0.79      0.71      0.75        77\n",
                        "\n",
                        "    accuracy                           0.83       223\n",
                        "   macro avg       0.82      0.81      0.81       223\n",
                        "weighted avg       0.83      0.83      0.83       223\n",
                        "\n"
                    ]
                }
            ],
            "source": [
                "print(classification_report(y_test, y_test_pred, target_names=target_names))\n"
            ]
        },
        {
            "cell_type": "code",
            "execution_count": 45,
            "metadata": {},
            "outputs": [],
            "source": [
                "Z = vectorizer.transform(['I like this app'])"
            ]
        },
        {
            "cell_type": "code",
            "execution_count": 46,
            "metadata": {},
            "outputs": [
                {
                    "name": "stdout",
                    "output_type": "stream",
                    "text": [
                        "  (0, 142)\t1\n",
                        "  (0, 1602)\t1\n",
                        "(1, 3289)\n",
                        "  (0, 142)\t1\n",
                        "  (0, 1602)\t1\n"
                    ]
                }
            ],
            "source": [
                "print(np.array(Z))\n",
                "print(Z.shape)\n",
                "print(Z)"
            ]
        },
        {
            "cell_type": "code",
            "execution_count": 47,
            "metadata": {},
            "outputs": [
                {
                    "name": "stdout",
                    "output_type": "stream",
                    "text": [
                        "[1]\n"
                    ]
                }
            ],
            "source": [
                "# Modelo GaussianNB\n",
                "print(clf.predict(Z.toarray()))\n",
                "\n"
            ]
        },
        {
            "cell_type": "code",
            "execution_count": 48,
            "metadata": {},
            "outputs": [
                {
                    "name": "stdout",
                    "output_type": "stream",
                    "text": [
                        "[1]\n"
                    ]
                }
            ],
            "source": [
                "# Modelo Multinomial\n",
                "print(clf_multinomial.predict(Z.toarray()))\n"
            ]
        },
        {
            "cell_type": "code",
            "execution_count": 49,
            "metadata": {},
            "outputs": [
                {
                    "data": {
                        "text/html": [
                            "<div>\n",
                            "<style scoped>\n",
                            "    .dataframe tbody tr th:only-of-type {\n",
                            "        vertical-align: middle;\n",
                            "    }\n",
                            "\n",
                            "    .dataframe tbody tr th {\n",
                            "        vertical-align: top;\n",
                            "    }\n",
                            "\n",
                            "    .dataframe thead th {\n",
                            "        text-align: right;\n",
                            "    }\n",
                            "</style>\n",
                            "<table border=\"1\" class=\"dataframe\">\n",
                            "  <thead>\n",
                            "    <tr style=\"text-align: right;\">\n",
                            "      <th></th>\n",
                            "      <th>review</th>\n",
                            "      <th>polarity</th>\n",
                            "    </tr>\n",
                            "  </thead>\n",
                            "  <tbody>\n",
                            "    <tr>\n",
                            "      <th>881</th>\n",
                            "      <td>game ruined felt like playing awhile imediately second awful mobile game ad poped second level loking store realized pay remove yep</td>\n",
                            "      <td>0</td>\n",
                            "    </tr>\n",
                            "    <tr>\n",
                            "      <th>882</th>\n",
                            "      <td>ads way many ads even enjoy game amount ads every level</td>\n",
                            "      <td>0</td>\n",
                            "    </tr>\n",
                            "    <tr>\n",
                            "      <th>883</th>\n",
                            "      <td>great game many ads almost worth</td>\n",
                            "      <td>1</td>\n",
                            "    </tr>\n",
                            "    <tr>\n",
                            "      <th>884</th>\n",
                            "      <td>fun hard angry birds realy fun video game people least year olds people lot years older one really chalenge teach children control even though ba litle</td>\n",
                            "      <td>1</td>\n",
                            "    </tr>\n",
                            "    <tr>\n",
                            "      <th>885</th>\n",
                            "      <td>many ads far adverts game know fre ned ads make profit neds</td>\n",
                            "      <td>1</td>\n",
                            "    </tr>\n",
                            "    <tr>\n",
                            "      <th>886</th>\n",
                            "      <td>loved incredible awesome go power make new clash clans thing but beter</td>\n",
                            "      <td>1</td>\n",
                            "    </tr>\n",
                            "    <tr>\n",
                            "      <th>887</th>\n",
                            "      <td>time legendary game birthday party levels short fuse levels pigs crash onto diferent chemicals players cringe much ads close ur conection play ads trouble</td>\n",
                            "      <td>1</td>\n",
                            "    </tr>\n",
                            "    <tr>\n",
                            "      <th>888</th>\n",
                            "      <td>ads way heavy listen bad ads every round whether pas fail sometimes ads next round starts spend time ads game develop web aps honestly many people rely ads make apreciate however developers went far beyond frankly disrespectful</td>\n",
                            "      <td>0</td>\n",
                            "    </tr>\n",
                            "    <tr>\n",
                            "      <th>889</th>\n",
                            "      <td>fun works perfectly ads anoying think especialy fre</td>\n",
                            "      <td>1</td>\n",
                            "    </tr>\n",
                            "    <tr>\n",
                            "      <th>890</th>\n",
                            "      <td>everywhere se angry birds everywhere stop playing get head devs perfect</td>\n",
                            "      <td>1</td>\n",
                            "    </tr>\n",
                            "  </tbody>\n",
                            "</table>\n",
                            "</div>"
                        ],
                        "text/plain": [
                            "                                                                                                                                                                                                                                  review  \\\n",
                            "881                                                                                                  game ruined felt like playing awhile imediately second awful mobile game ad poped second level loking store realized pay remove yep   \n",
                            "882                                                                                                                                                                              ads way many ads even enjoy game amount ads every level   \n",
                            "883                                                                                                                                                                                                     great game many ads almost worth   \n",
                            "884                                                                              fun hard angry birds realy fun video game people least year olds people lot years older one really chalenge teach children control even though ba litle   \n",
                            "885                                                                                                                                                                          many ads far adverts game know fre ned ads make profit neds   \n",
                            "886                                                                                                                                                               loved incredible awesome go power make new clash clans thing but beter   \n",
                            "887                                                                           time legendary game birthday party levels short fuse levels pigs crash onto diferent chemicals players cringe much ads close ur conection play ads trouble   \n",
                            "888  ads way heavy listen bad ads every round whether pas fail sometimes ads next round starts spend time ads game develop web aps honestly many people rely ads make apreciate however developers went far beyond frankly disrespectful   \n",
                            "889                                                                                                                                                                                  fun works perfectly ads anoying think especialy fre   \n",
                            "890                                                                                                                                                              everywhere se angry birds everywhere stop playing get head devs perfect   \n",
                            "\n",
                            "     polarity  \n",
                            "881         0  \n",
                            "882         0  \n",
                            "883         1  \n",
                            "884         1  \n",
                            "885         1  \n",
                            "886         1  \n",
                            "887         1  \n",
                            "888         0  \n",
                            "889         1  \n",
                            "890         1  "
                        ]
                    },
                    "execution_count": 49,
                    "metadata": {},
                    "output_type": "execute_result"
                }
            ],
            "source": [
                "pd.set_option('display.max_colwidth', None)\n",
                "df.tail(10)"
            ]
        },
        {
            "cell_type": "code",
            "execution_count": 50,
            "metadata": {},
            "outputs": [
                {
                    "name": "stdout",
                    "output_type": "stream",
                    "text": [
                        "Gauss: [1]\n",
                        "Multi: [1]\n"
                    ]
                }
            ],
            "source": [
                "Z2 = vectorizer.transform(['I do not like this app'])\n",
                "\n",
                "# Modelo GaussianNB\n",
                "print(f\"Gauss: {clf.predict(Z2.toarray())}\")\n",
                "\n",
                "# Modelo Multinomial\n",
                "print(f\"Multi: {clf_multinomial.predict(Z2.toarray())}\")\n",
                "\n"
            ]
        },
        {
            "cell_type": "markdown",
            "metadata": {},
            "source": [
                "Guardar Modelo"
            ]
        },
        {
            "cell_type": "code",
            "execution_count": 51,
            "metadata": {},
            "outputs": [],
            "source": [
                "pickle.dump(clf_multinomial, open('../models/multinomial.pkl', 'wb'))"
            ]
        },
        {
            "cell_type": "markdown",
            "metadata": {},
            "source": [
                "Traer el Modelo"
            ]
        },
        {
            "cell_type": "code",
            "execution_count": 52,
            "metadata": {},
            "outputs": [],
            "source": [
                "load_model = pickle.load(open('../models/multinomial.pkl', 'rb'))\n"
            ]
        },
        {
            "cell_type": "code",
            "execution_count": 53,
            "metadata": {},
            "outputs": [
                {
                    "name": "stdout",
                    "output_type": "stream",
                    "text": [
                        "Multi: [1]\n"
                    ]
                }
            ],
            "source": [
                "Z2 = vectorizer.transform(['I do not like this app'])\n",
                "# Modelo Multinomial loaded\n",
                "print(f\"Multi: {load_model.predict(Z2.toarray())}\")\n",
                "\n"
            ]
        },
        {
            "cell_type": "code",
            "execution_count": 54,
            "metadata": {},
            "outputs": [
                {
                    "name": "stdout",
                    "output_type": "stream",
                    "text": [
                        "Collecting torch\n",
                        "  Downloading torch-1.12.1-cp38-cp38-manylinux1_x86_64.whl (776.3 MB)\n",
                        "\u001b[2K     \u001b[90m━━━━━━━━━━━━━━━━━━━━━━━━━━━━━━━━━━━━━━━\u001b[0m \u001b[32m776.3/776.3 MB\u001b[0m \u001b[31m2.2 MB/s\u001b[0m eta \u001b[36m0:00:00\u001b[0m00:01\u001b[0m00:01\u001b[0m\n",
                        "\u001b[?25hRequirement already satisfied: typing-extensions in /home/gitpod/.pyenv/versions/3.8.13/lib/python3.8/site-packages (from torch) (4.3.0)\n",
                        "Installing collected packages: torch\n",
                        "Successfully installed torch-1.12.1\n",
                        "\n",
                        "\u001b[1m[\u001b[0m\u001b[34;49mnotice\u001b[0m\u001b[1;39;49m]\u001b[0m\u001b[39;49m A new release of pip available: \u001b[0m\u001b[31;49m22.2\u001b[0m\u001b[39;49m -> \u001b[0m\u001b[32;49m22.2.2\u001b[0m\n",
                        "\u001b[1m[\u001b[0m\u001b[34;49mnotice\u001b[0m\u001b[1;39;49m]\u001b[0m\u001b[39;49m To update, run: \u001b[0m\u001b[32;49mpip install --upgrade pip\u001b[0m\n",
                        "Collecting tensorflow\n",
                        "  Downloading tensorflow-2.9.1-cp38-cp38-manylinux_2_17_x86_64.manylinux2014_x86_64.whl (511.7 MB)\n",
                        "\u001b[2K     \u001b[90m━━━━━━━━━━━━━━━━━━━━━━━━━━━━━━━━━━━━━━━\u001b[0m \u001b[32m511.7/511.7 MB\u001b[0m \u001b[31m3.6 MB/s\u001b[0m eta \u001b[36m0:00:00\u001b[0m00:01\u001b[0m00:01\u001b[0m\n",
                        "\u001b[?25hRequirement already satisfied: typing-extensions>=3.6.6 in /home/gitpod/.pyenv/versions/3.8.13/lib/python3.8/site-packages (from tensorflow) (4.3.0)\n",
                        "Collecting keras<2.10.0,>=2.9.0rc0\n",
                        "  Downloading keras-2.9.0-py2.py3-none-any.whl (1.6 MB)\n",
                        "\u001b[2K     \u001b[90m━━━━━━━━━━━━━━━━━━━━━━━━━━━━━━━━━━━━━━━━\u001b[0m \u001b[32m1.6/1.6 MB\u001b[0m \u001b[31m117.6 MB/s\u001b[0m eta \u001b[36m0:00:00\u001b[0m\n",
                        "\u001b[?25hCollecting keras-preprocessing>=1.1.1\n",
                        "  Downloading Keras_Preprocessing-1.1.2-py2.py3-none-any.whl (42 kB)\n",
                        "\u001b[2K     \u001b[90m━━━━━━━━━━━━━━━━━━━━━━━━━━━━━━━━━━━━━━━━\u001b[0m \u001b[32m42.6/42.6 kB\u001b[0m \u001b[31m18.9 MB/s\u001b[0m eta \u001b[36m0:00:00\u001b[0m\n",
                        "\u001b[?25hCollecting tensorflow-io-gcs-filesystem>=0.23.1\n",
                        "  Downloading tensorflow_io_gcs_filesystem-0.26.0-cp38-cp38-manylinux_2_12_x86_64.manylinux2010_x86_64.whl (2.4 MB)\n",
                        "\u001b[2K     \u001b[90m━━━━━━━━━━━━━━━━━━━━━━━━━━━━━━━━━━━━━━━━\u001b[0m \u001b[32m2.4/2.4 MB\u001b[0m \u001b[31m130.8 MB/s\u001b[0m eta \u001b[36m0:00:00\u001b[0m\n",
                        "\u001b[?25hCollecting tensorboard<2.10,>=2.9\n",
                        "  Downloading tensorboard-2.9.1-py3-none-any.whl (5.8 MB)\n",
                        "\u001b[2K     \u001b[90m━━━━━━━━━━━━━━━━━━━━━━━━━━━━━━━━━━━━━━━━\u001b[0m \u001b[32m5.8/5.8 MB\u001b[0m \u001b[31m128.9 MB/s\u001b[0m eta \u001b[36m0:00:00\u001b[0m00:01\u001b[0m\n",
                        "\u001b[?25hCollecting google-pasta>=0.1.1\n",
                        "  Downloading google_pasta-0.2.0-py3-none-any.whl (57 kB)\n",
                        "\u001b[2K     \u001b[90m━━━━━━━━━━━━━━━━━━━━━━━━━━━━━━━━━━━━━━━━\u001b[0m \u001b[32m57.5/57.5 kB\u001b[0m \u001b[31m23.5 MB/s\u001b[0m eta \u001b[36m0:00:00\u001b[0m\n",
                        "\u001b[?25hCollecting termcolor>=1.1.0\n",
                        "  Downloading termcolor-1.1.0.tar.gz (3.9 kB)\n",
                        "  Preparing metadata (setup.py) ... \u001b[?25ldone\n",
                        "\u001b[?25hCollecting astunparse>=1.6.0\n",
                        "  Downloading astunparse-1.6.3-py2.py3-none-any.whl (12 kB)\n",
                        "Collecting opt-einsum>=2.3.2\n",
                        "  Downloading opt_einsum-3.3.0-py3-none-any.whl (65 kB)\n",
                        "\u001b[2K     \u001b[90m━━━━━━━━━━━━━━━━━━━━━━━━━━━━━━━━━━━━━━━━\u001b[0m \u001b[32m65.5/65.5 kB\u001b[0m \u001b[31m19.9 MB/s\u001b[0m eta \u001b[36m0:00:00\u001b[0m\n",
                        "\u001b[?25hCollecting libclang>=13.0.0\n",
                        "  Downloading libclang-14.0.6-py2.py3-none-manylinux2010_x86_64.whl (14.1 MB)\n",
                        "\u001b[2K     \u001b[90m━━━━━━━━━━━━━━━━━━━━━━━━━━━━━━━━━━━━━━━\u001b[0m \u001b[32m14.1/14.1 MB\u001b[0m \u001b[31m120.1 MB/s\u001b[0m eta \u001b[36m0:00:00\u001b[0m00:01\u001b[0m00:01\u001b[0m\n",
                        "\u001b[?25hRequirement already satisfied: numpy>=1.20 in /home/gitpod/.pyenv/versions/3.8.13/lib/python3.8/site-packages (from tensorflow) (1.23.1)\n",
                        "Collecting absl-py>=1.0.0\n",
                        "  Downloading absl_py-1.2.0-py3-none-any.whl (123 kB)\n",
                        "\u001b[2K     \u001b[90m━━━━━━━━━━━━━━━━━━━━━━━━━━━━━━━━━━━━━━\u001b[0m \u001b[32m123.4/123.4 kB\u001b[0m \u001b[31m46.0 MB/s\u001b[0m eta \u001b[36m0:00:00\u001b[0m\n",
                        "\u001b[?25hCollecting protobuf<3.20,>=3.9.2\n",
                        "  Downloading protobuf-3.19.4-cp38-cp38-manylinux_2_17_x86_64.manylinux2014_x86_64.whl (1.1 MB)\n",
                        "\u001b[2K     \u001b[90m━━━━━━━━━━━━━━━━━━━━━━━━━━━━━━━━━━━━━━━━\u001b[0m \u001b[32m1.1/1.1 MB\u001b[0m \u001b[31m112.6 MB/s\u001b[0m eta \u001b[36m0:00:00\u001b[0m\n",
                        "\u001b[?25hCollecting h5py>=2.9.0\n",
                        "  Downloading h5py-3.7.0-cp38-cp38-manylinux_2_12_x86_64.manylinux2010_x86_64.whl (4.5 MB)\n",
                        "\u001b[2K     \u001b[90m━━━━━━━━━━━━━━━━━━━━━━━━━━━━━━━━━━━━━━━━\u001b[0m \u001b[32m4.5/4.5 MB\u001b[0m \u001b[31m161.8 MB/s\u001b[0m eta \u001b[36m0:00:00\u001b[0m\n",
                        "\u001b[?25hCollecting grpcio<2.0,>=1.24.3\n",
                        "  Downloading grpcio-1.47.0-cp38-cp38-manylinux_2_17_x86_64.manylinux2014_x86_64.whl (4.5 MB)\n",
                        "\u001b[2K     \u001b[90m━━━━━━━━━━━━━━━━━━━━━━━━━━━━━━━━━━━━━━━━\u001b[0m \u001b[32m4.5/4.5 MB\u001b[0m \u001b[31m75.4 MB/s\u001b[0m eta \u001b[36m0:00:00\u001b[0m:00:01\u001b[0m\n",
                        "\u001b[?25hRequirement already satisfied: setuptools in /home/gitpod/.pyenv/versions/3.8.13/lib/python3.8/site-packages (from tensorflow) (63.2.0)\n",
                        "Collecting flatbuffers<2,>=1.12\n",
                        "  Downloading flatbuffers-1.12-py2.py3-none-any.whl (15 kB)\n",
                        "Collecting gast<=0.4.0,>=0.2.1\n",
                        "  Downloading gast-0.4.0-py3-none-any.whl (9.8 kB)\n",
                        "Requirement already satisfied: wrapt>=1.11.0 in /home/gitpod/.pyenv/versions/3.8.13/lib/python3.8/site-packages (from tensorflow) (1.14.1)\n",
                        "Requirement already satisfied: packaging in /home/gitpod/.pyenv/versions/3.8.13/lib/python3.8/site-packages (from tensorflow) (21.3)\n",
                        "Collecting tensorflow-estimator<2.10.0,>=2.9.0rc0\n",
                        "  Downloading tensorflow_estimator-2.9.0-py2.py3-none-any.whl (438 kB)\n",
                        "\u001b[2K     \u001b[90m━━━━━━━━━━━━━━━━━━━━━━━━━━━━━━━━━━━━━━\u001b[0m \u001b[32m438.7/438.7 kB\u001b[0m \u001b[31m71.2 MB/s\u001b[0m eta \u001b[36m0:00:00\u001b[0m\n",
                        "\u001b[?25hRequirement already satisfied: six>=1.12.0 in /home/gitpod/.pyenv/versions/3.8.13/lib/python3.8/site-packages (from tensorflow) (1.16.0)\n",
                        "Requirement already satisfied: wheel<1.0,>=0.23.0 in /home/gitpod/.pyenv/versions/3.8.13/lib/python3.8/site-packages (from astunparse>=1.6.0->tensorflow) (0.37.1)\n",
                        "Collecting tensorboard-plugin-wit>=1.6.0\n",
                        "  Downloading tensorboard_plugin_wit-1.8.1-py3-none-any.whl (781 kB)\n",
                        "\u001b[2K     \u001b[90m━━━━━━━━━━━━━━━━━━━━━━━━━━━━━━━━━━━━━\u001b[0m \u001b[32m781.3/781.3 kB\u001b[0m \u001b[31m125.4 MB/s\u001b[0m eta \u001b[36m0:00:00\u001b[0m\n",
                        "\u001b[?25hCollecting tensorboard-data-server<0.7.0,>=0.6.0\n",
                        "  Downloading tensorboard_data_server-0.6.1-py3-none-manylinux2010_x86_64.whl (4.9 MB)\n",
                        "\u001b[2K     \u001b[90m━━━━━━━━━━━━━━━━━━━━━━━━━━━━━━━━━━━━━━━━\u001b[0m \u001b[32m4.9/4.9 MB\u001b[0m \u001b[31m164.8 MB/s\u001b[0m eta \u001b[36m0:00:00\u001b[0m\n",
                        "\u001b[?25hCollecting google-auth<3,>=1.6.3\n",
                        "  Downloading google_auth-2.10.0-py2.py3-none-any.whl (167 kB)\n",
                        "\u001b[2K     \u001b[90m━━━━━━━━━━━━━━━━━━━━━━━━━━━━━━━━━━━━━━\u001b[0m \u001b[32m167.2/167.2 kB\u001b[0m \u001b[31m34.7 MB/s\u001b[0m eta \u001b[36m0:00:00\u001b[0m\n",
                        "\u001b[?25hCollecting markdown>=2.6.8\n",
                        "  Downloading Markdown-3.4.1-py3-none-any.whl (93 kB)\n",
                        "\u001b[2K     \u001b[90m━━━━━━━━━━━━━━━━━━━━━━━━━━━━━━━━━━━━━━━━\u001b[0m \u001b[32m93.3/93.3 kB\u001b[0m \u001b[31m32.9 MB/s\u001b[0m eta \u001b[36m0:00:00\u001b[0m\n",
                        "\u001b[?25hCollecting google-auth-oauthlib<0.5,>=0.4.1\n",
                        "  Downloading google_auth_oauthlib-0.4.6-py2.py3-none-any.whl (18 kB)\n",
                        "Collecting werkzeug>=1.0.1\n",
                        "  Downloading Werkzeug-2.2.2-py3-none-any.whl (232 kB)\n",
                        "\u001b[2K     \u001b[90m━━━━━━━━━━━━━━━━━━━━━━━━━━━━━━━━━━━━━━\u001b[0m \u001b[32m232.7/232.7 kB\u001b[0m \u001b[31m56.1 MB/s\u001b[0m eta \u001b[36m0:00:00\u001b[0m\n",
                        "\u001b[?25hRequirement already satisfied: requests<3,>=2.21.0 in /home/gitpod/.pyenv/versions/3.8.13/lib/python3.8/site-packages (from tensorboard<2.10,>=2.9->tensorflow) (2.28.1)\n",
                        "Requirement already satisfied: pyparsing!=3.0.5,>=2.0.2 in /home/gitpod/.pyenv/versions/3.8.13/lib/python3.8/site-packages (from packaging->tensorflow) (3.0.9)\n",
                        "Collecting cachetools<6.0,>=2.0.0\n",
                        "  Downloading cachetools-5.2.0-py3-none-any.whl (9.3 kB)\n",
                        "Collecting rsa<5,>=3.1.4\n",
                        "  Downloading rsa-4.9-py3-none-any.whl (34 kB)\n",
                        "Collecting pyasn1-modules>=0.2.1\n",
                        "  Downloading pyasn1_modules-0.2.8-py2.py3-none-any.whl (155 kB)\n",
                        "\u001b[2K     \u001b[90m━━━━━━━━━━━━━━━━━━━━━━━━━━━━━━━━━━━━━━\u001b[0m \u001b[32m155.3/155.3 kB\u001b[0m \u001b[31m46.0 MB/s\u001b[0m eta \u001b[36m0:00:00\u001b[0m\n",
                        "\u001b[?25hCollecting requests-oauthlib>=0.7.0\n",
                        "  Downloading requests_oauthlib-1.3.1-py2.py3-none-any.whl (23 kB)\n",
                        "Requirement already satisfied: importlib-metadata>=4.4 in /home/gitpod/.pyenv/versions/3.8.13/lib/python3.8/site-packages (from markdown>=2.6.8->tensorboard<2.10,>=2.9->tensorflow) (4.12.0)\n",
                        "Requirement already satisfied: idna<4,>=2.5 in /home/gitpod/.pyenv/versions/3.8.13/lib/python3.8/site-packages (from requests<3,>=2.21.0->tensorboard<2.10,>=2.9->tensorflow) (3.3)\n",
                        "Requirement already satisfied: certifi>=2017.4.17 in /home/gitpod/.pyenv/versions/3.8.13/lib/python3.8/site-packages (from requests<3,>=2.21.0->tensorboard<2.10,>=2.9->tensorflow) (2022.6.15)\n",
                        "Requirement already satisfied: charset-normalizer<3,>=2 in /home/gitpod/.pyenv/versions/3.8.13/lib/python3.8/site-packages (from requests<3,>=2.21.0->tensorboard<2.10,>=2.9->tensorflow) (2.1.0)\n",
                        "Requirement already satisfied: urllib3<1.27,>=1.21.1 in /home/gitpod/.pyenv/versions/3.8.13/lib/python3.8/site-packages (from requests<3,>=2.21.0->tensorboard<2.10,>=2.9->tensorflow) (1.26.11)\n",
                        "Requirement already satisfied: MarkupSafe>=2.1.1 in /home/gitpod/.pyenv/versions/3.8.13/lib/python3.8/site-packages (from werkzeug>=1.0.1->tensorboard<2.10,>=2.9->tensorflow) (2.1.1)\n",
                        "Requirement already satisfied: zipp>=0.5 in /home/gitpod/.pyenv/versions/3.8.13/lib/python3.8/site-packages (from importlib-metadata>=4.4->markdown>=2.6.8->tensorboard<2.10,>=2.9->tensorflow) (3.8.1)\n",
                        "Collecting pyasn1<0.5.0,>=0.4.6\n",
                        "  Downloading pyasn1-0.4.8-py2.py3-none-any.whl (77 kB)\n",
                        "\u001b[2K     \u001b[90m━━━━━━━━━━━━━━━━━━━━━━━━━━━━━━━━━━━━━━━━\u001b[0m \u001b[32m77.1/77.1 kB\u001b[0m \u001b[31m32.8 MB/s\u001b[0m eta \u001b[36m0:00:00\u001b[0m\n",
                        "\u001b[?25hCollecting oauthlib>=3.0.0\n",
                        "  Downloading oauthlib-3.2.0-py3-none-any.whl (151 kB)\n",
                        "\u001b[2K     \u001b[90m━━━━━━━━━━━━━━━━━━━━━━━━━━━━━━━━━━━━━━\u001b[0m \u001b[32m151.5/151.5 kB\u001b[0m \u001b[31m53.2 MB/s\u001b[0m eta \u001b[36m0:00:00\u001b[0m\n",
                        "\u001b[?25hBuilding wheels for collected packages: termcolor\n",
                        "  Building wheel for termcolor (setup.py) ... \u001b[?25ldone\n",
                        "\u001b[?25h  Created wheel for termcolor: filename=termcolor-1.1.0-py3-none-any.whl size=4832 sha256=756a34ed428f059496649d7de6bb2738da7264b6471860f288ccfa94efb64b37\n",
                        "  Stored in directory: /home/gitpod/.cache/pip/wheels/a0/16/9c/5473df82468f958445479c59e784896fa24f4a5fc024b0f501\n",
                        "Successfully built termcolor\n",
                        "Installing collected packages: termcolor, tensorboard-plugin-wit, pyasn1, libclang, keras, flatbuffers, werkzeug, tensorflow-io-gcs-filesystem, tensorflow-estimator, tensorboard-data-server, rsa, pyasn1-modules, protobuf, opt-einsum, oauthlib, keras-preprocessing, h5py, grpcio, google-pasta, gast, cachetools, astunparse, absl-py, requests-oauthlib, markdown, google-auth, google-auth-oauthlib, tensorboard, tensorflow\n",
                        "Successfully installed absl-py-1.2.0 astunparse-1.6.3 cachetools-5.2.0 flatbuffers-1.12 gast-0.4.0 google-auth-2.10.0 google-auth-oauthlib-0.4.6 google-pasta-0.2.0 grpcio-1.47.0 h5py-3.7.0 keras-2.9.0 keras-preprocessing-1.1.2 libclang-14.0.6 markdown-3.4.1 oauthlib-3.2.0 opt-einsum-3.3.0 protobuf-3.19.4 pyasn1-0.4.8 pyasn1-modules-0.2.8 requests-oauthlib-1.3.1 rsa-4.9 tensorboard-2.9.1 tensorboard-data-server-0.6.1 tensorboard-plugin-wit-1.8.1 tensorflow-2.9.1 tensorflow-estimator-2.9.0 tensorflow-io-gcs-filesystem-0.26.0 termcolor-1.1.0 werkzeug-2.2.2\n",
                        "\n",
                        "\u001b[1m[\u001b[0m\u001b[34;49mnotice\u001b[0m\u001b[1;39;49m]\u001b[0m\u001b[39;49m A new release of pip available: \u001b[0m\u001b[31;49m22.2\u001b[0m\u001b[39;49m -> \u001b[0m\u001b[32;49m22.2.2\u001b[0m\n",
                        "\u001b[1m[\u001b[0m\u001b[34;49mnotice\u001b[0m\u001b[1;39;49m]\u001b[0m\u001b[39;49m To update, run: \u001b[0m\u001b[32;49mpip install --upgrade pip\u001b[0m\n"
                    ]
                },
                {
                    "name": "stderr",
                    "output_type": "stream",
                    "text": [
                        "/home/gitpod/.pyenv/versions/3.8.13/lib/python3.8/site-packages/tqdm/auto.py:22: TqdmWarning: IProgress not found. Please update jupyter and ipywidgets. See https://ipywidgets.readthedocs.io/en/stable/user_install.html\n",
                        "  from .autonotebook import tqdm as notebook_tqdm\n",
                        "2022-08-09 01:00:47.310059: W tensorflow/stream_executor/platform/default/dso_loader.cc:64] Could not load dynamic library 'libcudart.so.11.0'; dlerror: libcudart.so.11.0: cannot open shared object file: No such file or directory\n",
                        "2022-08-09 01:00:47.310094: I tensorflow/stream_executor/cuda/cudart_stub.cc:29] Ignore above cudart dlerror if you do not have a GPU set up on your machine.\n",
                        "No model was supplied, defaulted to distilbert-base-uncased-finetuned-sst-2-english and revision af0f99b (https://huggingface.co/distilbert-base-uncased-finetuned-sst-2-english).\n",
                        "Using a pipeline without specifying a model name and revision in production is not recommended.\n",
                        "Downloading config.json: 100%|██████████| 629/629 [00:00<00:00, 543kB/s]\n",
                        "Downloading pytorch_model.bin: 100%|██████████| 255M/255M [00:03<00:00, 68.9MB/s] \n",
                        "Downloading tokenizer_config.json: 100%|██████████| 48.0/48.0 [00:00<00:00, 39.1kB/s]\n",
                        "Downloading vocab.txt: 100%|██████████| 226k/226k [00:00<00:00, 917kB/s] \n"
                    ]
                }
            ],
            "source": [
                "!pip install torch\n",
                "!pip install tensorflow\n",
                "!pip install -q transformers\n",
                "\n",
                "from transformers import pipeline\n",
                "sentiment_pipeline = pipeline(\"sentiment-analysis\")"
            ]
        },
        {
            "cell_type": "code",
            "execution_count": 55,
            "metadata": {},
            "outputs": [
                {
                    "data": {
                        "text/plain": [
                            "[{'label': 'POSITIVE', 'score': 0.9998656511306763},\n",
                            " {'label': 'NEGATIVE', 'score': 0.9991129040718079}]"
                        ]
                    },
                    "execution_count": 55,
                    "metadata": {},
                    "output_type": "execute_result"
                }
            ],
            "source": [
                "data = [\"I love you\", \"I hate you\"]\n",
                "sentiment_pipeline(data)"
            ]
        },
        {
            "cell_type": "code",
            "execution_count": 56,
            "metadata": {},
            "outputs": [
                {
                    "ename": "NameError",
                    "evalue": "name 'nb' is not defined",
                    "output_type": "error",
                    "traceback": [
                        "\u001b[0;31m---------------------------------------------------------------------------\u001b[0m",
                        "\u001b[0;31mNameError\u001b[0m                                 Traceback (most recent call last)",
                        "\u001b[1;32m/workspace/Naive-Bayes-Ana-Entrega/src/explore.ipynb Cell 70\u001b[0m in \u001b[0;36m<cell line: 1>\u001b[0;34m()\u001b[0m\n\u001b[0;32m----> <a href='vscode-notebook-cell://marfurt1-naivebayesanae-7t8imhdergo.ws-us59.gitpod.io/workspace/Naive-Bayes-Ana-Entrega/src/explore.ipynb#Y126sdnNjb2RlLXJlbW90ZQ%3D%3D?line=0'>1</a>\u001b[0m nb\u001b[39m.\u001b[39mpredict(vec\u001b[39m.\u001b[39mtransform([\u001b[39m'\u001b[39m\u001b[39mi don\u001b[39m\u001b[39m\\'\u001b[39;00m\u001b[39mt like\u001b[39m\u001b[39m'\u001b[39m,\u001b[39m'\u001b[39m\u001b[39meat much ram\u001b[39m\u001b[39m'\u001b[39m,\u001b[39m'\u001b[39m\u001b[39meat\u001b[39m\u001b[39m'\u001b[39m,\u001b[39m'\u001b[39m\u001b[39mlike\u001b[39m\u001b[39m'\u001b[39m]))\n",
                        "\u001b[0;31mNameError\u001b[0m: name 'nb' is not defined"
                    ]
                }
            ],
            "source": [
                "nb.predict(vec.transform(['i don\\'t like','eat much ram','eat','like']))\n"
            ]
        },
        {
            "cell_type": "code",
            "execution_count": null,
            "metadata": {},
            "outputs": [
                {
                    "data": {
                        "text/plain": [
                            "array([1, 1, 0, 1])"
                        ]
                    },
                    "execution_count": 480,
                    "metadata": {},
                    "output_type": "execute_result"
                }
            ],
            "source": [
                "nb.predict(vec.transform(['love','great solid love important feature','ram','like fast']))"
            ]
        },
        {
            "cell_type": "code",
            "execution_count": null,
            "metadata": {},
            "outputs": [
                {
                    "data": {
                        "text/plain": [
                            "679                              hamro keyboard god ap doubt however ading features definitely make best folowing things option caps lock key enabled made available leters available along also les options go numbers option one signs mising easy togle option phone keyboard ap keyboard made post\n",
                            "349                                                 viber voice mesages chating viber best ap caling services even mesenger performs ap optimised newest version new option introduced alows se friends sen mesage group wel working makes litle bit mad finaly function introduced viber stil working\n",
                            "701                                                                                                                                      stil best mini like new lok news front fast eficient though overal best around browsers id go maxthon yandex opera mini gold though uc mini coming along neds\n",
                            "182                                                                                                                                                                                                                                                                prety god say oh wait fun game play\n",
                            "663              god ap nice try dear developers great job done would sugest u get idea fleksy keyboard ap also shal get rating around would sugest make easy standard keys hamro best hope update new inovative idea ap sugested ap frenz nepal overseas since ap one best ap mine want se ap since r\n",
                            "260                                                                                                                                                                        chrome browser barister fine aplication like aplication also love thi esay browsing perfectly working given aplication star\n",
                            "472                                                                                                                                                        love switch sign buton sign option helps maintaing personal kep check constant adiction usage service help striking balance personal social\n",
                            "863                                                                                                                                                                        angry birds loks easy demand bit player may become frustrated never always find angry birds great way pas adverts alow skip\n",
                            "766                                                                                                                                                                                                                                                                                              loved\n",
                            "606    great ap god tol like virtual notebok binder file cabinet use diferent aps quick notes tasks would use tasks repeating reminders ability snoze also sync ned save notes receipts travel plans prayers spiritual writings evernote ap easy use never loses dependable love using desktop version\n",
                            "Name: review, dtype: object"
                        ]
                    },
                    "execution_count": 481,
                    "metadata": {},
                    "output_type": "execute_result"
                }
            ],
            "source": [
                "df[df['polarity']==1]['review'].sample(10)"
            ]
        },
        {
            "cell_type": "code",
            "execution_count": null,
            "metadata": {},
            "outputs": [
                {
                    "data": {
                        "text/plain": [
                            "65              neds actual update twiter slows twets continue even takes long time load twet use moblie site version actualy use\n",
                            "166                                                      like review take advice cant save data though always find chest uninstal\n",
                            "308                          download pics used able download pics conversation save option long pres gives every option download\n",
                            "338    option separate viber se viber contacts separately shows together last update god cal drops video cal hear person properly\n",
                            "427                                     se change friend change nicknames mine setings change color anything fix please faster gr\n",
                            "36                             update uninstals everytime try update uninstals ap want know using data time update driving please\n",
                            "392                    major anoyance new update show online define online gogle using timestamps please ad dark mode feature wel\n",
                            "699                                                     cant download big things cant download mb says failed tel work ur fix plz\n",
                            "221                                                ap load since update ap even stuck downloading content uninstal going eror fix\n",
                            "505                                                      ned swipe images nice ap would realy nice could swipe images viewing ful\n",
                            "Name: review, dtype: object"
                        ]
                    },
                    "execution_count": 482,
                    "metadata": {},
                    "output_type": "execute_result"
                }
            ],
            "source": [
                "df[df['polarity']==0]['review'].sample(10)"
            ]
        },
        {
            "cell_type": "markdown",
            "metadata": {},
            "source": [
                "Save the model \n"
            ]
        },
        {
            "cell_type": "code",
            "execution_count": null,
            "metadata": {},
            "outputs": [],
            "source": [
                "#filename = '../modelo_final.sav' #use absolute path\n",
                "#pickle.dump(nb, open('../models/modelo_final.sav', 'wb'))\n"
            ]
        }
    ],
    "metadata": {
        "kernelspec": {
            "display_name": "Python 3.8.13 64-bit ('3.8.13')",
            "language": "python",
            "name": "python3"
        },
        "language_info": {
            "codemirror_mode": {
                "name": "ipython",
                "version": 3
            },
            "file_extension": ".py",
            "mimetype": "text/x-python",
            "name": "python",
            "nbconvert_exporter": "python",
            "pygments_lexer": "ipython3",
            "version": "3.8.13"
        },
        "orig_nbformat": 4,
        "vscode": {
            "interpreter": {
                "hash": "110cc1dee26208153f2972f08a2ad52b6a56238dc66d48e87fb757ef2996db56"
            }
        }
    },
    "nbformat": 4,
    "nbformat_minor": 2
}
