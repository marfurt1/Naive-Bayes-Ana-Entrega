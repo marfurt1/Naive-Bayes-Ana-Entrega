{
    "cells": [
        {
            "cell_type": "markdown",
            "metadata": {},
            "source": [
                "# Case\n",
                "\n",
                "Naive sentiment analysis\n",
                "\n",
                "This is a simple project using Naive Bayes Classifier and Scikit-learn to create a Google Play store reviews classifier (Sentiment Analysis) in Python. You will categorize user reviews as good or bad. The Naive Bayes classification technique is a simple and powerful classification task in machine learning. The Naive Bayes classification technique is a simple and powerful classification task in machine learning. In this dataset, we use the 23 most popular mobile apps, and only two columns.\n",
                "\n",
                "Step 1:\n",
                "\n",
                "We have three columns: package name, review and polarity (0 = bad, 1 = good) Preprocess the data by eliminating the package name column and putting all reviews in lower case.\n",
                "\n",
                "Step 2:\n",
                "\n",
                "Separate target from feature, and split your data.\n",
                "\n",
                "Step 3:\n",
                "\n",
                "Vectorize your features and use Naive Bayes to classify the reviews as good or bad. We will not focus on hypertuning our model this time. This was an introduction project to sentiment analysis using Naive Bayes.\n",
                "\n",
                "Step 4:\n",
                "\n",
                "Use the app.py to create your pipeline.\n",
                "\n",
                "Save your naive bayes classification model in the 'models' folder."
            ]
        },
        {
            "cell_type": "markdown",
            "metadata": {},
            "source": [
                "Insall de libraries"
            ]
        },
        {
            "cell_type": "code",
            "execution_count": 125,
            "metadata": {},
            "outputs": [
                {
                    "name": "stdout",
                    "output_type": "stream",
                    "text": [
                        "Requirement already satisfied: pandas in /home/gitpod/.pyenv/versions/3.8.13/lib/python3.8/site-packages (1.4.3)\n",
                        "Requirement already satisfied: numpy>=1.18.5 in /home/gitpod/.pyenv/versions/3.8.13/lib/python3.8/site-packages (from pandas) (1.23.1)\n",
                        "Requirement already satisfied: python-dateutil>=2.8.1 in /home/gitpod/.pyenv/versions/3.8.13/lib/python3.8/site-packages (from pandas) (2.8.2)\n",
                        "Requirement already satisfied: pytz>=2020.1 in /home/gitpod/.pyenv/versions/3.8.13/lib/python3.8/site-packages (from pandas) (2022.1)\n",
                        "Requirement already satisfied: six>=1.5 in /home/gitpod/.pyenv/versions/3.8.13/lib/python3.8/site-packages (from python-dateutil>=2.8.1->pandas) (1.16.0)\n",
                        "\n",
                        "\u001b[1m[\u001b[0m\u001b[34;49mnotice\u001b[0m\u001b[1;39;49m]\u001b[0m\u001b[39;49m A new release of pip available: \u001b[0m\u001b[31;49m22.2\u001b[0m\u001b[39;49m -> \u001b[0m\u001b[32;49m22.2.2\u001b[0m\n",
                        "\u001b[1m[\u001b[0m\u001b[34;49mnotice\u001b[0m\u001b[1;39;49m]\u001b[0m\u001b[39;49m To update, run: \u001b[0m\u001b[32;49mpip install --upgrade pip\u001b[0m\n",
                        "Requirement already satisfied: numpy in /home/gitpod/.pyenv/versions/3.8.13/lib/python3.8/site-packages (1.23.1)\n",
                        "\n",
                        "\u001b[1m[\u001b[0m\u001b[34;49mnotice\u001b[0m\u001b[1;39;49m]\u001b[0m\u001b[39;49m A new release of pip available: \u001b[0m\u001b[31;49m22.2\u001b[0m\u001b[39;49m -> \u001b[0m\u001b[32;49m22.2.2\u001b[0m\n",
                        "\u001b[1m[\u001b[0m\u001b[34;49mnotice\u001b[0m\u001b[1;39;49m]\u001b[0m\u001b[39;49m To update, run: \u001b[0m\u001b[32;49mpip install --upgrade pip\u001b[0m\n",
                        "Requirement already satisfied: sklearn in /home/gitpod/.pyenv/versions/3.8.13/lib/python3.8/site-packages (0.0)\n",
                        "Requirement already satisfied: scikit-learn in /home/gitpod/.pyenv/versions/3.8.13/lib/python3.8/site-packages (from sklearn) (1.1.2)\n",
                        "Requirement already satisfied: numpy>=1.17.3 in /home/gitpod/.pyenv/versions/3.8.13/lib/python3.8/site-packages (from scikit-learn->sklearn) (1.23.1)\n",
                        "Requirement already satisfied: scipy>=1.3.2 in /home/gitpod/.pyenv/versions/3.8.13/lib/python3.8/site-packages (from scikit-learn->sklearn) (1.9.0)\n",
                        "Requirement already satisfied: threadpoolctl>=2.0.0 in /home/gitpod/.pyenv/versions/3.8.13/lib/python3.8/site-packages (from scikit-learn->sklearn) (3.1.0)\n",
                        "Requirement already satisfied: joblib>=1.0.0 in /home/gitpod/.pyenv/versions/3.8.13/lib/python3.8/site-packages (from scikit-learn->sklearn) (1.1.0)\n",
                        "\n",
                        "\u001b[1m[\u001b[0m\u001b[34;49mnotice\u001b[0m\u001b[1;39;49m]\u001b[0m\u001b[39;49m A new release of pip available: \u001b[0m\u001b[31;49m22.2\u001b[0m\u001b[39;49m -> \u001b[0m\u001b[32;49m22.2.2\u001b[0m\n",
                        "\u001b[1m[\u001b[0m\u001b[34;49mnotice\u001b[0m\u001b[1;39;49m]\u001b[0m\u001b[39;49m To update, run: \u001b[0m\u001b[32;49mpip install --upgrade pip\u001b[0m\n",
                        "Requirement already satisfied: nltk in /home/gitpod/.pyenv/versions/3.8.13/lib/python3.8/site-packages (3.7)\n",
                        "Requirement already satisfied: click in /home/gitpod/.pyenv/versions/3.8.13/lib/python3.8/site-packages (from nltk) (8.1.3)\n",
                        "Requirement already satisfied: joblib in /home/gitpod/.pyenv/versions/3.8.13/lib/python3.8/site-packages (from nltk) (1.1.0)\n",
                        "Requirement already satisfied: regex>=2021.8.3 in /home/gitpod/.pyenv/versions/3.8.13/lib/python3.8/site-packages (from nltk) (2022.7.25)\n",
                        "Requirement already satisfied: tqdm in /home/gitpod/.pyenv/versions/3.8.13/lib/python3.8/site-packages (from nltk) (4.64.0)\n",
                        "\n",
                        "\u001b[1m[\u001b[0m\u001b[34;49mnotice\u001b[0m\u001b[1;39;49m]\u001b[0m\u001b[39;49m A new release of pip available: \u001b[0m\u001b[31;49m22.2\u001b[0m\u001b[39;49m -> \u001b[0m\u001b[32;49m22.2.2\u001b[0m\n",
                        "\u001b[1m[\u001b[0m\u001b[34;49mnotice\u001b[0m\u001b[1;39;49m]\u001b[0m\u001b[39;49m To update, run: \u001b[0m\u001b[32;49mpip install --upgrade pip\u001b[0m\n",
                        "Requirement already satisfied: matplotlib in /home/gitpod/.pyenv/versions/3.8.13/lib/python3.8/site-packages (3.5.2)\n",
                        "Requirement already satisfied: pyparsing>=2.2.1 in /home/gitpod/.pyenv/versions/3.8.13/lib/python3.8/site-packages (from matplotlib) (3.0.9)\n",
                        "Requirement already satisfied: packaging>=20.0 in /home/gitpod/.pyenv/versions/3.8.13/lib/python3.8/site-packages (from matplotlib) (21.3)\n",
                        "Requirement already satisfied: python-dateutil>=2.7 in /home/gitpod/.pyenv/versions/3.8.13/lib/python3.8/site-packages (from matplotlib) (2.8.2)\n",
                        "Requirement already satisfied: pillow>=6.2.0 in /home/gitpod/.pyenv/versions/3.8.13/lib/python3.8/site-packages (from matplotlib) (9.2.0)\n",
                        "Requirement already satisfied: numpy>=1.17 in /home/gitpod/.pyenv/versions/3.8.13/lib/python3.8/site-packages (from matplotlib) (1.23.1)\n",
                        "Requirement already satisfied: kiwisolver>=1.0.1 in /home/gitpod/.pyenv/versions/3.8.13/lib/python3.8/site-packages (from matplotlib) (1.4.4)\n",
                        "Requirement already satisfied: fonttools>=4.22.0 in /home/gitpod/.pyenv/versions/3.8.13/lib/python3.8/site-packages (from matplotlib) (4.34.4)\n",
                        "Requirement already satisfied: cycler>=0.10 in /home/gitpod/.pyenv/versions/3.8.13/lib/python3.8/site-packages (from matplotlib) (0.11.0)\n",
                        "Requirement already satisfied: six>=1.5 in /home/gitpod/.pyenv/versions/3.8.13/lib/python3.8/site-packages (from python-dateutil>=2.7->matplotlib) (1.16.0)\n",
                        "\n",
                        "\u001b[1m[\u001b[0m\u001b[34;49mnotice\u001b[0m\u001b[1;39;49m]\u001b[0m\u001b[39;49m A new release of pip available: \u001b[0m\u001b[31;49m22.2\u001b[0m\u001b[39;49m -> \u001b[0m\u001b[32;49m22.2.2\u001b[0m\n",
                        "\u001b[1m[\u001b[0m\u001b[34;49mnotice\u001b[0m\u001b[1;39;49m]\u001b[0m\u001b[39;49m To update, run: \u001b[0m\u001b[32;49mpip install --upgrade pip\u001b[0m\n",
                        "\u001b[31mERROR: Could not find a version that satisfies the requirement pickle (from versions: none)\u001b[0m\u001b[31m\n",
                        "\u001b[0m\u001b[31mERROR: No matching distribution found for pickle\u001b[0m\u001b[31m\n",
                        "\u001b[0m\n",
                        "\u001b[1m[\u001b[0m\u001b[34;49mnotice\u001b[0m\u001b[1;39;49m]\u001b[0m\u001b[39;49m A new release of pip available: \u001b[0m\u001b[31;49m22.2\u001b[0m\u001b[39;49m -> \u001b[0m\u001b[32;49m22.2.2\u001b[0m\n",
                        "\u001b[1m[\u001b[0m\u001b[34;49mnotice\u001b[0m\u001b[1;39;49m]\u001b[0m\u001b[39;49m To update, run: \u001b[0m\u001b[32;49mpip install --upgrade pip\u001b[0m\n",
                        "Note: you may need to restart the kernel to use updated packages.\n"
                    ]
                }
            ],
            "source": [
                "!pip install pandas\n",
                "!pip install numpy\n",
                "!pip install sklearn\n",
                "!pip install nltk\n",
                "!pip install matplotlib\n",
                "%pip install pickle"
            ]
        },
        {
            "cell_type": "markdown",
            "metadata": {},
            "source": [
                "Imports"
            ]
        },
        {
            "cell_type": "code",
            "execution_count": 126,
            "metadata": {},
            "outputs": [],
            "source": [
                "import pandas as pd\n",
                "import numpy as np\n",
                "import nltk #text processing\n",
                "import re\n",
                "import unicodedata\n",
                "import pickle\n",
                "import matplotlib.pyplot as plt\n",
                "%matplotlib inline\n",
                "from nltk.corpus import stopwords\n",
                "from sklearn.model_selection import train_test_split\n",
                "from sklearn.feature_extraction.text import CountVectorizer\n",
                "from sklearn.naive_bayes import MultinomialNB\n",
                "from sklearn.feature_extraction.text import TfidfVectorizer\n",
                "from sklearn.feature_extraction.text import TfidfTransformer\n",
                "from sklearn.naive_bayes import MultinomialNB\n",
                "from sklearn.pipeline import Pipeline\n",
                "from sklearn import metrics\n",
                "from sklearn.metrics import precision_recall_fscore_support\n",
                "from sklearn.metrics import confusion_matrix\n",
                "from sklearn.model_selection import RandomizedSearchCV\n",
                "from sklearn.metrics import classification_report\n",
                "from sklearn.naive_bayes import GaussianNB\n",
                "\n"
            ]
        },
        {
            "cell_type": "code",
            "execution_count": 127,
            "metadata": {},
            "outputs": [
                {
                    "name": "stderr",
                    "output_type": "stream",
                    "text": [
                        "[nltk_data] Downloading package stopwords to /home/gitpod/nltk_data...\n",
                        "[nltk_data]   Package stopwords is already up-to-date!\n"
                    ]
                },
                {
                    "data": {
                        "text/plain": [
                            "True"
                        ]
                    },
                    "execution_count": 127,
                    "metadata": {},
                    "output_type": "execute_result"
                }
            ],
            "source": [
                "#load the words to use as filter\n",
                "nltk.download('stopwords')"
            ]
        },
        {
            "cell_type": "markdown",
            "metadata": {},
            "source": [
                "Load Data of Reviews"
            ]
        },
        {
            "cell_type": "code",
            "execution_count": 128,
            "metadata": {},
            "outputs": [],
            "source": [
                "url='https://raw.githubusercontent.com/4GeeksAcademy/naive-bayes-project-tutorial/main/playstore_reviews_dataset.csv'\n",
                "df = pd.read_csv(url)"
            ]
        },
        {
            "cell_type": "markdown",
            "metadata": {},
            "source": [
                "Explore Dataset"
            ]
        },
        {
            "cell_type": "code",
            "execution_count": 129,
            "metadata": {},
            "outputs": [
                {
                    "data": {
                        "text/html": [
                            "<div>\n",
                            "<style scoped>\n",
                            "    .dataframe tbody tr th:only-of-type {\n",
                            "        vertical-align: middle;\n",
                            "    }\n",
                            "\n",
                            "    .dataframe tbody tr th {\n",
                            "        vertical-align: top;\n",
                            "    }\n",
                            "\n",
                            "    .dataframe thead th {\n",
                            "        text-align: right;\n",
                            "    }\n",
                            "</style>\n",
                            "<table border=\"1\" class=\"dataframe\">\n",
                            "  <thead>\n",
                            "    <tr style=\"text-align: right;\">\n",
                            "      <th></th>\n",
                            "      <th>package_name</th>\n",
                            "      <th>review</th>\n",
                            "      <th>polarity</th>\n",
                            "    </tr>\n",
                            "  </thead>\n",
                            "  <tbody>\n",
                            "    <tr>\n",
                            "      <th>0</th>\n",
                            "      <td>com.facebook.katana</td>\n",
                            "      <td>privacy at least put some option appear offline. i mean for some people like me it's a big pressure to be seen online like you need to response on every message or else you be called seenzone only. if only i wanna do on facebook is to read on my newsfeed and just wanna response on message i want to. pls reconsidered my review. i tried to turn off chat but still can see me as online.</td>\n",
                            "      <td>0</td>\n",
                            "    </tr>\n",
                            "    <tr>\n",
                            "      <th>1</th>\n",
                            "      <td>com.facebook.katana</td>\n",
                            "      <td>messenger issues ever since the last update, initial received messages don't get pushed to the messenger app and you don't get notification in the facebook app or messenger app. you open the facebook app and happen to see you have a message. you have to click the icon and it opens messenger. subsequent messages go through messenger app, unless you close the chat head... then you start over with no notification and having to go through the facebook app.</td>\n",
                            "      <td>0</td>\n",
                            "    </tr>\n",
                            "    <tr>\n",
                            "      <th>2</th>\n",
                            "      <td>com.facebook.katana</td>\n",
                            "      <td>profile any time my wife or anybody has more than one post and i view them it would take me to there profile so that i can view them all at once. now when i try to view them it tells me that the page that i requested is not available. i've restarted my phone i even cleard the cache and i've uninstalled and reinstalled the app and it is still doing it. please fix it thank you</td>\n",
                            "      <td>0</td>\n",
                            "    </tr>\n",
                            "    <tr>\n",
                            "      <th>3</th>\n",
                            "      <td>com.facebook.katana</td>\n",
                            "      <td>the new features suck for those of us who don't have a working back button can you guys make the videos able to be slid to the left to exit the video. as i have to force close facebook to exit</td>\n",
                            "      <td>0</td>\n",
                            "    </tr>\n",
                            "    <tr>\n",
                            "      <th>4</th>\n",
                            "      <td>com.facebook.katana</td>\n",
                            "      <td>forced reload on uploading pic on replying comment last night i tried to reply a comment by uploading a photo from my phone. when i press on the button to select photos the app automatically goes back to the main page. on other occasions, i could enter to my gallery to select my image but as soon as i selected an image and press done, the program, again, forced reload and suddenly go back to the main page. please fix this and i will change my rating. thank you.</td>\n",
                            "      <td>0</td>\n",
                            "    </tr>\n",
                            "  </tbody>\n",
                            "</table>\n",
                            "</div>"
                        ],
                        "text/plain": [
                            "          package_name  \\\n",
                            "0  com.facebook.katana   \n",
                            "1  com.facebook.katana   \n",
                            "2  com.facebook.katana   \n",
                            "3  com.facebook.katana   \n",
                            "4  com.facebook.katana   \n",
                            "\n",
                            "                                                                                                                                                                                                                                                                                                                                                                                                                                                                               review  \\\n",
                            "0                                                                                   privacy at least put some option appear offline. i mean for some people like me it's a big pressure to be seen online like you need to response on every message or else you be called seenzone only. if only i wanna do on facebook is to read on my newsfeed and just wanna response on message i want to. pls reconsidered my review. i tried to turn off chat but still can see me as online.   \n",
                            "1            messenger issues ever since the last update, initial received messages don't get pushed to the messenger app and you don't get notification in the facebook app or messenger app. you open the facebook app and happen to see you have a message. you have to click the icon and it opens messenger. subsequent messages go through messenger app, unless you close the chat head... then you start over with no notification and having to go through the facebook app.   \n",
                            "2                                                                                           profile any time my wife or anybody has more than one post and i view them it would take me to there profile so that i can view them all at once. now when i try to view them it tells me that the page that i requested is not available. i've restarted my phone i even cleard the cache and i've uninstalled and reinstalled the app and it is still doing it. please fix it thank you   \n",
                            "3                                                                                                                                                                                                                                                                                    the new features suck for those of us who don't have a working back button can you guys make the videos able to be slid to the left to exit the video. as i have to force close facebook to exit   \n",
                            "4   forced reload on uploading pic on replying comment last night i tried to reply a comment by uploading a photo from my phone. when i press on the button to select photos the app automatically goes back to the main page. on other occasions, i could enter to my gallery to select my image but as soon as i selected an image and press done, the program, again, forced reload and suddenly go back to the main page. please fix this and i will change my rating. thank you.   \n",
                            "\n",
                            "   polarity  \n",
                            "0         0  \n",
                            "1         0  \n",
                            "2         0  \n",
                            "3         0  \n",
                            "4         0  "
                        ]
                    },
                    "execution_count": 129,
                    "metadata": {},
                    "output_type": "execute_result"
                }
            ],
            "source": [
                "df.head()\n"
            ]
        },
        {
            "cell_type": "code",
            "execution_count": 130,
            "metadata": {},
            "outputs": [
                {
                    "data": {
                        "text/plain": [
                            "0    584\n",
                            "1    307\n",
                            "Name: polarity, dtype: int64"
                        ]
                    },
                    "execution_count": 130,
                    "metadata": {},
                    "output_type": "execute_result"
                }
            ],
            "source": [
                "df['polarity'].value_counts()"
            ]
        },
        {
            "cell_type": "code",
            "execution_count": 131,
            "metadata": {},
            "outputs": [
                {
                    "name": "stdout",
                    "output_type": "stream",
                    "text": [
                        "<class 'pandas.core.frame.DataFrame'>\n",
                        "RangeIndex: 891 entries, 0 to 890\n",
                        "Data columns (total 3 columns):\n",
                        " #   Column        Non-Null Count  Dtype \n",
                        "---  ------        --------------  ----- \n",
                        " 0   package_name  891 non-null    object\n",
                        " 1   review        891 non-null    object\n",
                        " 2   polarity      891 non-null    int64 \n",
                        "dtypes: int64(1), object(2)\n",
                        "memory usage: 21.0+ KB\n"
                    ]
                }
            ],
            "source": [
                "df.info()"
            ]
        },
        {
            "cell_type": "markdown",
            "metadata": {},
            "source": [
                "Package name, review and polarity (0 = bad, 1 = good)"
            ]
        },
        {
            "cell_type": "code",
            "execution_count": 132,
            "metadata": {},
            "outputs": [
                {
                    "data": {
                        "text/html": [
                            "<div>\n",
                            "<style scoped>\n",
                            "    .dataframe tbody tr th:only-of-type {\n",
                            "        vertical-align: middle;\n",
                            "    }\n",
                            "\n",
                            "    .dataframe tbody tr th {\n",
                            "        vertical-align: top;\n",
                            "    }\n",
                            "\n",
                            "    .dataframe thead th {\n",
                            "        text-align: right;\n",
                            "    }\n",
                            "</style>\n",
                            "<table border=\"1\" class=\"dataframe\">\n",
                            "  <thead>\n",
                            "    <tr style=\"text-align: right;\">\n",
                            "      <th></th>\n",
                            "      <th>package_name</th>\n",
                            "      <th>review</th>\n",
                            "      <th>polarity</th>\n",
                            "    </tr>\n",
                            "  </thead>\n",
                            "  <tbody>\n",
                            "    <tr>\n",
                            "      <th>321</th>\n",
                            "      <td>com.viber.voip</td>\n",
                            "      <td>no ringing tone whenever i call someone it shows that its ringing but has no calling sound. keeps going offline automatically . fix new update pls!</td>\n",
                            "      <td>0</td>\n",
                            "    </tr>\n",
                            "    <tr>\n",
                            "      <th>776</th>\n",
                            "      <td>org.mozilla.firefox</td>\n",
                            "      <td>shab i have firefox on all of my devices and its more safer than the internet explorer. i like it i just wish it had more functions like free spyware, anti virus.</td>\n",
                            "      <td>0</td>\n",
                            "    </tr>\n",
                            "    <tr>\n",
                            "      <th>740</th>\n",
                            "      <td>com.shirantech.kantipur</td>\n",
                            "      <td>too much pop up add average app with too much advertisement. one star for the app and 5 star for the pop up advertisement.</td>\n",
                            "      <td>0</td>\n",
                            "    </tr>\n",
                            "    <tr>\n",
                            "      <th>812</th>\n",
                            "      <td>org.mozilla.firefox</td>\n",
                            "      <td>gave u too many chances i love desktop firefox, this app is brutally annoying an cumbersome, i've installed it about 5 times thinking/hoping it would get better. there are much better browsers for android than this eg. dolphin or maxthon</td>\n",
                            "      <td>1</td>\n",
                            "    </tr>\n",
                            "    <tr>\n",
                            "      <th>99</th>\n",
                            "      <td>com.linkedin.android</td>\n",
                            "      <td>updated version is down not able to sent connection request, no contacts synchronization . please develop soon</td>\n",
                            "      <td>0</td>\n",
                            "    </tr>\n",
                            "    <tr>\n",
                            "      <th>443</th>\n",
                            "      <td>com.whatsapp</td>\n",
                            "      <td>few ui updates 1. group should be included with group status... so that if common event is there then the event can be posted through group status.. and group name need not be changed. . . as it becomes difficult to identify a particular group if a particular festival is there and all group name seems to be similar.         2. profile picture and profile status should be at one place not seperate... for status we have shortcut but for profile picture we have to go into settings then profile then comes profile picture.</td>\n",
                            "      <td>0</td>\n",
                            "    </tr>\n",
                            "    <tr>\n",
                            "      <th>222</th>\n",
                            "      <td>com.supercell.clashofclans</td>\n",
                            "      <td>this update sucks!!! i can't open the game anymore, just crashed. damn it! i have an on going war but the app won't run... if there is a half star option to rate this, i would give you that. fix this asap....</td>\n",
                            "      <td>0</td>\n",
                            "    </tr>\n",
                            "    <tr>\n",
                            "      <th>493</th>\n",
                            "      <td>com.Slack</td>\n",
                            "      <td>wonderful for project coordination this is a great tool to have when coordinating projects. it keeps everyone on the same page and in communication.</td>\n",
                            "      <td>1</td>\n",
                            "    </tr>\n",
                            "    <tr>\n",
                            "      <th>852</th>\n",
                            "      <td>com.rovio.angrybirds</td>\n",
                            "      <td>its cool my brother doesnt bug m me anymore i show him angry birds and his mouth shuts but some levels are almost impossible and i have to wait for free power ups or buy them</td>\n",
                            "      <td>1</td>\n",
                            "    </tr>\n",
                            "    <tr>\n",
                            "      <th>509</th>\n",
                            "      <td>com.Slack</td>\n",
                            "      <td>free the gifs not reliable on a slower network,  messages frequently don't send</td>\n",
                            "      <td>0</td>\n",
                            "    </tr>\n",
                            "  </tbody>\n",
                            "</table>\n",
                            "</div>"
                        ],
                        "text/plain": [
                            "                   package_name  \\\n",
                            "321              com.viber.voip   \n",
                            "776         org.mozilla.firefox   \n",
                            "740     com.shirantech.kantipur   \n",
                            "812         org.mozilla.firefox   \n",
                            "99         com.linkedin.android   \n",
                            "443                com.whatsapp   \n",
                            "222  com.supercell.clashofclans   \n",
                            "493                   com.Slack   \n",
                            "852        com.rovio.angrybirds   \n",
                            "509                   com.Slack   \n",
                            "\n",
                            "                                                                                                                                                                                                                                                                                                                                                                                                                                                                                                                                           review  \\\n",
                            "321                                                                                                                                                                                                                                                                                                                                                                                           no ringing tone whenever i call someone it shows that its ringing but has no calling sound. keeps going offline automatically . fix new update pls!   \n",
                            "776                                                                                                                                                                                                                                                                                                                                                                            shab i have firefox on all of my devices and its more safer than the internet explorer. i like it i just wish it had more functions like free spyware, anti virus.   \n",
                            "740                                                                                                                                                                                                                                                                                                                                                                                                                    too much pop up add average app with too much advertisement. one star for the app and 5 star for the pop up advertisement.   \n",
                            "812                                                                                                                                                                                                                                                                                                 gave u too many chances i love desktop firefox, this app is brutally annoying an cumbersome, i've installed it about 5 times thinking/hoping it would get better. there are much better browsers for android than this eg. dolphin or maxthon   \n",
                            "99                                                                                                                                                                                                                                                                                                                                                                                                                                 updated version is down not able to sent connection request, no contacts synchronization . please develop soon   \n",
                            "443   few ui updates 1. group should be included with group status... so that if common event is there then the event can be posted through group status.. and group name need not be changed. . . as it becomes difficult to identify a particular group if a particular festival is there and all group name seems to be similar.         2. profile picture and profile status should be at one place not seperate... for status we have shortcut but for profile picture we have to go into settings then profile then comes profile picture.   \n",
                            "222                                                                                                                                                                                                                                                                                                                              this update sucks!!! i can't open the game anymore, just crashed. damn it! i have an on going war but the app won't run... if there is a half star option to rate this, i would give you that. fix this asap....   \n",
                            "493                                                                                                                                                                                                                                                                                                                                                                                          wonderful for project coordination this is a great tool to have when coordinating projects. it keeps everyone on the same page and in communication.   \n",
                            "852                                                                                                                                                                                                                                                                                                                                                                its cool my brother doesnt bug m me anymore i show him angry birds and his mouth shuts but some levels are almost impossible and i have to wait for free power ups or buy them   \n",
                            "509                                                                                                                                                                                                                                                                                                                                                                                                                                                               free the gifs not reliable on a slower network,  messages frequently don't send   \n",
                            "\n",
                            "     polarity  \n",
                            "321         0  \n",
                            "776         0  \n",
                            "740         0  \n",
                            "812         1  \n",
                            "99          0  \n",
                            "443         0  \n",
                            "222         0  \n",
                            "493         1  \n",
                            "852         1  \n",
                            "509         0  "
                        ]
                    },
                    "execution_count": 132,
                    "metadata": {},
                    "output_type": "execute_result"
                }
            ],
            "source": [
                "df.sample(10)"
            ]
        },
        {
            "cell_type": "markdown",
            "metadata": {},
            "source": [
                "\n",
                "Text Processing - Clean\n",
                "\n",
                "Step 1 - change all to lower case\n"
            ]
        },
        {
            "cell_type": "code",
            "execution_count": 133,
            "metadata": {},
            "outputs": [],
            "source": [
                "#Preprocess the data by eliminating the package name column and putting all reviews in lower case.\n",
                "\n",
                "df.drop(['package_name'],axis=1, inplace=True)\n",
                "#chante all to lower case\n",
                "df['review'] = df['review'].str.lower()\n"
            ]
        },
        {
            "cell_type": "markdown",
            "metadata": {},
            "source": [
                "\n",
                "\n",
                "Step 2 - Remove all words that not have meaning to the search - stop words\n"
            ]
        },
        {
            "cell_type": "code",
            "execution_count": 134,
            "metadata": {},
            "outputs": [
                {
                    "data": {
                        "text/plain": [
                            "the       1293\n",
                            "to        1159\n",
                            "i         1084\n",
                            "and        853\n",
                            "it         778\n",
                            "a          619\n",
                            "is         555\n",
                            "my         442\n",
                            "this       421\n",
                            "for        410\n",
                            "of         390\n",
                            "but        348\n",
                            "in         340\n",
                            "on         325\n",
                            "not        318\n",
                            "app        317\n",
                            "you        315\n",
                            "that       260\n",
                            "have       252\n",
                            "with       220\n",
                            "so         203\n",
                            "be         194\n",
                            "no         186\n",
                            "when       182\n",
                            "if         180\n",
                            "or         169\n",
                            "all        163\n",
                            "can        158\n",
                            "as         148\n",
                            "me         145\n",
                            "are        139\n",
                            "it's       138\n",
                            "can't      137\n",
                            "update     136\n",
                            "new        136\n",
                            "like       135\n",
                            "fix        133\n",
                            "please     131\n",
                            "good       128\n",
                            "game       121\n",
                            "one        119\n",
                            "use        118\n",
                            "just       117\n",
                            "get        112\n",
                            "its        111\n",
                            "very       109\n",
                            "more       107\n",
                            "was        104\n",
                            "there      104\n",
                            "don't      103\n",
                            "now        102\n",
                            "will       102\n",
                            "even       101\n",
                            "from       101\n",
                            "at         100\n",
                            "up          99\n",
                            "great       99\n",
                            "time        93\n",
                            "your        90\n",
                            "do          89\n",
                            "dtype: int64"
                        ]
                    },
                    "execution_count": 134,
                    "metadata": {},
                    "output_type": "execute_result"
                }
            ],
            "source": [
                "#see, the word in the reviews, create a list of word and frecuency\n",
                "df['review'].str.split(expand = True).stack().value_counts()[:60] #(show top 60)"
            ]
        },
        {
            "cell_type": "code",
            "execution_count": 135,
            "metadata": {},
            "outputs": [],
            "source": [
                "#remove the stopword\n",
                "stop = stopwords.words('english')\n",
                "\n",
                "def remove_stopwords(text):\n",
                "  if text is not None:\n",
                "    #list of the word in the text\n",
                "    words = text.strip().split()\n",
                "    words_filtered = []\n",
                "    for word in words:\n",
                "      if word not in stop:\n",
                "        words_filtered.append(word)\n",
                "    result = \" \".join(words_filtered) #join the word in a text with space separation\n",
                "  else:\n",
                "      result = None\n",
                "  return result\n"
            ]
        },
        {
            "cell_type": "markdown",
            "metadata": {},
            "source": [
                "\n",
                "\n",
                "Eliminamos los caracteres desconocidos\n"
            ]
        },
        {
            "cell_type": "code",
            "execution_count": 136,
            "metadata": {},
            "outputs": [],
            "source": [
                "# elimina espacio libre al principio y al final\n",
                "df['review'] = df['review'].str.strip()\n",
                "df['review'] = df['review'].str.lower()\n"
            ]
        },
        {
            "cell_type": "code",
            "execution_count": 137,
            "metadata": {},
            "outputs": [
                {
                    "data": {
                        "text/plain": [
                            "0                                                                                      privacy at least put some option appear offline. i mean for some people like me it's a big pressure to be seen online like you need to response on every message or else you be called seenzone only. if only i wanna do on facebook is to read on my newsfeed and just wanna response on message i want to. pls reconsidered my review. i tried to turn off chat but still can see me as online.\n",
                            "1               messenger issues ever since the last update, initial received messages don't get pushed to the messenger app and you don't get notification in the facebook app or messenger app. you open the facebook app and happen to see you have a message. you have to click the icon and it opens messenger. subsequent messages go through messenger app, unless you close the chat head... then you start over with no notification and having to go through the facebook app.\n",
                            "2                                                                                              profile any time my wife or anybody has more than one post and i view them it would take me to there profile so that i can view them all at once. now when i try to view them it tells me that the page that i requested is not available. i've restarted my phone i even cleard the cache and i've uninstalled and reinstalled the app and it is still doing it. please fix it thank you\n",
                            "3                                                                                                                                                                                                                                                                                       the new features suck for those of us who don't have a working back button can you guys make the videos able to be slid to the left to exit the video. as i have to force close facebook to exit\n",
                            "4      forced reload on uploading pic on replying comment last night i tried to reply a comment by uploading a photo from my phone. when i press on the button to select photos the app automatically goes back to the main page. on other occasions, i could enter to my gallery to select my image but as soon as i selected an image and press done, the program, again, forced reload and suddenly go back to the main page. please fix this and i will change my rating. thank you.\n",
                            "                                                                                                                                                                                                                                             ...                                                                                                                                                                                                                                        \n",
                            "886                                                                                                                                                                                                                                                                                                                                 loved it i loooooooooooooovvved it because it is incredible  awesome  and it's in go power and make a new clash of clans the same thing  butt better\n",
                            "887                                                                                                                                                                        all time legendary game the birthday party levels and short fuse levels are fantastic.especially when the pigs crash onto different chemicals is just great.suggestion to all those players who cringe about too much ads is close ur wi-fi connection and then play the game.then the ads won't trouble you.\n",
                            "888                                                     ads are way to heavy listen to the bad reviews. there are ads after every round, whether you pass it or fail it. sometimes there are ads before the next round starts to. you spend more time on ads than game play. i develop web apps, and honestly many people rely on ads to make a living. i can appreciate that all to well. however, these developers have went far beyond that. frankly, they are disrespectful nitwits.\n",
                            "889                                                                                                                                                                                                                                                                                                                                                                                           fun works perfectly well. ads aren't as annoying as you think, especially for a free game.\n",
                            "890                                                                                                                                                                                                                                                                                                                                       they're everywhere i see angry birds everywhere because i can't stop playing this game. get out my head devs! 4 đ because nothing's perfect\n",
                            "Name: review, Length: 891, dtype: object"
                        ]
                    },
                    "execution_count": 137,
                    "metadata": {},
                    "output_type": "execute_result"
                }
            ],
            "source": [
                "df['review']\n"
            ]
        },
        {
            "cell_type": "code",
            "execution_count": 138,
            "metadata": {},
            "outputs": [],
            "source": [
                "def normalize_str(text_string):\n",
                "    if text_string is not None:\n",
                "        result=unicodedata.normalize('NFD',text_string).encode('ascii','ignore').decode()\n",
                "    else:\n",
                "        result=None \n",
                "    return result"
            ]
        },
        {
            "cell_type": "code",
            "execution_count": 139,
            "metadata": {},
            "outputs": [],
            "source": [
                "df['review']=df['review'].apply(normalize_str)\n",
                "df['review']=df['review'].str.replace('!','')\n",
                "df['review']=df['review'].str.replace(',','')\n",
                "df['review']=df['review'].str.replace('&','')\n",
                "df['review']=df['review'].str.normalize('NFKC')\n",
                "df['review']=df['review'].str.replace(r'([a-zA-Z])\\1{2,}',r'\\1',regex=True)"
            ]
        },
        {
            "cell_type": "code",
            "execution_count": 140,
            "metadata": {},
            "outputs": [
                {
                    "data": {
                        "text/html": [
                            "<div>\n",
                            "<style scoped>\n",
                            "    .dataframe tbody tr th:only-of-type {\n",
                            "        vertical-align: middle;\n",
                            "    }\n",
                            "\n",
                            "    .dataframe tbody tr th {\n",
                            "        vertical-align: top;\n",
                            "    }\n",
                            "\n",
                            "    .dataframe thead th {\n",
                            "        text-align: right;\n",
                            "    }\n",
                            "</style>\n",
                            "<table border=\"1\" class=\"dataframe\">\n",
                            "  <thead>\n",
                            "    <tr style=\"text-align: right;\">\n",
                            "      <th></th>\n",
                            "      <th>review</th>\n",
                            "      <th>polarity</th>\n",
                            "    </tr>\n",
                            "  </thead>\n",
                            "  <tbody>\n",
                            "    <tr>\n",
                            "      <th>741</th>\n",
                            "      <td>it is best app for regular news update but ...please add more news updates in nepali language too.</td>\n",
                            "      <td>1</td>\n",
                            "    </tr>\n",
                            "    <tr>\n",
                            "      <th>234</th>\n",
                            "      <td>personal break don't mind the break necessarily  but i don't think its necessary.  especially during gem boost time.  would like to not be told when i can't play lol.</td>\n",
                            "      <td>0</td>\n",
                            "    </tr>\n",
                            "    <tr>\n",
                            "      <th>195</th>\n",
                            "      <td>nice game.... its simply amazing...but i would like it better if we had custom options for graphics. it runs extremely smooth but the developer should go easy on the memory that is it takes more space now than ever before. but overall its an epic game.</td>\n",
                            "      <td>1</td>\n",
                            "    </tr>\n",
                            "    <tr>\n",
                            "      <th>197</th>\n",
                            "      <td>would give 5* if i could retrieve my previous game my phone crashed and i had to install it again didn't get to keep my score coins and boosts the gems i paid for where also lost negatives aside i enjoy this game its a good time waster i thinks it's better than the first temple run.</td>\n",
                            "      <td>0</td>\n",
                            "    </tr>\n",
                            "    <tr>\n",
                            "      <th>623</th>\n",
                            "      <td>i love it i love using uc browser mini because browsing speed of it is marvelous and mind blowing and the size of this app is so small. so overall i would like to say that size of it is small but the work of it is big and awesome.</td>\n",
                            "      <td>1</td>\n",
                            "    </tr>\n",
                            "    <tr>\n",
                            "      <th>629</th>\n",
                            "      <td>all in one app dis version of uc browser mini disappointed me as search showing in notification bar. and when v download anything was not visble in notification bar as previous version. its request to look into it and try to solve it otherwise as i have to uninstall it and goto some other app.</td>\n",
                            "      <td>0</td>\n",
                            "    </tr>\n",
                            "    <tr>\n",
                            "      <th>244</th>\n",
                            "      <td>this country not allowed? i would have given it 5 stars because my searches and browsing are spot on but it took me to back up account and when i put my backup e-mail in it said this country not allowed: im in america wtf????</td>\n",
                            "      <td>0</td>\n",
                            "    </tr>\n",
                            "    <tr>\n",
                            "      <th>417</th>\n",
                            "      <td>doesn't work anymore before the last update it worked just fine on my tablet but now it will start to open then close down.</td>\n",
                            "      <td>0</td>\n",
                            "    </tr>\n",
                            "    <tr>\n",
                            "      <th>782</th>\n",
                            "      <td>it was good but the last update caused so many forced close. it was good but the last update caused so many forced close. now i can't really enjoy my browsing experience. thanks for nothing</td>\n",
                            "      <td>0</td>\n",
                            "    </tr>\n",
                            "    <tr>\n",
                            "      <th>570</th>\n",
                            "      <td>doesn't work won't allow you to log in.</td>\n",
                            "      <td>0</td>\n",
                            "    </tr>\n",
                            "  </tbody>\n",
                            "</table>\n",
                            "</div>"
                        ],
                        "text/plain": [
                            "                                                                                                                                                                                                                                                                                                     review  \\\n",
                            "741                                                                                                                                                                                                      it is best app for regular news update but ...please add more news updates in nepali language too.   \n",
                            "234                                                                                                                                  personal break don't mind the break necessarily  but i don't think its necessary.  especially during gem boost time.  would like to not be told when i can't play lol.   \n",
                            "195                                            nice game.... its simply amazing...but i would like it better if we had custom options for graphics. it runs extremely smooth but the developer should go easy on the memory that is it takes more space now than ever before. but overall its an epic game.   \n",
                            "197             would give 5* if i could retrieve my previous game my phone crashed and i had to install it again didn't get to keep my score coins and boosts the gems i paid for where also lost negatives aside i enjoy this game its a good time waster i thinks it's better than the first temple run.   \n",
                            "623                                                                  i love it i love using uc browser mini because browsing speed of it is marvelous and mind blowing and the size of this app is so small. so overall i would like to say that size of it is small but the work of it is big and awesome.   \n",
                            "629  all in one app dis version of uc browser mini disappointed me as search showing in notification bar. and when v download anything was not visble in notification bar as previous version. its request to look into it and try to solve it otherwise as i have to uninstall it and goto some other app.   \n",
                            "244                                                                       this country not allowed? i would have given it 5 stars because my searches and browsing are spot on but it took me to back up account and when i put my backup e-mail in it said this country not allowed: im in america wtf????   \n",
                            "417                                                                                                                                                                             doesn't work anymore before the last update it worked just fine on my tablet but now it will start to open then close down.   \n",
                            "782                                                                                                           it was good but the last update caused so many forced close. it was good but the last update caused so many forced close. now i can't really enjoy my browsing experience. thanks for nothing   \n",
                            "570                                                                                                                                                                                                                                                                 doesn't work won't allow you to log in.   \n",
                            "\n",
                            "     polarity  \n",
                            "741         1  \n",
                            "234         0  \n",
                            "195         1  \n",
                            "197         0  \n",
                            "623         1  \n",
                            "629         0  \n",
                            "244         0  \n",
                            "417         0  \n",
                            "782         0  \n",
                            "570         0  "
                        ]
                    },
                    "execution_count": 140,
                    "metadata": {},
                    "output_type": "execute_result"
                }
            ],
            "source": [
                "df.sample(10)"
            ]
        },
        {
            "cell_type": "code",
            "execution_count": 141,
            "metadata": {},
            "outputs": [
                {
                    "data": {
                        "text/plain": [
                            "review      loved it rzrl app rrlrrl rrsrzrlrrl r rrsrzrlrrl r rr rsrrz rzrrzrz rrlrsrl rrlrrz rlrsrl rr rzrrl rrsrzrlrrl rsrlrrl rlrzrzrl rlrrlr inserting symbols inserting pictures from the galary wedding 123 etc. and phonetic symbols so the english learners could be helped more. rrsrz rlrrl rrlrrz rrz rsrzrrzrz rrlrsrlrz rsrrz rzrl  rrtrlrrz rsrlrrzrlr rlrrzrsrrlrrzr rrsrzrlr rlrrl r rl\n",
                            "polarity                                                                                                                                                                                                                                                                                                                                                                                               1\n",
                            "Name: 675, dtype: object"
                        ]
                    },
                    "execution_count": 141,
                    "metadata": {},
                    "output_type": "execute_result"
                }
            ],
            "source": [
                "df.iloc[675,]"
            ]
        },
        {
            "cell_type": "code",
            "execution_count": 142,
            "metadata": {},
            "outputs": [],
            "source": [
                "df_interim = df.copy()"
            ]
        },
        {
            "cell_type": "code",
            "execution_count": 143,
            "metadata": {},
            "outputs": [],
            "source": [
                "df_interim['review']=df_interim['review'].str.lower()"
            ]
        },
        {
            "cell_type": "code",
            "execution_count": 144,
            "metadata": {},
            "outputs": [],
            "source": [
                "df_interim['review'] = df_interim['review'].apply(remove_stopwords)\n"
            ]
        },
        {
            "cell_type": "code",
            "execution_count": 145,
            "metadata": {},
            "outputs": [
                {
                    "data": {
                        "text/plain": [
                            "app         351\n",
                            "update      150\n",
                            "game        140\n",
                            "please      138\n",
                            "like        137\n",
                            "can't       137\n",
                            "new         137\n",
                            "fix         135\n",
                            "good        134\n",
                            "use         123\n",
                            "one         120\n",
                            "great       115\n",
                            "get         112\n",
                            "even        102\n",
                            "time         98\n",
                            "browser      85\n",
                            "really       84\n",
                            "back         81\n",
                            "still        80\n",
                            "would        80\n",
                            "love         77\n",
                            "make         74\n",
                            "5            71\n",
                            "work         71\n",
                            "also         69\n",
                            "see          69\n",
                            "using        68\n",
                            "phone        68\n",
                            "i'm          67\n",
                            "open         66\n",
                            "it.          65\n",
                            "want         64\n",
                            "google       64\n",
                            "much         62\n",
                            "every        61\n",
                            "version      60\n",
                            "option       59\n",
                            "u            58\n",
                            "way          57\n",
                            "app.         56\n",
                            "go           56\n",
                            "android      56\n",
                            "used         55\n",
                            "best         54\n",
                            "download     53\n",
                            "better       53\n",
                            "play         52\n",
                            ".            51\n",
                            "give         50\n",
                            "send         49\n",
                            "people       48\n",
                            "able         48\n",
                            "message      47\n",
                            "since        47\n",
                            "many         46\n",
                            "works        45\n",
                            "apps         45\n",
                            "ads          45\n",
                            "keep         45\n",
                            "old          44\n",
                            "dtype: int64"
                        ]
                    },
                    "execution_count": 145,
                    "metadata": {},
                    "output_type": "execute_result"
                }
            ],
            "source": [
                "df_interim['review'].str.split(expand=True).stack().value_counts()[:60] "
            ]
        },
        {
            "cell_type": "code",
            "execution_count": 146,
            "metadata": {},
            "outputs": [],
            "source": [
                "def word_only_letters(word):\n",
                "    for c in word:\n",
                "        cat = unicodedata.category(c)\n",
                "        if cat not in ('Ll','Lu'):  #only letter upper y lower\n",
                "            return False\n",
                "    return True\n",
                "\n",
                "# clean only letter\n",
                "def text_only_letters(text):\n",
                "    if text is not None:\n",
                "        #list of the word in the text\n",
                "        words = text.strip().split()\n",
                "        words_filtered = []\n",
                "        for word in words:\n",
                "            if word_only_letters(word):\n",
                "                words_filtered.append(word)\n",
                "            result = \" \".join(words_filtered) #join the word in a text with space separation\n",
                "    else:\n",
                "        result = None\n",
                "    return result"
            ]
        },
        {
            "cell_type": "code",
            "execution_count": 147,
            "metadata": {},
            "outputs": [],
            "source": [
                "df_interim['review'] = df_interim['review'].apply(text_only_letters)"
            ]
        },
        {
            "cell_type": "code",
            "execution_count": 148,
            "metadata": {},
            "outputs": [],
            "source": [
                "#remove multi letter looove iiiitttt, or repeat secuence\n",
                "def replace_multiple_letters(message):\n",
                "  if message is not None:\n",
                "    result = re.sub(r'(.+?)\\1+', r'\\1', message)\n",
                "    #result = re.sub(r\"([a-zA-Z])＼1{2,}\", r\"＼1\", message)\n",
                "  else:\n",
                "    result = None\n",
                "  return result\n"
            ]
        },
        {
            "cell_type": "code",
            "execution_count": 149,
            "metadata": {},
            "outputs": [],
            "source": [
                "df_interim['review'] = df_interim['review'].apply(replace_multiple_letters)"
            ]
        },
        {
            "cell_type": "code",
            "execution_count": 150,
            "metadata": {},
            "outputs": [
                {
                    "data": {
                        "text/plain": [
                            "0                                                                           privacy least put option apear mean people like big presure sen online like ned response every mesage else caled senzone wana facebok read newsfed wana response mesage want pls reconsidered tried turn chat stil se\n",
                            "1                                           mesenger isues ever since last update initial received mesages get pushed mesenger ap get notification facebok ap mesenger open facebok ap hapen se click icon opens subsequent mesages go mesenger ap unles close chat start notification go facebok\n",
                            "2                                                                                                                   profile time wife anybody one post view would take profile view try view tels page requested restarted phone even cleard cache uninstaled reinstaled ap stil please fix thank\n",
                            "3                                                                                                                                                                                           new features suck us working back buton guys make videos able slid left exit force close facebok exit\n",
                            "4      forced reload uploading pic replying coment last night tried reply coment uploading photo pres buton select photos ap automaticaly goes back main ocasions could enter galery select image son selected image pres done program forced reload sudenly go back main please fix change thank\n",
                            "                                                                                                                                                  ...                                                                                                                                            \n",
                            "886                                                                                                                                                                                                                        loved incredible awesome go power make new clash clans thing but beter\n",
                            "887                                                                                                                                    time legendary game birthday party levels short fuse levels pigs crash onto diferent chemicals players cringe much ads close ur conection play ads trouble\n",
                            "888                                                           ads way heavy listen bad ads every round whether pas fail sometimes ads next round starts spend time ads game develop web aps honestly many people rely ads make apreciate however developers went far beyond frankly disrespectful\n",
                            "889                                                                                                                                                                                                                                           fun works perfectly ads anoying think especialy fre\n",
                            "890                                                                                                                                                                                                                       everywhere se angry birds everywhere stop playing get head devs perfect\n",
                            "Name: review, Length: 891, dtype: object"
                        ]
                    },
                    "execution_count": 150,
                    "metadata": {},
                    "output_type": "execute_result"
                }
            ],
            "source": [
                "df_interim['review']"
            ]
        },
        {
            "cell_type": "code",
            "execution_count": 151,
            "metadata": {},
            "outputs": [],
            "source": [
                "#copy to df\n",
                "df = df_interim.copy()\n"
            ]
        },
        {
            "cell_type": "markdown",
            "metadata": {},
            "source": [
                "\n",
                "\n",
                "Setp 3 - Model\n"
            ]
        },
        {
            "cell_type": "code",
            "execution_count": 152,
            "metadata": {},
            "outputs": [],
            "source": [
                "# Separate target and predictor\n",
                "X = df['review']\n",
                "y = df['polarity']\n"
            ]
        },
        {
            "cell_type": "code",
            "execution_count": 153,
            "metadata": {},
            "outputs": [
                {
                    "data": {
                        "text/plain": [
                            "array(['abesta', 'abilities', 'ability', ..., 'zespole', 'zom', 'zoming'],\n",
                            "      dtype=object)"
                        ]
                    },
                    "execution_count": 153,
                    "metadata": {},
                    "output_type": "execute_result"
                }
            ],
            "source": [
                "\n",
                "\n",
                "\n",
                "vectorizer = CountVectorizer(stop_words='english')\n",
                "X = vectorizer.fit_transform(X)\n",
                "vectorizer.get_feature_names_out()\n",
                "\n"
            ]
        },
        {
            "cell_type": "code",
            "execution_count": 154,
            "metadata": {},
            "outputs": [],
            "source": [
                "### aquí guardo el modelo para usar en la app?\n",
                "filename = '../models/vectorizer.pkl' #use absolute path\n",
                "pickle.dump(vectorizer, open(filename, 'wb'))\n"
            ]
        },
        {
            "cell_type": "code",
            "execution_count": 155,
            "metadata": {},
            "outputs": [],
            "source": [
                "X = X.toarray()"
            ]
        },
        {
            "cell_type": "code",
            "execution_count": 156,
            "metadata": {},
            "outputs": [],
            "source": [
                "X_train, X_test, y_train, y_test = train_test_split(X, y, stratify=y, random_state=25)"
            ]
        },
        {
            "cell_type": "code",
            "execution_count": 157,
            "metadata": {},
            "outputs": [],
            "source": [
                "#Vectorizer change matriz with 0-1\n",
                "#vec = CountVectorizer(stop_words = \"english\")\n",
                "#X_train = vec.fit_transform(X_train).toarray()\n",
                "#X_test = vec.transform(X_test).toarray()"
            ]
        },
        {
            "cell_type": "code",
            "execution_count": 158,
            "metadata": {},
            "outputs": [
                {
                    "name": "stdout",
                    "output_type": "stream",
                    "text": [
                        "[[0 0 0 ... 0 0 0]\n",
                        " [0 0 0 ... 0 0 0]\n",
                        " [0 0 0 ... 0 0 0]\n",
                        " ...\n",
                        " [0 0 0 ... 0 0 0]\n",
                        " [0 0 0 ... 0 0 0]\n",
                        " [0 0 0 ... 0 0 0]]\n"
                    ]
                }
            ],
            "source": [
                "print(X_train)\n"
            ]
        },
        {
            "cell_type": "code",
            "execution_count": 159,
            "metadata": {},
            "outputs": [
                {
                    "name": "stdout",
                    "output_type": "stream",
                    "text": [
                        "(891, 3289)\n",
                        "(223, 3289)\n",
                        "(668, 3289)\n"
                    ]
                }
            ],
            "source": [
                "print(X.shape)\n",
                "print(X_test.shape)\n",
                "print(X_train.shape)"
            ]
        },
        {
            "cell_type": "code",
            "execution_count": 160,
            "metadata": {},
            "outputs": [
                {
                    "data": {
                        "text/html": [
                            "<style>#sk-container-id-7 {color: black;background-color: white;}#sk-container-id-7 pre{padding: 0;}#sk-container-id-7 div.sk-toggleable {background-color: white;}#sk-container-id-7 label.sk-toggleable__label {cursor: pointer;display: block;width: 100%;margin-bottom: 0;padding: 0.3em;box-sizing: border-box;text-align: center;}#sk-container-id-7 label.sk-toggleable__label-arrow:before {content: \"▸\";float: left;margin-right: 0.25em;color: #696969;}#sk-container-id-7 label.sk-toggleable__label-arrow:hover:before {color: black;}#sk-container-id-7 div.sk-estimator:hover label.sk-toggleable__label-arrow:before {color: black;}#sk-container-id-7 div.sk-toggleable__content {max-height: 0;max-width: 0;overflow: hidden;text-align: left;background-color: #f0f8ff;}#sk-container-id-7 div.sk-toggleable__content pre {margin: 0.2em;color: black;border-radius: 0.25em;background-color: #f0f8ff;}#sk-container-id-7 input.sk-toggleable__control:checked~div.sk-toggleable__content {max-height: 200px;max-width: 100%;overflow: auto;}#sk-container-id-7 input.sk-toggleable__control:checked~label.sk-toggleable__label-arrow:before {content: \"▾\";}#sk-container-id-7 div.sk-estimator input.sk-toggleable__control:checked~label.sk-toggleable__label {background-color: #d4ebff;}#sk-container-id-7 div.sk-label input.sk-toggleable__control:checked~label.sk-toggleable__label {background-color: #d4ebff;}#sk-container-id-7 input.sk-hidden--visually {border: 0;clip: rect(1px 1px 1px 1px);clip: rect(1px, 1px, 1px, 1px);height: 1px;margin: -1px;overflow: hidden;padding: 0;position: absolute;width: 1px;}#sk-container-id-7 div.sk-estimator {font-family: monospace;background-color: #f0f8ff;border: 1px dotted black;border-radius: 0.25em;box-sizing: border-box;margin-bottom: 0.5em;}#sk-container-id-7 div.sk-estimator:hover {background-color: #d4ebff;}#sk-container-id-7 div.sk-parallel-item::after {content: \"\";width: 100%;border-bottom: 1px solid gray;flex-grow: 1;}#sk-container-id-7 div.sk-label:hover label.sk-toggleable__label {background-color: #d4ebff;}#sk-container-id-7 div.sk-serial::before {content: \"\";position: absolute;border-left: 1px solid gray;box-sizing: border-box;top: 0;bottom: 0;left: 50%;z-index: 0;}#sk-container-id-7 div.sk-serial {display: flex;flex-direction: column;align-items: center;background-color: white;padding-right: 0.2em;padding-left: 0.2em;position: relative;}#sk-container-id-7 div.sk-item {position: relative;z-index: 1;}#sk-container-id-7 div.sk-parallel {display: flex;align-items: stretch;justify-content: center;background-color: white;position: relative;}#sk-container-id-7 div.sk-item::before, #sk-container-id-7 div.sk-parallel-item::before {content: \"\";position: absolute;border-left: 1px solid gray;box-sizing: border-box;top: 0;bottom: 0;left: 50%;z-index: -1;}#sk-container-id-7 div.sk-parallel-item {display: flex;flex-direction: column;z-index: 1;position: relative;background-color: white;}#sk-container-id-7 div.sk-parallel-item:first-child::after {align-self: flex-end;width: 50%;}#sk-container-id-7 div.sk-parallel-item:last-child::after {align-self: flex-start;width: 50%;}#sk-container-id-7 div.sk-parallel-item:only-child::after {width: 0;}#sk-container-id-7 div.sk-dashed-wrapped {border: 1px dashed gray;margin: 0 0.4em 0.5em 0.4em;box-sizing: border-box;padding-bottom: 0.4em;background-color: white;}#sk-container-id-7 div.sk-label label {font-family: monospace;font-weight: bold;display: inline-block;line-height: 1.2em;}#sk-container-id-7 div.sk-label-container {text-align: center;}#sk-container-id-7 div.sk-container {/* jupyter's `normalize.less` sets `[hidden] { display: none; }` but bootstrap.min.css set `[hidden] { display: none !important; }` so we also need the `!important` here to be able to override the default hidden behavior on the sphinx rendered scikit-learn.org. See: https://github.com/scikit-learn/scikit-learn/issues/21755 */display: inline-block !important;position: relative;}#sk-container-id-7 div.sk-text-repr-fallback {display: none;}</style><div id=\"sk-container-id-7\" class=\"sk-top-container\"><div class=\"sk-text-repr-fallback\"><pre>GaussianNB()</pre><b>In a Jupyter environment, please rerun this cell to show the HTML representation or trust the notebook. <br />On GitHub, the HTML representation is unable to render, please try loading this page with nbviewer.org.</b></div><div class=\"sk-container\" hidden><div class=\"sk-item\"><div class=\"sk-estimator sk-toggleable\"><input class=\"sk-toggleable__control sk-hidden--visually\" id=\"sk-estimator-id-7\" type=\"checkbox\" checked><label for=\"sk-estimator-id-7\" class=\"sk-toggleable__label sk-toggleable__label-arrow\">GaussianNB</label><div class=\"sk-toggleable__content\"><pre>GaussianNB()</pre></div></div></div></div></div>"
                        ],
                        "text/plain": [
                            "GaussianNB()"
                        ]
                    },
                    "execution_count": 160,
                    "metadata": {},
                    "output_type": "execute_result"
                }
            ],
            "source": [
                "clf = GaussianNB()\n",
                "clf.fit(X_train, y_train)"
            ]
        },
        {
            "cell_type": "code",
            "execution_count": 161,
            "metadata": {},
            "outputs": [
                {
                    "data": {
                        "text/plain": [
                            "0    438\n",
                            "1    230\n",
                            "Name: polarity, dtype: int64"
                        ]
                    },
                    "execution_count": 161,
                    "metadata": {},
                    "output_type": "execute_result"
                }
            ],
            "source": [
                "y_train.value_counts()"
            ]
        },
        {
            "cell_type": "code",
            "execution_count": 162,
            "metadata": {},
            "outputs": [],
            "source": [
                "y_train_pred = clf.predict(X_train)\n",
                "y_test_pred = clf.predict(X_test)"
            ]
        },
        {
            "cell_type": "code",
            "execution_count": 163,
            "metadata": {},
            "outputs": [
                {
                    "name": "stdout",
                    "output_type": "stream",
                    "text": [
                        "              precision    recall  f1-score   support\n",
                        "\n",
                        "         bad       1.00      0.98      0.99       438\n",
                        "        good       0.96      1.00      0.98       230\n",
                        "\n",
                        "    accuracy                           0.99       668\n",
                        "   macro avg       0.98      0.99      0.99       668\n",
                        "weighted avg       0.99      0.99      0.99       668\n",
                        "\n"
                    ]
                }
            ],
            "source": [
                "target_names = ['bad', 'good']\n",
                "print(classification_report(y_train, y_train_pred, target_names=target_names))"
            ]
        },
        {
            "cell_type": "code",
            "execution_count": 164,
            "metadata": {},
            "outputs": [
                {
                    "name": "stdout",
                    "output_type": "stream",
                    "text": [
                        "              precision    recall  f1-score   support\n",
                        "\n",
                        "         bad       0.80      0.83      0.81       146\n",
                        "        good       0.65      0.61      0.63        77\n",
                        "\n",
                        "    accuracy                           0.75       223\n",
                        "   macro avg       0.73      0.72      0.72       223\n",
                        "weighted avg       0.75      0.75      0.75       223\n",
                        "\n"
                    ]
                }
            ],
            "source": [
                "print(classification_report(y_test, y_test_pred, target_names=target_names))\n"
            ]
        },
        {
            "cell_type": "markdown",
            "metadata": {},
            "source": [
                "No resultó muy bueno - overfit"
            ]
        },
        {
            "cell_type": "markdown",
            "metadata": {},
            "source": [
                "# Naive Bayes\n",
                "\n",
                "Naive Bayes is a probabilistic algorithm for classification, based on Bayes Theorem. This algorithm really makes you understand a big deal about classification and it is probably one of the most useful algorithms for simple Machine Learning use cases. It is simple enough to be completed by hand."
            ]
        },
        {
            "cell_type": "code",
            "execution_count": 165,
            "metadata": {},
            "outputs": [
                {
                    "data": {
                        "text/html": [
                            "<style>#sk-container-id-8 {color: black;background-color: white;}#sk-container-id-8 pre{padding: 0;}#sk-container-id-8 div.sk-toggleable {background-color: white;}#sk-container-id-8 label.sk-toggleable__label {cursor: pointer;display: block;width: 100%;margin-bottom: 0;padding: 0.3em;box-sizing: border-box;text-align: center;}#sk-container-id-8 label.sk-toggleable__label-arrow:before {content: \"▸\";float: left;margin-right: 0.25em;color: #696969;}#sk-container-id-8 label.sk-toggleable__label-arrow:hover:before {color: black;}#sk-container-id-8 div.sk-estimator:hover label.sk-toggleable__label-arrow:before {color: black;}#sk-container-id-8 div.sk-toggleable__content {max-height: 0;max-width: 0;overflow: hidden;text-align: left;background-color: #f0f8ff;}#sk-container-id-8 div.sk-toggleable__content pre {margin: 0.2em;color: black;border-radius: 0.25em;background-color: #f0f8ff;}#sk-container-id-8 input.sk-toggleable__control:checked~div.sk-toggleable__content {max-height: 200px;max-width: 100%;overflow: auto;}#sk-container-id-8 input.sk-toggleable__control:checked~label.sk-toggleable__label-arrow:before {content: \"▾\";}#sk-container-id-8 div.sk-estimator input.sk-toggleable__control:checked~label.sk-toggleable__label {background-color: #d4ebff;}#sk-container-id-8 div.sk-label input.sk-toggleable__control:checked~label.sk-toggleable__label {background-color: #d4ebff;}#sk-container-id-8 input.sk-hidden--visually {border: 0;clip: rect(1px 1px 1px 1px);clip: rect(1px, 1px, 1px, 1px);height: 1px;margin: -1px;overflow: hidden;padding: 0;position: absolute;width: 1px;}#sk-container-id-8 div.sk-estimator {font-family: monospace;background-color: #f0f8ff;border: 1px dotted black;border-radius: 0.25em;box-sizing: border-box;margin-bottom: 0.5em;}#sk-container-id-8 div.sk-estimator:hover {background-color: #d4ebff;}#sk-container-id-8 div.sk-parallel-item::after {content: \"\";width: 100%;border-bottom: 1px solid gray;flex-grow: 1;}#sk-container-id-8 div.sk-label:hover label.sk-toggleable__label {background-color: #d4ebff;}#sk-container-id-8 div.sk-serial::before {content: \"\";position: absolute;border-left: 1px solid gray;box-sizing: border-box;top: 0;bottom: 0;left: 50%;z-index: 0;}#sk-container-id-8 div.sk-serial {display: flex;flex-direction: column;align-items: center;background-color: white;padding-right: 0.2em;padding-left: 0.2em;position: relative;}#sk-container-id-8 div.sk-item {position: relative;z-index: 1;}#sk-container-id-8 div.sk-parallel {display: flex;align-items: stretch;justify-content: center;background-color: white;position: relative;}#sk-container-id-8 div.sk-item::before, #sk-container-id-8 div.sk-parallel-item::before {content: \"\";position: absolute;border-left: 1px solid gray;box-sizing: border-box;top: 0;bottom: 0;left: 50%;z-index: -1;}#sk-container-id-8 div.sk-parallel-item {display: flex;flex-direction: column;z-index: 1;position: relative;background-color: white;}#sk-container-id-8 div.sk-parallel-item:first-child::after {align-self: flex-end;width: 50%;}#sk-container-id-8 div.sk-parallel-item:last-child::after {align-self: flex-start;width: 50%;}#sk-container-id-8 div.sk-parallel-item:only-child::after {width: 0;}#sk-container-id-8 div.sk-dashed-wrapped {border: 1px dashed gray;margin: 0 0.4em 0.5em 0.4em;box-sizing: border-box;padding-bottom: 0.4em;background-color: white;}#sk-container-id-8 div.sk-label label {font-family: monospace;font-weight: bold;display: inline-block;line-height: 1.2em;}#sk-container-id-8 div.sk-label-container {text-align: center;}#sk-container-id-8 div.sk-container {/* jupyter's `normalize.less` sets `[hidden] { display: none; }` but bootstrap.min.css set `[hidden] { display: none !important; }` so we also need the `!important` here to be able to override the default hidden behavior on the sphinx rendered scikit-learn.org. See: https://github.com/scikit-learn/scikit-learn/issues/21755 */display: inline-block !important;position: relative;}#sk-container-id-8 div.sk-text-repr-fallback {display: none;}</style><div id=\"sk-container-id-8\" class=\"sk-top-container\"><div class=\"sk-text-repr-fallback\"><pre>MultinomialNB()</pre><b>In a Jupyter environment, please rerun this cell to show the HTML representation or trust the notebook. <br />On GitHub, the HTML representation is unable to render, please try loading this page with nbviewer.org.</b></div><div class=\"sk-container\" hidden><div class=\"sk-item\"><div class=\"sk-estimator sk-toggleable\"><input class=\"sk-toggleable__control sk-hidden--visually\" id=\"sk-estimator-id-8\" type=\"checkbox\" checked><label for=\"sk-estimator-id-8\" class=\"sk-toggleable__label sk-toggleable__label-arrow\">MultinomialNB</label><div class=\"sk-toggleable__content\"><pre>MultinomialNB()</pre></div></div></div></div></div>"
                        ],
                        "text/plain": [
                            "MultinomialNB()"
                        ]
                    },
                    "execution_count": 165,
                    "metadata": {},
                    "output_type": "execute_result"
                }
            ],
            "source": [
                "clf_multinomial = MultinomialNB()\n",
                "clf_multinomial.fit(X_train, y_train)"
            ]
        },
        {
            "cell_type": "code",
            "execution_count": 166,
            "metadata": {},
            "outputs": [
                {
                    "data": {
                        "text/html": [
                            "<style>#sk-container-id-9 {color: black;background-color: white;}#sk-container-id-9 pre{padding: 0;}#sk-container-id-9 div.sk-toggleable {background-color: white;}#sk-container-id-9 label.sk-toggleable__label {cursor: pointer;display: block;width: 100%;margin-bottom: 0;padding: 0.3em;box-sizing: border-box;text-align: center;}#sk-container-id-9 label.sk-toggleable__label-arrow:before {content: \"▸\";float: left;margin-right: 0.25em;color: #696969;}#sk-container-id-9 label.sk-toggleable__label-arrow:hover:before {color: black;}#sk-container-id-9 div.sk-estimator:hover label.sk-toggleable__label-arrow:before {color: black;}#sk-container-id-9 div.sk-toggleable__content {max-height: 0;max-width: 0;overflow: hidden;text-align: left;background-color: #f0f8ff;}#sk-container-id-9 div.sk-toggleable__content pre {margin: 0.2em;color: black;border-radius: 0.25em;background-color: #f0f8ff;}#sk-container-id-9 input.sk-toggleable__control:checked~div.sk-toggleable__content {max-height: 200px;max-width: 100%;overflow: auto;}#sk-container-id-9 input.sk-toggleable__control:checked~label.sk-toggleable__label-arrow:before {content: \"▾\";}#sk-container-id-9 div.sk-estimator input.sk-toggleable__control:checked~label.sk-toggleable__label {background-color: #d4ebff;}#sk-container-id-9 div.sk-label input.sk-toggleable__control:checked~label.sk-toggleable__label {background-color: #d4ebff;}#sk-container-id-9 input.sk-hidden--visually {border: 0;clip: rect(1px 1px 1px 1px);clip: rect(1px, 1px, 1px, 1px);height: 1px;margin: -1px;overflow: hidden;padding: 0;position: absolute;width: 1px;}#sk-container-id-9 div.sk-estimator {font-family: monospace;background-color: #f0f8ff;border: 1px dotted black;border-radius: 0.25em;box-sizing: border-box;margin-bottom: 0.5em;}#sk-container-id-9 div.sk-estimator:hover {background-color: #d4ebff;}#sk-container-id-9 div.sk-parallel-item::after {content: \"\";width: 100%;border-bottom: 1px solid gray;flex-grow: 1;}#sk-container-id-9 div.sk-label:hover label.sk-toggleable__label {background-color: #d4ebff;}#sk-container-id-9 div.sk-serial::before {content: \"\";position: absolute;border-left: 1px solid gray;box-sizing: border-box;top: 0;bottom: 0;left: 50%;z-index: 0;}#sk-container-id-9 div.sk-serial {display: flex;flex-direction: column;align-items: center;background-color: white;padding-right: 0.2em;padding-left: 0.2em;position: relative;}#sk-container-id-9 div.sk-item {position: relative;z-index: 1;}#sk-container-id-9 div.sk-parallel {display: flex;align-items: stretch;justify-content: center;background-color: white;position: relative;}#sk-container-id-9 div.sk-item::before, #sk-container-id-9 div.sk-parallel-item::before {content: \"\";position: absolute;border-left: 1px solid gray;box-sizing: border-box;top: 0;bottom: 0;left: 50%;z-index: -1;}#sk-container-id-9 div.sk-parallel-item {display: flex;flex-direction: column;z-index: 1;position: relative;background-color: white;}#sk-container-id-9 div.sk-parallel-item:first-child::after {align-self: flex-end;width: 50%;}#sk-container-id-9 div.sk-parallel-item:last-child::after {align-self: flex-start;width: 50%;}#sk-container-id-9 div.sk-parallel-item:only-child::after {width: 0;}#sk-container-id-9 div.sk-dashed-wrapped {border: 1px dashed gray;margin: 0 0.4em 0.5em 0.4em;box-sizing: border-box;padding-bottom: 0.4em;background-color: white;}#sk-container-id-9 div.sk-label label {font-family: monospace;font-weight: bold;display: inline-block;line-height: 1.2em;}#sk-container-id-9 div.sk-label-container {text-align: center;}#sk-container-id-9 div.sk-container {/* jupyter's `normalize.less` sets `[hidden] { display: none; }` but bootstrap.min.css set `[hidden] { display: none !important; }` so we also need the `!important` here to be able to override the default hidden behavior on the sphinx rendered scikit-learn.org. See: https://github.com/scikit-learn/scikit-learn/issues/21755 */display: inline-block !important;position: relative;}#sk-container-id-9 div.sk-text-repr-fallback {display: none;}</style><div id=\"sk-container-id-9\" class=\"sk-top-container\"><div class=\"sk-text-repr-fallback\"><pre>MultinomialNB()</pre><b>In a Jupyter environment, please rerun this cell to show the HTML representation or trust the notebook. <br />On GitHub, the HTML representation is unable to render, please try loading this page with nbviewer.org.</b></div><div class=\"sk-container\" hidden><div class=\"sk-item\"><div class=\"sk-estimator sk-toggleable\"><input class=\"sk-toggleable__control sk-hidden--visually\" id=\"sk-estimator-id-9\" type=\"checkbox\" checked><label for=\"sk-estimator-id-9\" class=\"sk-toggleable__label sk-toggleable__label-arrow\">MultinomialNB</label><div class=\"sk-toggleable__content\"><pre>MultinomialNB()</pre></div></div></div></div></div>"
                        ],
                        "text/plain": [
                            "MultinomialNB()"
                        ]
                    },
                    "execution_count": 166,
                    "metadata": {},
                    "output_type": "execute_result"
                }
            ],
            "source": [
                "MultinomialNB()\n"
            ]
        },
        {
            "cell_type": "code",
            "execution_count": 167,
            "metadata": {},
            "outputs": [],
            "source": [
                "y_train_pred = clf_multinomial.predict(X_train)\n",
                "y_test_pred = clf_multinomial.predict(X_test)\n"
            ]
        },
        {
            "cell_type": "code",
            "execution_count": 168,
            "metadata": {},
            "outputs": [
                {
                    "name": "stdout",
                    "output_type": "stream",
                    "text": [
                        "              precision    recall  f1-score   support\n",
                        "\n",
                        "         bad       0.95      0.97      0.96       438\n",
                        "        good       0.95      0.90      0.92       230\n",
                        "\n",
                        "    accuracy                           0.95       668\n",
                        "   macro avg       0.95      0.94      0.94       668\n",
                        "weighted avg       0.95      0.95      0.95       668\n",
                        "\n"
                    ]
                }
            ],
            "source": [
                "print(classification_report(y_train, y_train_pred, target_names=target_names))\n"
            ]
        },
        {
            "cell_type": "code",
            "execution_count": 169,
            "metadata": {},
            "outputs": [
                {
                    "name": "stdout",
                    "output_type": "stream",
                    "text": [
                        "              precision    recall  f1-score   support\n",
                        "\n",
                        "         bad       0.86      0.90      0.88       146\n",
                        "        good       0.79      0.71      0.75        77\n",
                        "\n",
                        "    accuracy                           0.83       223\n",
                        "   macro avg       0.82      0.81      0.81       223\n",
                        "weighted avg       0.83      0.83      0.83       223\n",
                        "\n"
                    ]
                }
            ],
            "source": [
                "print(classification_report(y_test, y_test_pred, target_names=target_names))\n"
            ]
        },
        {
            "cell_type": "code",
            "execution_count": 170,
            "metadata": {},
            "outputs": [],
            "source": [
                "Z = vectorizer.transform(['I like this app'])"
            ]
        },
        {
            "cell_type": "code",
            "execution_count": 171,
            "metadata": {},
            "outputs": [
                {
                    "name": "stdout",
                    "output_type": "stream",
                    "text": [
                        "  (0, 142)\t1\n",
                        "  (0, 1602)\t1\n",
                        "(1, 3289)\n",
                        "  (0, 142)\t1\n",
                        "  (0, 1602)\t1\n"
                    ]
                }
            ],
            "source": [
                "print(np.array(Z))\n",
                "print(Z.shape)\n",
                "print(Z)"
            ]
        },
        {
            "cell_type": "code",
            "execution_count": 172,
            "metadata": {},
            "outputs": [
                {
                    "name": "stdout",
                    "output_type": "stream",
                    "text": [
                        "[1]\n"
                    ]
                }
            ],
            "source": [
                "# Modelo GaussianNB\n",
                "print(clf.predict(Z.toarray()))\n",
                "\n"
            ]
        },
        {
            "cell_type": "code",
            "execution_count": 173,
            "metadata": {},
            "outputs": [
                {
                    "name": "stdout",
                    "output_type": "stream",
                    "text": [
                        "[1]\n"
                    ]
                }
            ],
            "source": [
                "# Modelo Multinomial\n",
                "print(clf_multinomial.predict(Z.toarray()))\n"
            ]
        },
        {
            "cell_type": "code",
            "execution_count": 174,
            "metadata": {},
            "outputs": [
                {
                    "data": {
                        "text/html": [
                            "<div>\n",
                            "<style scoped>\n",
                            "    .dataframe tbody tr th:only-of-type {\n",
                            "        vertical-align: middle;\n",
                            "    }\n",
                            "\n",
                            "    .dataframe tbody tr th {\n",
                            "        vertical-align: top;\n",
                            "    }\n",
                            "\n",
                            "    .dataframe thead th {\n",
                            "        text-align: right;\n",
                            "    }\n",
                            "</style>\n",
                            "<table border=\"1\" class=\"dataframe\">\n",
                            "  <thead>\n",
                            "    <tr style=\"text-align: right;\">\n",
                            "      <th></th>\n",
                            "      <th>review</th>\n",
                            "      <th>polarity</th>\n",
                            "    </tr>\n",
                            "  </thead>\n",
                            "  <tbody>\n",
                            "    <tr>\n",
                            "      <th>881</th>\n",
                            "      <td>game ruined felt like playing awhile imediately second awful mobile game ad poped second level loking store realized pay remove yep</td>\n",
                            "      <td>0</td>\n",
                            "    </tr>\n",
                            "    <tr>\n",
                            "      <th>882</th>\n",
                            "      <td>ads way many ads even enjoy game amount ads every level</td>\n",
                            "      <td>0</td>\n",
                            "    </tr>\n",
                            "    <tr>\n",
                            "      <th>883</th>\n",
                            "      <td>great game many ads almost worth</td>\n",
                            "      <td>1</td>\n",
                            "    </tr>\n",
                            "    <tr>\n",
                            "      <th>884</th>\n",
                            "      <td>fun hard angry birds realy fun video game people least year olds people lot years older one really chalenge teach children control even though ba litle</td>\n",
                            "      <td>1</td>\n",
                            "    </tr>\n",
                            "    <tr>\n",
                            "      <th>885</th>\n",
                            "      <td>many ads far adverts game know fre ned ads make profit neds</td>\n",
                            "      <td>1</td>\n",
                            "    </tr>\n",
                            "    <tr>\n",
                            "      <th>886</th>\n",
                            "      <td>loved incredible awesome go power make new clash clans thing but beter</td>\n",
                            "      <td>1</td>\n",
                            "    </tr>\n",
                            "    <tr>\n",
                            "      <th>887</th>\n",
                            "      <td>time legendary game birthday party levels short fuse levels pigs crash onto diferent chemicals players cringe much ads close ur conection play ads trouble</td>\n",
                            "      <td>1</td>\n",
                            "    </tr>\n",
                            "    <tr>\n",
                            "      <th>888</th>\n",
                            "      <td>ads way heavy listen bad ads every round whether pas fail sometimes ads next round starts spend time ads game develop web aps honestly many people rely ads make apreciate however developers went far beyond frankly disrespectful</td>\n",
                            "      <td>0</td>\n",
                            "    </tr>\n",
                            "    <tr>\n",
                            "      <th>889</th>\n",
                            "      <td>fun works perfectly ads anoying think especialy fre</td>\n",
                            "      <td>1</td>\n",
                            "    </tr>\n",
                            "    <tr>\n",
                            "      <th>890</th>\n",
                            "      <td>everywhere se angry birds everywhere stop playing get head devs perfect</td>\n",
                            "      <td>1</td>\n",
                            "    </tr>\n",
                            "  </tbody>\n",
                            "</table>\n",
                            "</div>"
                        ],
                        "text/plain": [
                            "                                                                                                                                                                                                                                  review  \\\n",
                            "881                                                                                                  game ruined felt like playing awhile imediately second awful mobile game ad poped second level loking store realized pay remove yep   \n",
                            "882                                                                                                                                                                              ads way many ads even enjoy game amount ads every level   \n",
                            "883                                                                                                                                                                                                     great game many ads almost worth   \n",
                            "884                                                                              fun hard angry birds realy fun video game people least year olds people lot years older one really chalenge teach children control even though ba litle   \n",
                            "885                                                                                                                                                                          many ads far adverts game know fre ned ads make profit neds   \n",
                            "886                                                                                                                                                               loved incredible awesome go power make new clash clans thing but beter   \n",
                            "887                                                                           time legendary game birthday party levels short fuse levels pigs crash onto diferent chemicals players cringe much ads close ur conection play ads trouble   \n",
                            "888  ads way heavy listen bad ads every round whether pas fail sometimes ads next round starts spend time ads game develop web aps honestly many people rely ads make apreciate however developers went far beyond frankly disrespectful   \n",
                            "889                                                                                                                                                                                  fun works perfectly ads anoying think especialy fre   \n",
                            "890                                                                                                                                                              everywhere se angry birds everywhere stop playing get head devs perfect   \n",
                            "\n",
                            "     polarity  \n",
                            "881         0  \n",
                            "882         0  \n",
                            "883         1  \n",
                            "884         1  \n",
                            "885         1  \n",
                            "886         1  \n",
                            "887         1  \n",
                            "888         0  \n",
                            "889         1  \n",
                            "890         1  "
                        ]
                    },
                    "execution_count": 174,
                    "metadata": {},
                    "output_type": "execute_result"
                }
            ],
            "source": [
                "pd.set_option('display.max_colwidth', None)\n",
                "df.tail(10)"
            ]
        },
        {
            "cell_type": "code",
            "execution_count": 175,
            "metadata": {},
            "outputs": [
                {
                    "name": "stdout",
                    "output_type": "stream",
                    "text": [
                        "Gauss: [1]\n",
                        "Multi: [1]\n"
                    ]
                }
            ],
            "source": [
                "Z2 = vectorizer.transform(['I do not like this app'])\n",
                "\n",
                "# Modelo GaussianNB\n",
                "print(f\"Gauss: {clf.predict(Z2.toarray())}\")\n",
                "\n",
                "# Modelo Multinomial\n",
                "print(f\"Multi: {clf_multinomial.predict(Z2.toarray())}\")\n",
                "\n"
            ]
        },
        {
            "cell_type": "markdown",
            "metadata": {},
            "source": [
                "Guardar Modelo"
            ]
        },
        {
            "cell_type": "code",
            "execution_count": 176,
            "metadata": {},
            "outputs": [],
            "source": [
                "pickle.dump(clf_multinomial, open('../models/multinomial.pkl', 'wb'))"
            ]
        },
        {
            "cell_type": "markdown",
            "metadata": {},
            "source": [
                "Traer el Modelo"
            ]
        },
        {
            "cell_type": "code",
            "execution_count": 177,
            "metadata": {},
            "outputs": [],
            "source": [
                "load_model = pickle.load(open('../models/multinomial.pkl', 'rb'))\n"
            ]
        },
        {
            "cell_type": "code",
            "execution_count": 178,
            "metadata": {},
            "outputs": [
                {
                    "name": "stdout",
                    "output_type": "stream",
                    "text": [
                        "Multi: [1]\n"
                    ]
                }
            ],
            "source": [
                "Z2 = vectorizer.transform(['I do not like this app'])\n",
                "# Modelo Multinomial loaded\n",
                "print(f\"Multi: {load_model.predict(Z2.toarray())}\")\n"
            ]
        },
        {
            "cell_type": "code",
            "execution_count": 179,
            "metadata": {},
            "outputs": [
                {
                    "name": "stdout",
                    "output_type": "stream",
                    "text": [
                        "Requirement already satisfied: torch in /home/gitpod/.pyenv/versions/3.8.13/lib/python3.8/site-packages (1.12.1)\n",
                        "Requirement already satisfied: typing-extensions in /home/gitpod/.pyenv/versions/3.8.13/lib/python3.8/site-packages (from torch) (4.3.0)\n",
                        "\n",
                        "\u001b[1m[\u001b[0m\u001b[34;49mnotice\u001b[0m\u001b[1;39;49m]\u001b[0m\u001b[39;49m A new release of pip available: \u001b[0m\u001b[31;49m22.2\u001b[0m\u001b[39;49m -> \u001b[0m\u001b[32;49m22.2.2\u001b[0m\n",
                        "\u001b[1m[\u001b[0m\u001b[34;49mnotice\u001b[0m\u001b[1;39;49m]\u001b[0m\u001b[39;49m To update, run: \u001b[0m\u001b[32;49mpip install --upgrade pip\u001b[0m\n",
                        "Requirement already satisfied: tensorflow in /home/gitpod/.pyenv/versions/3.8.13/lib/python3.8/site-packages (2.9.1)\n",
                        "Requirement already satisfied: libclang>=13.0.0 in /home/gitpod/.pyenv/versions/3.8.13/lib/python3.8/site-packages (from tensorflow) (14.0.6)\n",
                        "Requirement already satisfied: absl-py>=1.0.0 in /home/gitpod/.pyenv/versions/3.8.13/lib/python3.8/site-packages (from tensorflow) (1.2.0)\n",
                        "Requirement already satisfied: grpcio<2.0,>=1.24.3 in /home/gitpod/.pyenv/versions/3.8.13/lib/python3.8/site-packages (from tensorflow) (1.47.0)\n",
                        "Requirement already satisfied: gast<=0.4.0,>=0.2.1 in /home/gitpod/.pyenv/versions/3.8.13/lib/python3.8/site-packages (from tensorflow) (0.4.0)\n",
                        "Requirement already satisfied: six>=1.12.0 in /home/gitpod/.pyenv/versions/3.8.13/lib/python3.8/site-packages (from tensorflow) (1.16.0)\n",
                        "Requirement already satisfied: keras-preprocessing>=1.1.1 in /home/gitpod/.pyenv/versions/3.8.13/lib/python3.8/site-packages (from tensorflow) (1.1.2)\n",
                        "Requirement already satisfied: wrapt>=1.11.0 in /home/gitpod/.pyenv/versions/3.8.13/lib/python3.8/site-packages (from tensorflow) (1.14.1)\n",
                        "Requirement already satisfied: typing-extensions>=3.6.6 in /home/gitpod/.pyenv/versions/3.8.13/lib/python3.8/site-packages (from tensorflow) (4.3.0)\n",
                        "Requirement already satisfied: google-pasta>=0.1.1 in /home/gitpod/.pyenv/versions/3.8.13/lib/python3.8/site-packages (from tensorflow) (0.2.0)\n",
                        "Requirement already satisfied: opt-einsum>=2.3.2 in /home/gitpod/.pyenv/versions/3.8.13/lib/python3.8/site-packages (from tensorflow) (3.3.0)\n",
                        "Requirement already satisfied: astunparse>=1.6.0 in /home/gitpod/.pyenv/versions/3.8.13/lib/python3.8/site-packages (from tensorflow) (1.6.3)\n",
                        "Requirement already satisfied: h5py>=2.9.0 in /home/gitpod/.pyenv/versions/3.8.13/lib/python3.8/site-packages (from tensorflow) (3.7.0)\n",
                        "Requirement already satisfied: termcolor>=1.1.0 in /home/gitpod/.pyenv/versions/3.8.13/lib/python3.8/site-packages (from tensorflow) (1.1.0)\n",
                        "Requirement already satisfied: tensorboard<2.10,>=2.9 in /home/gitpod/.pyenv/versions/3.8.13/lib/python3.8/site-packages (from tensorflow) (2.9.1)\n",
                        "Requirement already satisfied: keras<2.10.0,>=2.9.0rc0 in /home/gitpod/.pyenv/versions/3.8.13/lib/python3.8/site-packages (from tensorflow) (2.9.0)\n",
                        "Requirement already satisfied: numpy>=1.20 in /home/gitpod/.pyenv/versions/3.8.13/lib/python3.8/site-packages (from tensorflow) (1.23.1)\n",
                        "Requirement already satisfied: packaging in /home/gitpod/.pyenv/versions/3.8.13/lib/python3.8/site-packages (from tensorflow) (21.3)\n",
                        "Requirement already satisfied: tensorflow-io-gcs-filesystem>=0.23.1 in /home/gitpod/.pyenv/versions/3.8.13/lib/python3.8/site-packages (from tensorflow) (0.26.0)\n",
                        "Requirement already satisfied: flatbuffers<2,>=1.12 in /home/gitpod/.pyenv/versions/3.8.13/lib/python3.8/site-packages (from tensorflow) (1.12)\n",
                        "Requirement already satisfied: protobuf<3.20,>=3.9.2 in /home/gitpod/.pyenv/versions/3.8.13/lib/python3.8/site-packages (from tensorflow) (3.19.4)\n",
                        "Requirement already satisfied: setuptools in /home/gitpod/.pyenv/versions/3.8.13/lib/python3.8/site-packages (from tensorflow) (63.2.0)\n",
                        "Requirement already satisfied: tensorflow-estimator<2.10.0,>=2.9.0rc0 in /home/gitpod/.pyenv/versions/3.8.13/lib/python3.8/site-packages (from tensorflow) (2.9.0)\n",
                        "Requirement already satisfied: wheel<1.0,>=0.23.0 in /home/gitpod/.pyenv/versions/3.8.13/lib/python3.8/site-packages (from astunparse>=1.6.0->tensorflow) (0.37.1)\n",
                        "Requirement already satisfied: markdown>=2.6.8 in /home/gitpod/.pyenv/versions/3.8.13/lib/python3.8/site-packages (from tensorboard<2.10,>=2.9->tensorflow) (3.4.1)\n",
                        "Requirement already satisfied: google-auth-oauthlib<0.5,>=0.4.1 in /home/gitpod/.pyenv/versions/3.8.13/lib/python3.8/site-packages (from tensorboard<2.10,>=2.9->tensorflow) (0.4.6)\n",
                        "Requirement already satisfied: requests<3,>=2.21.0 in /home/gitpod/.pyenv/versions/3.8.13/lib/python3.8/site-packages (from tensorboard<2.10,>=2.9->tensorflow) (2.28.1)\n",
                        "Requirement already satisfied: google-auth<3,>=1.6.3 in /home/gitpod/.pyenv/versions/3.8.13/lib/python3.8/site-packages (from tensorboard<2.10,>=2.9->tensorflow) (2.10.0)\n",
                        "Requirement already satisfied: tensorboard-data-server<0.7.0,>=0.6.0 in /home/gitpod/.pyenv/versions/3.8.13/lib/python3.8/site-packages (from tensorboard<2.10,>=2.9->tensorflow) (0.6.1)\n",
                        "Requirement already satisfied: tensorboard-plugin-wit>=1.6.0 in /home/gitpod/.pyenv/versions/3.8.13/lib/python3.8/site-packages (from tensorboard<2.10,>=2.9->tensorflow) (1.8.1)\n",
                        "Requirement already satisfied: werkzeug>=1.0.1 in /home/gitpod/.pyenv/versions/3.8.13/lib/python3.8/site-packages (from tensorboard<2.10,>=2.9->tensorflow) (2.2.2)\n",
                        "Requirement already satisfied: pyparsing!=3.0.5,>=2.0.2 in /home/gitpod/.pyenv/versions/3.8.13/lib/python3.8/site-packages (from packaging->tensorflow) (3.0.9)\n",
                        "Requirement already satisfied: pyasn1-modules>=0.2.1 in /home/gitpod/.pyenv/versions/3.8.13/lib/python3.8/site-packages (from google-auth<3,>=1.6.3->tensorboard<2.10,>=2.9->tensorflow) (0.2.8)\n",
                        "Requirement already satisfied: rsa<5,>=3.1.4 in /home/gitpod/.pyenv/versions/3.8.13/lib/python3.8/site-packages (from google-auth<3,>=1.6.3->tensorboard<2.10,>=2.9->tensorflow) (4.9)\n",
                        "Requirement already satisfied: cachetools<6.0,>=2.0.0 in /home/gitpod/.pyenv/versions/3.8.13/lib/python3.8/site-packages (from google-auth<3,>=1.6.3->tensorboard<2.10,>=2.9->tensorflow) (5.2.0)\n",
                        "Requirement already satisfied: requests-oauthlib>=0.7.0 in /home/gitpod/.pyenv/versions/3.8.13/lib/python3.8/site-packages (from google-auth-oauthlib<0.5,>=0.4.1->tensorboard<2.10,>=2.9->tensorflow) (1.3.1)\n",
                        "Requirement already satisfied: importlib-metadata>=4.4 in /home/gitpod/.pyenv/versions/3.8.13/lib/python3.8/site-packages (from markdown>=2.6.8->tensorboard<2.10,>=2.9->tensorflow) (4.12.0)\n",
                        "Requirement already satisfied: certifi>=2017.4.17 in /home/gitpod/.pyenv/versions/3.8.13/lib/python3.8/site-packages (from requests<3,>=2.21.0->tensorboard<2.10,>=2.9->tensorflow) (2022.6.15)\n",
                        "Requirement already satisfied: urllib3<1.27,>=1.21.1 in /home/gitpod/.pyenv/versions/3.8.13/lib/python3.8/site-packages (from requests<3,>=2.21.0->tensorboard<2.10,>=2.9->tensorflow) (1.26.11)\n",
                        "Requirement already satisfied: idna<4,>=2.5 in /home/gitpod/.pyenv/versions/3.8.13/lib/python3.8/site-packages (from requests<3,>=2.21.0->tensorboard<2.10,>=2.9->tensorflow) (3.3)\n",
                        "Requirement already satisfied: charset-normalizer<3,>=2 in /home/gitpod/.pyenv/versions/3.8.13/lib/python3.8/site-packages (from requests<3,>=2.21.0->tensorboard<2.10,>=2.9->tensorflow) (2.1.0)\n",
                        "Requirement already satisfied: MarkupSafe>=2.1.1 in /home/gitpod/.pyenv/versions/3.8.13/lib/python3.8/site-packages (from werkzeug>=1.0.1->tensorboard<2.10,>=2.9->tensorflow) (2.1.1)\n",
                        "Requirement already satisfied: zipp>=0.5 in /home/gitpod/.pyenv/versions/3.8.13/lib/python3.8/site-packages (from importlib-metadata>=4.4->markdown>=2.6.8->tensorboard<2.10,>=2.9->tensorflow) (3.8.1)\n",
                        "Requirement already satisfied: pyasn1<0.5.0,>=0.4.6 in /home/gitpod/.pyenv/versions/3.8.13/lib/python3.8/site-packages (from pyasn1-modules>=0.2.1->google-auth<3,>=1.6.3->tensorboard<2.10,>=2.9->tensorflow) (0.4.8)\n",
                        "Requirement already satisfied: oauthlib>=3.0.0 in /home/gitpod/.pyenv/versions/3.8.13/lib/python3.8/site-packages (from requests-oauthlib>=0.7.0->google-auth-oauthlib<0.5,>=0.4.1->tensorboard<2.10,>=2.9->tensorflow) (3.2.0)\n",
                        "\n",
                        "\u001b[1m[\u001b[0m\u001b[34;49mnotice\u001b[0m\u001b[1;39;49m]\u001b[0m\u001b[39;49m A new release of pip available: \u001b[0m\u001b[31;49m22.2\u001b[0m\u001b[39;49m -> \u001b[0m\u001b[32;49m22.2.2\u001b[0m\n",
                        "\u001b[1m[\u001b[0m\u001b[34;49mnotice\u001b[0m\u001b[1;39;49m]\u001b[0m\u001b[39;49m To update, run: \u001b[0m\u001b[32;49mpip install --upgrade pip\u001b[0m\n"
                    ]
                },
                {
                    "name": "stderr",
                    "output_type": "stream",
                    "text": [
                        "No model was supplied, defaulted to distilbert-base-uncased-finetuned-sst-2-english and revision af0f99b (https://huggingface.co/distilbert-base-uncased-finetuned-sst-2-english).\n",
                        "Using a pipeline without specifying a model name and revision in production is not recommended.\n"
                    ]
                }
            ],
            "source": [
                "!pip install torch\n",
                "!pip install tensorflow\n",
                "!pip install -q transformers\n",
                "\n",
                "from transformers import pipeline\n",
                "sentiment_pipeline = pipeline(\"sentiment-analysis\")"
            ]
        },
        {
            "cell_type": "code",
            "execution_count": 180,
            "metadata": {},
            "outputs": [
                {
                    "data": {
                        "text/plain": [
                            "[{'label': 'POSITIVE', 'score': 0.9998656511306763},\n",
                            " {'label': 'NEGATIVE', 'score': 0.9991129040718079}]"
                        ]
                    },
                    "execution_count": 180,
                    "metadata": {},
                    "output_type": "execute_result"
                }
            ],
            "source": [
                "data = [\"I love you\", \"I hate you\"]\n",
                "sentiment_pipeline(data)"
            ]
        },
        {
            "cell_type": "code",
            "execution_count": 181,
            "metadata": {},
            "outputs": [],
            "source": [
                "##nb.predict(vec.transform(['i don not like','eat much ram','eat','like']))\n"
            ]
        },
        {
            "cell_type": "code",
            "execution_count": 182,
            "metadata": {},
            "outputs": [],
            "source": [
                "##nb.predict(vec.transform(['love','great solid love important feature','ram','like fast']))"
            ]
        },
        {
            "cell_type": "code",
            "execution_count": 183,
            "metadata": {},
            "outputs": [
                {
                    "data": {
                        "text/plain": [
                            "836                                                                                                                                                                                                                                                                    useful others ap like\n",
                            "182                                                                                                                                                                                                                                                      prety god say oh wait fun game play\n",
                            "581                                                                                                                                                                                           useful used much could even evernote one favorite aps kep making beter widgets make even coler\n",
                            "577                                                                                                                                                                                                   says love site computer wish ap says find unorganized litle bit stresful god start rom\n",
                            "232                                                                                                                                                                                               longer casual game curent version game makes hard play casualy expect spend hours day stay\n",
                            "663    god ap nice try dear developers great job done would sugest u get idea fleksy keyboard ap also shal get rating around would sugest make easy standard keys hamro best hope update new inovative idea ap sugested ap frenz nepal overseas since ap one best ap mine want se ap since r\n",
                            "867                                                                                                                                                                                                                    prety god people like power ups turn first part game also like mighty\n",
                            "573                                                                                                                                                                                                                                                                     exactly states thank\n",
                            "654                                                                                                                                                                                                             smoth say much beter uc browser loads pages laptop realy bad love everything\n",
                            "560                                                                                                                                                                                                                                            great simple recomend love loking forward new\n",
                            "Name: review, dtype: object"
                        ]
                    },
                    "execution_count": 183,
                    "metadata": {},
                    "output_type": "execute_result"
                }
            ],
            "source": [
                "df[df['polarity']==1]['review'].sample(10)"
            ]
        },
        {
            "cell_type": "code",
            "execution_count": 184,
            "metadata": {},
            "outputs": [
                {
                    "data": {
                        "text/plain": [
                            "389                                                                                                                                                                                                                      stil come used use unaceptable instead ading new welcome scren latest update brought back widget\n",
                            "737                                                                                                                                                                                                                                                 god download one cal apliation start browsing sped slow founder solve\n",
                            "250                                                                                                                                                                                                              canot cast chromecast aps chromecast suports chrome browser suposed cast use worse wait fix already come\n",
                            "771                                                                                                                                                                                                               god ap nepali ap android update ap realy using ap exit please fix stil yet done wrong ap samsung galaxy\n",
                            "630    speed mode work anymore always open mobile mode even sped mode update sped mode become useles even also somesite become cant opened video stream sound like lower hard hear withou earphone want give please fix wrong want sped mode bcome useful give advice turn hv clear cache everything said nothing hapened\n",
                            "881                                                                                                                                                                                   game ruined felt like playing awhile imediately second awful mobile game ad poped second level loking store realized pay remove yep\n",
                            "788                                                                                                                                          crashes constantly test nothing browser obviously basic function gone testing executed prior use youtube sites require browser loads page without frezing crashing operating\n",
                            "310                                                                                                                                                                                                                                               want know people se post like coment post mean unfriend something wrong\n",
                            "647                                                                                                                                                              bulshit updating totaly able download mobiles suitable search anything always searhing asking sepearately web n image dwnldng tal worst compare previous\n",
                            "129                                                                                                                                                                                                                                                cal one adictive games droping rating tok bonus candy away last fix ok\n",
                            "Name: review, dtype: object"
                        ]
                    },
                    "execution_count": 184,
                    "metadata": {},
                    "output_type": "execute_result"
                }
            ],
            "source": [
                "df[df['polarity']==0]['review'].sample(10)"
            ]
        },
        {
            "cell_type": "markdown",
            "metadata": {},
            "source": [
                "Save the model \n"
            ]
        },
        {
            "cell_type": "code",
            "execution_count": 185,
            "metadata": {},
            "outputs": [],
            "source": [
                "#filename = '../modelo_final.sav' #use absolute path\n",
                "#pickle.dump(nb, open('../models/modelo_final.sav', 'wb'))\n"
            ]
        }
    ],
    "metadata": {
        "kernelspec": {
            "display_name": "Python 3.8.13 64-bit ('3.8.13')",
            "language": "python",
            "name": "python3"
        },
        "language_info": {
            "codemirror_mode": {
                "name": "ipython",
                "version": 3
            },
            "file_extension": ".py",
            "mimetype": "text/x-python",
            "name": "python",
            "nbconvert_exporter": "python",
            "pygments_lexer": "ipython3",
            "version": "3.8.13"
        },
        "orig_nbformat": 4,
        "vscode": {
            "interpreter": {
                "hash": "110cc1dee26208153f2972f08a2ad52b6a56238dc66d48e87fb757ef2996db56"
            }
        }
    },
    "nbformat": 4,
    "nbformat_minor": 2
}
