{
    "cells": [
        {
            "cell_type": "markdown",
            "metadata": {},
            "source": [
                "# Case\n",
                "\n",
                "Naive sentiment analysis\n",
                "\n",
                "This is a simple project using Naive Bayes Classifier and Scikit-learn to create a Google Play store reviews classifier (Sentiment Analysis) in Python. You will categorize user reviews as good or bad. The Naive Bayes classification technique is a simple and powerful classification task in machine learning. The Naive Bayes classification technique is a simple and powerful classification task in machine learning. In this dataset, we use the 23 most popular mobile apps, and only two columns.\n",
                "\n",
                "Step 1:\n",
                "\n",
                "We have three columns: package name, review and polarity (0 = bad, 1 = good) Preprocess the data by eliminating the package name column and putting all reviews in lower case.\n",
                "\n",
                "Step 2:\n",
                "\n",
                "Separate target from feature, and split your data.\n",
                "\n",
                "Step 3:\n",
                "\n",
                "Vectorize your features and use Naive Bayes to classify the reviews as good or bad. We will not focus on hypertuning our model this time. This was an introduction project to sentiment analysis using Naive Bayes.\n",
                "\n",
                "Step 4:\n",
                "\n",
                "Use the app.py to create your pipeline.\n",
                "\n",
                "Save your naive bayes classification model in the 'models' folder."
            ]
        },
        {
            "cell_type": "markdown",
            "metadata": {},
            "source": [
                "Insall de libraries"
            ]
        },
        {
            "cell_type": "code",
            "execution_count": 52,
            "metadata": {},
            "outputs": [
                {
                    "name": "stdout",
                    "output_type": "stream",
                    "text": [
                        "Requirement already satisfied: pandas in /home/gitpod/.pyenv/versions/3.8.13/lib/python3.8/site-packages (1.4.3)\n",
                        "Requirement already satisfied: numpy>=1.18.5 in /home/gitpod/.pyenv/versions/3.8.13/lib/python3.8/site-packages (from pandas) (1.23.1)\n",
                        "Requirement already satisfied: pytz>=2020.1 in /home/gitpod/.pyenv/versions/3.8.13/lib/python3.8/site-packages (from pandas) (2022.1)\n",
                        "Requirement already satisfied: python-dateutil>=2.8.1 in /home/gitpod/.pyenv/versions/3.8.13/lib/python3.8/site-packages (from pandas) (2.8.2)\n",
                        "Requirement already satisfied: six>=1.5 in /home/gitpod/.pyenv/versions/3.8.13/lib/python3.8/site-packages (from python-dateutil>=2.8.1->pandas) (1.16.0)\n",
                        "\n",
                        "\u001b[1m[\u001b[0m\u001b[34;49mnotice\u001b[0m\u001b[1;39;49m]\u001b[0m\u001b[39;49m A new release of pip available: \u001b[0m\u001b[31;49m22.2\u001b[0m\u001b[39;49m -> \u001b[0m\u001b[32;49m22.2.2\u001b[0m\n",
                        "\u001b[1m[\u001b[0m\u001b[34;49mnotice\u001b[0m\u001b[1;39;49m]\u001b[0m\u001b[39;49m To update, run: \u001b[0m\u001b[32;49mpip install --upgrade pip\u001b[0m\n",
                        "Requirement already satisfied: numpy in /home/gitpod/.pyenv/versions/3.8.13/lib/python3.8/site-packages (1.23.1)\n",
                        "\n",
                        "\u001b[1m[\u001b[0m\u001b[34;49mnotice\u001b[0m\u001b[1;39;49m]\u001b[0m\u001b[39;49m A new release of pip available: \u001b[0m\u001b[31;49m22.2\u001b[0m\u001b[39;49m -> \u001b[0m\u001b[32;49m22.2.2\u001b[0m\n",
                        "\u001b[1m[\u001b[0m\u001b[34;49mnotice\u001b[0m\u001b[1;39;49m]\u001b[0m\u001b[39;49m To update, run: \u001b[0m\u001b[32;49mpip install --upgrade pip\u001b[0m\n",
                        "Requirement already satisfied: sklearn in /home/gitpod/.pyenv/versions/3.8.13/lib/python3.8/site-packages (0.0)\n",
                        "Requirement already satisfied: scikit-learn in /home/gitpod/.pyenv/versions/3.8.13/lib/python3.8/site-packages (from sklearn) (1.1.2)\n",
                        "Requirement already satisfied: threadpoolctl>=2.0.0 in /home/gitpod/.pyenv/versions/3.8.13/lib/python3.8/site-packages (from scikit-learn->sklearn) (3.1.0)\n",
                        "Requirement already satisfied: joblib>=1.0.0 in /home/gitpod/.pyenv/versions/3.8.13/lib/python3.8/site-packages (from scikit-learn->sklearn) (1.1.0)\n",
                        "Requirement already satisfied: scipy>=1.3.2 in /home/gitpod/.pyenv/versions/3.8.13/lib/python3.8/site-packages (from scikit-learn->sklearn) (1.9.0)\n",
                        "Requirement already satisfied: numpy>=1.17.3 in /home/gitpod/.pyenv/versions/3.8.13/lib/python3.8/site-packages (from scikit-learn->sklearn) (1.23.1)\n",
                        "\n",
                        "\u001b[1m[\u001b[0m\u001b[34;49mnotice\u001b[0m\u001b[1;39;49m]\u001b[0m\u001b[39;49m A new release of pip available: \u001b[0m\u001b[31;49m22.2\u001b[0m\u001b[39;49m -> \u001b[0m\u001b[32;49m22.2.2\u001b[0m\n",
                        "\u001b[1m[\u001b[0m\u001b[34;49mnotice\u001b[0m\u001b[1;39;49m]\u001b[0m\u001b[39;49m To update, run: \u001b[0m\u001b[32;49mpip install --upgrade pip\u001b[0m\n",
                        "Requirement already satisfied: nltk in /home/gitpod/.pyenv/versions/3.8.13/lib/python3.8/site-packages (3.7)\n",
                        "Requirement already satisfied: joblib in /home/gitpod/.pyenv/versions/3.8.13/lib/python3.8/site-packages (from nltk) (1.1.0)\n",
                        "Requirement already satisfied: tqdm in /home/gitpod/.pyenv/versions/3.8.13/lib/python3.8/site-packages (from nltk) (4.64.0)\n",
                        "Requirement already satisfied: regex>=2021.8.3 in /home/gitpod/.pyenv/versions/3.8.13/lib/python3.8/site-packages (from nltk) (2022.7.25)\n",
                        "Requirement already satisfied: click in /home/gitpod/.pyenv/versions/3.8.13/lib/python3.8/site-packages (from nltk) (8.1.3)\n",
                        "\n",
                        "\u001b[1m[\u001b[0m\u001b[34;49mnotice\u001b[0m\u001b[1;39;49m]\u001b[0m\u001b[39;49m A new release of pip available: \u001b[0m\u001b[31;49m22.2\u001b[0m\u001b[39;49m -> \u001b[0m\u001b[32;49m22.2.2\u001b[0m\n",
                        "\u001b[1m[\u001b[0m\u001b[34;49mnotice\u001b[0m\u001b[1;39;49m]\u001b[0m\u001b[39;49m To update, run: \u001b[0m\u001b[32;49mpip install --upgrade pip\u001b[0m\n",
                        "\u001b[31mERROR: Could not find a version that satisfies the requirement pickle (from versions: none)\u001b[0m\u001b[31m\n",
                        "\u001b[0m\u001b[31mERROR: No matching distribution found for pickle\u001b[0m\u001b[31m\n",
                        "\u001b[0m\n",
                        "\u001b[1m[\u001b[0m\u001b[34;49mnotice\u001b[0m\u001b[1;39;49m]\u001b[0m\u001b[39;49m A new release of pip available: \u001b[0m\u001b[31;49m22.2\u001b[0m\u001b[39;49m -> \u001b[0m\u001b[32;49m22.2.2\u001b[0m\n",
                        "\u001b[1m[\u001b[0m\u001b[34;49mnotice\u001b[0m\u001b[1;39;49m]\u001b[0m\u001b[39;49m To update, run: \u001b[0m\u001b[32;49mpip install --upgrade pip\u001b[0m\n",
                        "Note: you may need to restart the kernel to use updated packages.\n"
                    ]
                }
            ],
            "source": [
                "!pip install pandas\n",
                "!pip install numpy\n",
                "!pip install sklearn\n",
                "!pip install nltk\n",
                "%pip install pickle"
            ]
        },
        {
            "cell_type": "markdown",
            "metadata": {},
            "source": [
                "Imports"
            ]
        },
        {
            "cell_type": "code",
            "execution_count": 53,
            "metadata": {},
            "outputs": [],
            "source": [
                "import pandas as pd\n",
                "import numpy as np\n",
                "import nltk #text processing\n",
                "import re\n",
                "import unicodedata\n",
                "from nltk.corpus import stopwords\n",
                "from sklearn.model_selection import train_test_split\n",
                "from sklearn.feature_extraction.text import CountVectorizer\n",
                "from sklearn.naive_bayes import MultinomialNB\n",
                "import pickle"
            ]
        },
        {
            "cell_type": "code",
            "execution_count": 54,
            "metadata": {},
            "outputs": [
                {
                    "name": "stderr",
                    "output_type": "stream",
                    "text": [
                        "[nltk_data] Downloading package stopwords to /home/gitpod/nltk_data...\n",
                        "[nltk_data]   Package stopwords is already up-to-date!\n"
                    ]
                },
                {
                    "data": {
                        "text/plain": [
                            "True"
                        ]
                    },
                    "execution_count": 54,
                    "metadata": {},
                    "output_type": "execute_result"
                }
            ],
            "source": [
                "#load the words to use as filter\n",
                "nltk.download('stopwords')"
            ]
        },
        {
            "cell_type": "markdown",
            "metadata": {},
            "source": [
                "Load Data of Reviews"
            ]
        },
        {
            "cell_type": "code",
            "execution_count": 55,
            "metadata": {},
            "outputs": [],
            "source": [
                "url='https://raw.githubusercontent.com/4GeeksAcademy/naive-bayes-project-tutorial/main/playstore_reviews_dataset.csv'\n",
                "df = pd.read_csv(url)"
            ]
        },
        {
            "cell_type": "markdown",
            "metadata": {},
            "source": [
                "Explore Dataset"
            ]
        },
        {
            "cell_type": "code",
            "execution_count": 56,
            "metadata": {},
            "outputs": [
                {
                    "data": {
                        "text/html": [
                            "<div>\n",
                            "<style scoped>\n",
                            "    .dataframe tbody tr th:only-of-type {\n",
                            "        vertical-align: middle;\n",
                            "    }\n",
                            "\n",
                            "    .dataframe tbody tr th {\n",
                            "        vertical-align: top;\n",
                            "    }\n",
                            "\n",
                            "    .dataframe thead th {\n",
                            "        text-align: right;\n",
                            "    }\n",
                            "</style>\n",
                            "<table border=\"1\" class=\"dataframe\">\n",
                            "  <thead>\n",
                            "    <tr style=\"text-align: right;\">\n",
                            "      <th></th>\n",
                            "      <th>package_name</th>\n",
                            "      <th>review</th>\n",
                            "      <th>polarity</th>\n",
                            "    </tr>\n",
                            "  </thead>\n",
                            "  <tbody>\n",
                            "    <tr>\n",
                            "      <th>0</th>\n",
                            "      <td>com.facebook.katana</td>\n",
                            "      <td>privacy at least put some option appear offli...</td>\n",
                            "      <td>0</td>\n",
                            "    </tr>\n",
                            "    <tr>\n",
                            "      <th>1</th>\n",
                            "      <td>com.facebook.katana</td>\n",
                            "      <td>messenger issues ever since the last update, ...</td>\n",
                            "      <td>0</td>\n",
                            "    </tr>\n",
                            "    <tr>\n",
                            "      <th>2</th>\n",
                            "      <td>com.facebook.katana</td>\n",
                            "      <td>profile any time my wife or anybody has more ...</td>\n",
                            "      <td>0</td>\n",
                            "    </tr>\n",
                            "    <tr>\n",
                            "      <th>3</th>\n",
                            "      <td>com.facebook.katana</td>\n",
                            "      <td>the new features suck for those of us who don...</td>\n",
                            "      <td>0</td>\n",
                            "    </tr>\n",
                            "    <tr>\n",
                            "      <th>4</th>\n",
                            "      <td>com.facebook.katana</td>\n",
                            "      <td>forced reload on uploading pic on replying co...</td>\n",
                            "      <td>0</td>\n",
                            "    </tr>\n",
                            "  </tbody>\n",
                            "</table>\n",
                            "</div>"
                        ],
                        "text/plain": [
                            "          package_name                                             review  \\\n",
                            "0  com.facebook.katana   privacy at least put some option appear offli...   \n",
                            "1  com.facebook.katana   messenger issues ever since the last update, ...   \n",
                            "2  com.facebook.katana   profile any time my wife or anybody has more ...   \n",
                            "3  com.facebook.katana   the new features suck for those of us who don...   \n",
                            "4  com.facebook.katana   forced reload on uploading pic on replying co...   \n",
                            "\n",
                            "   polarity  \n",
                            "0         0  \n",
                            "1         0  \n",
                            "2         0  \n",
                            "3         0  \n",
                            "4         0  "
                        ]
                    },
                    "execution_count": 56,
                    "metadata": {},
                    "output_type": "execute_result"
                }
            ],
            "source": [
                "df.head()\n"
            ]
        },
        {
            "cell_type": "code",
            "execution_count": 57,
            "metadata": {},
            "outputs": [
                {
                    "data": {
                        "text/plain": [
                            "0    584\n",
                            "1    307\n",
                            "Name: polarity, dtype: int64"
                        ]
                    },
                    "execution_count": 57,
                    "metadata": {},
                    "output_type": "execute_result"
                }
            ],
            "source": [
                "df['polarity'].value_counts()"
            ]
        },
        {
            "cell_type": "code",
            "execution_count": 58,
            "metadata": {},
            "outputs": [
                {
                    "name": "stdout",
                    "output_type": "stream",
                    "text": [
                        "<class 'pandas.core.frame.DataFrame'>\n",
                        "RangeIndex: 891 entries, 0 to 890\n",
                        "Data columns (total 3 columns):\n",
                        " #   Column        Non-Null Count  Dtype \n",
                        "---  ------        --------------  ----- \n",
                        " 0   package_name  891 non-null    object\n",
                        " 1   review        891 non-null    object\n",
                        " 2   polarity      891 non-null    int64 \n",
                        "dtypes: int64(1), object(2)\n",
                        "memory usage: 21.0+ KB\n"
                    ]
                }
            ],
            "source": [
                "df.info()"
            ]
        },
        {
            "cell_type": "markdown",
            "metadata": {},
            "source": [
                "Package name, review and polarity (0 = bad, 1 = good)"
            ]
        },
        {
            "cell_type": "code",
            "execution_count": 59,
            "metadata": {},
            "outputs": [
                {
                    "data": {
                        "text/html": [
                            "<div>\n",
                            "<style scoped>\n",
                            "    .dataframe tbody tr th:only-of-type {\n",
                            "        vertical-align: middle;\n",
                            "    }\n",
                            "\n",
                            "    .dataframe tbody tr th {\n",
                            "        vertical-align: top;\n",
                            "    }\n",
                            "\n",
                            "    .dataframe thead th {\n",
                            "        text-align: right;\n",
                            "    }\n",
                            "</style>\n",
                            "<table border=\"1\" class=\"dataframe\">\n",
                            "  <thead>\n",
                            "    <tr style=\"text-align: right;\">\n",
                            "      <th></th>\n",
                            "      <th>package_name</th>\n",
                            "      <th>review</th>\n",
                            "      <th>polarity</th>\n",
                            "    </tr>\n",
                            "  </thead>\n",
                            "  <tbody>\n",
                            "    <tr>\n",
                            "      <th>407</th>\n",
                            "      <td>com.facebook.orca</td>\n",
                            "      <td>sometimes, if i turn off wifi, both messenge...</td>\n",
                            "      <td>0</td>\n",
                            "    </tr>\n",
                            "    <tr>\n",
                            "      <th>660</th>\n",
                            "      <td>com.hamrokeyboard</td>\n",
                            "      <td>cannot use properly ŕ¤žŕ¤˛ŕ¤žŕ¤ ŕ¤ŕ¤žŕ¤šŕ¤ż...</td>\n",
                            "      <td>0</td>\n",
                            "    </tr>\n",
                            "    <tr>\n",
                            "      <th>216</th>\n",
                            "      <td>com.supercell.clashofclans</td>\n",
                            "      <td>nyc  1 u guys should apply some same strategy...</td>\n",
                            "      <td>0</td>\n",
                            "    </tr>\n",
                            "    <tr>\n",
                            "      <th>429</th>\n",
                            "      <td>com.facebook.orca</td>\n",
                            "      <td>linda cooper hardy it is essential at times, ...</td>\n",
                            "      <td>0</td>\n",
                            "    </tr>\n",
                            "    <tr>\n",
                            "      <th>108</th>\n",
                            "      <td>com.linkedin.android</td>\n",
                            "      <td>not able send requests to connect not able to...</td>\n",
                            "      <td>0</td>\n",
                            "    </tr>\n",
                            "    <tr>\n",
                            "      <th>217</th>\n",
                            "      <td>com.supercell.clashofclans</td>\n",
                            "      <td>it was epic....then a certain update happened...</td>\n",
                            "      <td>0</td>\n",
                            "    </tr>\n",
                            "    <tr>\n",
                            "      <th>367</th>\n",
                            "      <td>com.google.android.talk</td>\n",
                            "      <td>would like to see who are currently online? p...</td>\n",
                            "      <td>0</td>\n",
                            "    </tr>\n",
                            "    <tr>\n",
                            "      <th>587</th>\n",
                            "      <td>com.evernote</td>\n",
                            "      <td>ever so useful evernote it is so easy to 'scr...</td>\n",
                            "      <td>1</td>\n",
                            "    </tr>\n",
                            "    <tr>\n",
                            "      <th>28</th>\n",
                            "      <td>com.facebook.katana</td>\n",
                            "      <td>you should fix this it does'nt work anymore. ...</td>\n",
                            "      <td>0</td>\n",
                            "    </tr>\n",
                            "    <tr>\n",
                            "      <th>714</th>\n",
                            "      <td>com.opera.mini.native</td>\n",
                            "      <td>for the build 13.0.2036.98649  new colour sc...</td>\n",
                            "      <td>0</td>\n",
                            "    </tr>\n",
                            "  </tbody>\n",
                            "</table>\n",
                            "</div>"
                        ],
                        "text/plain": [
                            "                   package_name  \\\n",
                            "407           com.facebook.orca   \n",
                            "660           com.hamrokeyboard   \n",
                            "216  com.supercell.clashofclans   \n",
                            "429           com.facebook.orca   \n",
                            "108        com.linkedin.android   \n",
                            "217  com.supercell.clashofclans   \n",
                            "367     com.google.android.talk   \n",
                            "587                com.evernote   \n",
                            "28          com.facebook.katana   \n",
                            "714       com.opera.mini.native   \n",
                            "\n",
                            "                                                review  polarity  \n",
                            "407    sometimes, if i turn off wifi, both messenge...         0  \n",
                            "660   cannot use properly ŕ¤žŕ¤˛ŕ¤žŕ¤ ŕ¤ŕ¤žŕ¤šŕ¤ż...         0  \n",
                            "216   nyc  1 u guys should apply some same strategy...         0  \n",
                            "429   linda cooper hardy it is essential at times, ...         0  \n",
                            "108   not able send requests to connect not able to...         0  \n",
                            "217   it was epic....then a certain update happened...         0  \n",
                            "367   would like to see who are currently online? p...         0  \n",
                            "587   ever so useful evernote it is so easy to 'scr...         1  \n",
                            "28    you should fix this it does'nt work anymore. ...         0  \n",
                            "714    for the build 13.0.2036.98649  new colour sc...         0  "
                        ]
                    },
                    "execution_count": 59,
                    "metadata": {},
                    "output_type": "execute_result"
                }
            ],
            "source": [
                "df.sample(10)"
            ]
        },
        {
            "cell_type": "markdown",
            "metadata": {},
            "source": [
                "\n",
                "Text Processing - Clean\n",
                "\n",
                "Step 1 - change all to lower case\n"
            ]
        },
        {
            "cell_type": "code",
            "execution_count": 60,
            "metadata": {},
            "outputs": [],
            "source": [
                "#Preprocess the data by eliminating the package name column and putting all reviews in lower case.\n",
                "\n",
                "df.drop(['package_name'],axis=1, inplace=True)\n",
                "#chante all to lower case\n",
                "df['review'] = df['review'].str.lower()\n"
            ]
        },
        {
            "cell_type": "markdown",
            "metadata": {},
            "source": [
                "\n",
                "\n",
                "Step 2 - Remove all words that not have meaning to the search - stop words\n"
            ]
        },
        {
            "cell_type": "code",
            "execution_count": 61,
            "metadata": {},
            "outputs": [
                {
                    "data": {
                        "text/plain": [
                            "the       1293\n",
                            "to        1159\n",
                            "i         1084\n",
                            "and        853\n",
                            "it         778\n",
                            "a          619\n",
                            "is         555\n",
                            "my         442\n",
                            "this       421\n",
                            "for        410\n",
                            "of         390\n",
                            "but        348\n",
                            "in         340\n",
                            "on         325\n",
                            "not        318\n",
                            "app        317\n",
                            "you        315\n",
                            "that       260\n",
                            "have       252\n",
                            "with       220\n",
                            "so         203\n",
                            "be         194\n",
                            "no         186\n",
                            "when       182\n",
                            "if         180\n",
                            "or         169\n",
                            "all        163\n",
                            "can        158\n",
                            "as         148\n",
                            "me         145\n",
                            "are        139\n",
                            "it's       138\n",
                            "can't      137\n",
                            "update     136\n",
                            "new        136\n",
                            "like       135\n",
                            "fix        133\n",
                            "please     131\n",
                            "good       128\n",
                            "game       121\n",
                            "one        119\n",
                            "use        118\n",
                            "just       117\n",
                            "get        112\n",
                            "its        111\n",
                            "very       109\n",
                            "more       107\n",
                            "was        104\n",
                            "there      104\n",
                            "don't      103\n",
                            "now        102\n",
                            "will       102\n",
                            "even       101\n",
                            "from       101\n",
                            "at         100\n",
                            "up          99\n",
                            "great       99\n",
                            "time        93\n",
                            "your        90\n",
                            "do          89\n",
                            "dtype: int64"
                        ]
                    },
                    "execution_count": 61,
                    "metadata": {},
                    "output_type": "execute_result"
                }
            ],
            "source": [
                "#see, the word in the reviews, create a list of word and frecuency\n",
                "df['review'].str.split(expand = True).stack().value_counts()[:60] #(show top 60)"
            ]
        },
        {
            "cell_type": "code",
            "execution_count": 62,
            "metadata": {},
            "outputs": [],
            "source": [
                "#remove the stopword\n",
                "stop = stopwords.words('english')\n",
                "\n",
                "def remove_stopwords(text):\n",
                "  if text is not None:\n",
                "    #list of the word in the text\n",
                "    words = text.strip().split()\n",
                "    words_filtered = []\n",
                "    for word in words:\n",
                "      if word not in stop:\n",
                "        words_filtered.append(word)\n",
                "    result = \" \".join(words_filtered) #join the word in a text with space separation\n",
                "  else:\n",
                "      result = None\n",
                "  return result\n"
            ]
        },
        {
            "cell_type": "markdown",
            "metadata": {},
            "source": [
                "\n",
                "\n",
                "Eliminamos los caracteres desconocidos\n"
            ]
        },
        {
            "cell_type": "code",
            "execution_count": 63,
            "metadata": {},
            "outputs": [],
            "source": [
                "df['review']=df['review'].str.strip()\n",
                "df['review']=df['review'].str.lower()"
            ]
        },
        {
            "cell_type": "code",
            "execution_count": 64,
            "metadata": {},
            "outputs": [],
            "source": [
                "def normalize_str(text_string):\n",
                "    if text_string is not None:\n",
                "        result=unicodedata.normalize('NFD',text_string).encode('ascii','ignore').decode()\n",
                "    else:\n",
                "        result=None \n",
                "    return result"
            ]
        },
        {
            "cell_type": "code",
            "execution_count": 65,
            "metadata": {},
            "outputs": [],
            "source": [
                "df['review']=df['review'].apply(normalize_str)\n",
                "df['review']=df['review'].str.replace('!','')\n",
                "df['review']=df['review'].str.replace(',','')\n",
                "df['review']=df['review'].str.replace('&','')\n",
                "df['review']=df['review'].str.normalize('NFKC')\n",
                "df['review']=df['review'].str.replace(r'([a-zA-Z])\\1{2,}',r'\\1',regex=True)"
            ]
        },
        {
            "cell_type": "code",
            "execution_count": 66,
            "metadata": {},
            "outputs": [
                {
                    "data": {
                        "text/html": [
                            "<div>\n",
                            "<style scoped>\n",
                            "    .dataframe tbody tr th:only-of-type {\n",
                            "        vertical-align: middle;\n",
                            "    }\n",
                            "\n",
                            "    .dataframe tbody tr th {\n",
                            "        vertical-align: top;\n",
                            "    }\n",
                            "\n",
                            "    .dataframe thead th {\n",
                            "        text-align: right;\n",
                            "    }\n",
                            "</style>\n",
                            "<table border=\"1\" class=\"dataframe\">\n",
                            "  <thead>\n",
                            "    <tr style=\"text-align: right;\">\n",
                            "      <th></th>\n",
                            "      <th>review</th>\n",
                            "      <th>polarity</th>\n",
                            "    </tr>\n",
                            "  </thead>\n",
                            "  <tbody>\n",
                            "    <tr>\n",
                            "      <th>2</th>\n",
                            "      <td>profile any time my wife or anybody has more t...</td>\n",
                            "      <td>0</td>\n",
                            "    </tr>\n",
                            "    <tr>\n",
                            "      <th>432</th>\n",
                            "      <td>doesn't send the message i have an active inte...</td>\n",
                            "      <td>0</td>\n",
                            "    </tr>\n",
                            "    <tr>\n",
                            "      <th>388</th>\n",
                            "      <td>mms failure still have issues with group messa...</td>\n",
                            "      <td>0</td>\n",
                            "    </tr>\n",
                            "    <tr>\n",
                            "      <th>858</th>\n",
                            "      <td>great fun. very addictive. still brilliant loa...</td>\n",
                            "      <td>1</td>\n",
                            "    </tr>\n",
                            "    <tr>\n",
                            "      <th>231</th>\n",
                            "      <td>update sucks i have some friends who didn't pl...</td>\n",
                            "      <td>0</td>\n",
                            "    </tr>\n",
                            "    <tr>\n",
                            "      <th>59</th>\n",
                            "      <td>good ui ux and helpful in governance looking t...</td>\n",
                            "      <td>0</td>\n",
                            "    </tr>\n",
                            "    <tr>\n",
                            "      <th>482</th>\n",
                            "      <td>works fine for the most part. not sure why it ...</td>\n",
                            "      <td>1</td>\n",
                            "    </tr>\n",
                            "    <tr>\n",
                            "      <th>304</th>\n",
                            "      <td>forgot my old wechat password i want to reopen...</td>\n",
                            "      <td>0</td>\n",
                            "    </tr>\n",
                            "    <tr>\n",
                            "      <th>117</th>\n",
                            "      <td>app requires frequent login password why the h...</td>\n",
                            "      <td>0</td>\n",
                            "    </tr>\n",
                            "    <tr>\n",
                            "      <th>702</th>\n",
                            "      <td>easy to play and always running jumping and de...</td>\n",
                            "      <td>1</td>\n",
                            "    </tr>\n",
                            "  </tbody>\n",
                            "</table>\n",
                            "</div>"
                        ],
                        "text/plain": [
                            "                                                review  polarity\n",
                            "2    profile any time my wife or anybody has more t...         0\n",
                            "432  doesn't send the message i have an active inte...         0\n",
                            "388  mms failure still have issues with group messa...         0\n",
                            "858  great fun. very addictive. still brilliant loa...         1\n",
                            "231  update sucks i have some friends who didn't pl...         0\n",
                            "59   good ui ux and helpful in governance looking t...         0\n",
                            "482  works fine for the most part. not sure why it ...         1\n",
                            "304  forgot my old wechat password i want to reopen...         0\n",
                            "117  app requires frequent login password why the h...         0\n",
                            "702  easy to play and always running jumping and de...         1"
                        ]
                    },
                    "execution_count": 66,
                    "metadata": {},
                    "output_type": "execute_result"
                }
            ],
            "source": [
                "df.sample(10)"
            ]
        },
        {
            "cell_type": "code",
            "execution_count": 67,
            "metadata": {},
            "outputs": [
                {
                    "data": {
                        "text/plain": [
                            "review      loved it rzrl app rrlrrl rrsrzrlrrl r rrsrzrlr...\n",
                            "polarity                                                    1\n",
                            "Name: 675, dtype: object"
                        ]
                    },
                    "execution_count": 67,
                    "metadata": {},
                    "output_type": "execute_result"
                }
            ],
            "source": [
                "df.iloc[675,]"
            ]
        },
        {
            "cell_type": "code",
            "execution_count": 68,
            "metadata": {},
            "outputs": [],
            "source": [
                "df_interim = df.copy()"
            ]
        },
        {
            "cell_type": "code",
            "execution_count": 69,
            "metadata": {},
            "outputs": [],
            "source": [
                "df_interim['review'] = df_interim['review'].apply(remove_stopwords)\n"
            ]
        },
        {
            "cell_type": "code",
            "execution_count": 70,
            "metadata": {},
            "outputs": [
                {
                    "data": {
                        "text/plain": [
                            "app         351\n",
                            "update      150\n",
                            "game        140\n",
                            "please      138\n",
                            "like        137\n",
                            "can't       137\n",
                            "new         137\n",
                            "fix         135\n",
                            "good        134\n",
                            "use         123\n",
                            "one         120\n",
                            "great       115\n",
                            "get         112\n",
                            "even        102\n",
                            "time         98\n",
                            "browser      85\n",
                            "really       84\n",
                            "back         81\n",
                            "still        80\n",
                            "would        80\n",
                            "love         77\n",
                            "make         74\n",
                            "5            71\n",
                            "work         71\n",
                            "also         69\n",
                            "see          69\n",
                            "using        68\n",
                            "phone        68\n",
                            "i'm          67\n",
                            "open         66\n",
                            "it.          65\n",
                            "want         64\n",
                            "google       64\n",
                            "much         62\n",
                            "every        61\n",
                            "version      60\n",
                            "option       59\n",
                            "u            58\n",
                            "way          57\n",
                            "app.         56\n",
                            "go           56\n",
                            "android      56\n",
                            "used         55\n",
                            "best         54\n",
                            "download     53\n",
                            "better       53\n",
                            "play         52\n",
                            ".            51\n",
                            "give         50\n",
                            "send         49\n",
                            "people       48\n",
                            "able         48\n",
                            "message      47\n",
                            "since        47\n",
                            "many         46\n",
                            "works        45\n",
                            "apps         45\n",
                            "ads          45\n",
                            "keep         45\n",
                            "old          44\n",
                            "dtype: int64"
                        ]
                    },
                    "execution_count": 70,
                    "metadata": {},
                    "output_type": "execute_result"
                }
            ],
            "source": [
                "df_interim['review'].str.split(expand=True).stack().value_counts()[:60] "
            ]
        },
        {
            "cell_type": "code",
            "execution_count": 71,
            "metadata": {},
            "outputs": [],
            "source": [
                "def word_only_letters(word):\n",
                "    for c in word:\n",
                "        cat = unicodedata.category(c)\n",
                "        if cat not in ('Ll','Lu'):  #only letter upper y lower\n",
                "            return False\n",
                "    return True\n",
                "\n",
                "# clean only letter\n",
                "def text_only_letters(text):\n",
                "    if text is not None:\n",
                "        #list of the word in the text\n",
                "        words = text.strip().split()\n",
                "        words_filtered = []\n",
                "        for word in words:\n",
                "            if word_only_letters(word):\n",
                "                words_filtered.append(word)\n",
                "            result = \" \".join(words_filtered) #join the word in a text with space separation\n",
                "    else:\n",
                "        result = None\n",
                "    return result"
            ]
        },
        {
            "cell_type": "code",
            "execution_count": 72,
            "metadata": {},
            "outputs": [],
            "source": [
                "df_interim['review'] = df_interim['review'].apply(text_only_letters)"
            ]
        },
        {
            "cell_type": "code",
            "execution_count": 73,
            "metadata": {},
            "outputs": [],
            "source": [
                "\n",
                "\n",
                "#remove multi letter looove iiiitttt, or repeat secuence\n",
                "def replace_multiple_letters(message):\n",
                "  if message is not None:\n",
                "    result = re.sub(r'(.+?)\\1+', r'\\1', message)\n",
                "    #result = re.sub(r\"([a-zA-Z])＼1{2,}\", r\"＼1\", message)\n",
                "  else:\n",
                "    result = None\n",
                "  return result\n"
            ]
        },
        {
            "cell_type": "code",
            "execution_count": 74,
            "metadata": {},
            "outputs": [],
            "source": [
                "df_interim['review'] = df_interim['review'].apply(replace_multiple_letters)"
            ]
        },
        {
            "cell_type": "code",
            "execution_count": 75,
            "metadata": {},
            "outputs": [
                {
                    "data": {
                        "text/plain": [
                            "0      privacy least put option apear mean people lik...\n",
                            "1      mesenger isues ever since last update initial ...\n",
                            "2      profile time wife anybody one post view would ...\n",
                            "3      new features suck us working back buton guys m...\n",
                            "4      forced reload uploading pic replying coment la...\n",
                            "                             ...                        \n",
                            "886    loved incredible awesome go power make new cla...\n",
                            "887    time legendary game birthday party levels shor...\n",
                            "888    ads way heavy listen bad ads every round wheth...\n",
                            "889    fun works perfectly ads anoying think especial...\n",
                            "890    everywhere se angry birds everywhere stop play...\n",
                            "Name: review, Length: 891, dtype: object"
                        ]
                    },
                    "execution_count": 75,
                    "metadata": {},
                    "output_type": "execute_result"
                }
            ],
            "source": [
                "df_interim['review']"
            ]
        },
        {
            "cell_type": "code",
            "execution_count": 76,
            "metadata": {},
            "outputs": [],
            "source": [
                "#copy to df\n",
                "df = df_interim.copy()\n"
            ]
        },
        {
            "cell_type": "markdown",
            "metadata": {},
            "source": [
                "\n",
                "\n",
                "Setp 3 - Model\n"
            ]
        },
        {
            "cell_type": "code",
            "execution_count": 77,
            "metadata": {},
            "outputs": [],
            "source": [
                "# Separate target and predictor\n",
                "X = df['review']\n",
                "y = df['polarity']\n"
            ]
        },
        {
            "cell_type": "code",
            "execution_count": 78,
            "metadata": {},
            "outputs": [],
            "source": [
                "X=df['review']\n",
                "y=df['polarity']"
            ]
        },
        {
            "cell_type": "code",
            "execution_count": 79,
            "metadata": {},
            "outputs": [],
            "source": [
                "#Split your data in train and test set\n",
                "X_train, X_test, y_train, y_test = train_test_split(X,y, stratify=y, random_state=42) #, test_size=0.25"
            ]
        },
        {
            "cell_type": "code",
            "execution_count": 80,
            "metadata": {},
            "outputs": [],
            "source": [
                "#Vectorizer change matriz with 0-1\n",
                "vec = CountVectorizer(stop_words = \"english\")\n",
                "X_train = vec.fit_transform(X_train).toarray()\n",
                "X_test = vec.transform(X_test).toarray()"
            ]
        },
        {
            "cell_type": "code",
            "execution_count": 81,
            "metadata": {},
            "outputs": [
                {
                    "data": {
                        "text/plain": [
                            "array([[1, 0, 1, ..., 0, 0, 0],\n",
                            "       [0, 0, 0, ..., 0, 0, 0],\n",
                            "       [0, 0, 0, ..., 0, 0, 0],\n",
                            "       ...,\n",
                            "       [0, 0, 0, ..., 0, 0, 0],\n",
                            "       [0, 0, 0, ..., 0, 0, 0],\n",
                            "       [1, 0, 0, ..., 0, 1, 0]])"
                        ]
                    },
                    "execution_count": 81,
                    "metadata": {},
                    "output_type": "execute_result"
                }
            ],
            "source": [
                "X_train\n"
            ]
        },
        {
            "cell_type": "markdown",
            "metadata": {},
            "source": [
                "\n",
                "\n",
                "X_train.shape\n",
                "\n"
            ]
        },
        {
            "cell_type": "code",
            "execution_count": 82,
            "metadata": {},
            "outputs": [
                {
                    "data": {
                        "text/plain": [
                            "array(['ability', 'abke', 'able', ..., 'zespole', 'zom', 'zoming'],\n",
                            "      dtype=object)"
                        ]
                    },
                    "execution_count": 82,
                    "metadata": {},
                    "output_type": "execute_result"
                }
            ],
            "source": [
                "vec.get_feature_names_out()"
            ]
        },
        {
            "cell_type": "code",
            "execution_count": 83,
            "metadata": {},
            "outputs": [
                {
                    "data": {
                        "text/html": [
                            "<style>#sk-container-id-1 {color: black;background-color: white;}#sk-container-id-1 pre{padding: 0;}#sk-container-id-1 div.sk-toggleable {background-color: white;}#sk-container-id-1 label.sk-toggleable__label {cursor: pointer;display: block;width: 100%;margin-bottom: 0;padding: 0.3em;box-sizing: border-box;text-align: center;}#sk-container-id-1 label.sk-toggleable__label-arrow:before {content: \"▸\";float: left;margin-right: 0.25em;color: #696969;}#sk-container-id-1 label.sk-toggleable__label-arrow:hover:before {color: black;}#sk-container-id-1 div.sk-estimator:hover label.sk-toggleable__label-arrow:before {color: black;}#sk-container-id-1 div.sk-toggleable__content {max-height: 0;max-width: 0;overflow: hidden;text-align: left;background-color: #f0f8ff;}#sk-container-id-1 div.sk-toggleable__content pre {margin: 0.2em;color: black;border-radius: 0.25em;background-color: #f0f8ff;}#sk-container-id-1 input.sk-toggleable__control:checked~div.sk-toggleable__content {max-height: 200px;max-width: 100%;overflow: auto;}#sk-container-id-1 input.sk-toggleable__control:checked~label.sk-toggleable__label-arrow:before {content: \"▾\";}#sk-container-id-1 div.sk-estimator input.sk-toggleable__control:checked~label.sk-toggleable__label {background-color: #d4ebff;}#sk-container-id-1 div.sk-label input.sk-toggleable__control:checked~label.sk-toggleable__label {background-color: #d4ebff;}#sk-container-id-1 input.sk-hidden--visually {border: 0;clip: rect(1px 1px 1px 1px);clip: rect(1px, 1px, 1px, 1px);height: 1px;margin: -1px;overflow: hidden;padding: 0;position: absolute;width: 1px;}#sk-container-id-1 div.sk-estimator {font-family: monospace;background-color: #f0f8ff;border: 1px dotted black;border-radius: 0.25em;box-sizing: border-box;margin-bottom: 0.5em;}#sk-container-id-1 div.sk-estimator:hover {background-color: #d4ebff;}#sk-container-id-1 div.sk-parallel-item::after {content: \"\";width: 100%;border-bottom: 1px solid gray;flex-grow: 1;}#sk-container-id-1 div.sk-label:hover label.sk-toggleable__label {background-color: #d4ebff;}#sk-container-id-1 div.sk-serial::before {content: \"\";position: absolute;border-left: 1px solid gray;box-sizing: border-box;top: 0;bottom: 0;left: 50%;z-index: 0;}#sk-container-id-1 div.sk-serial {display: flex;flex-direction: column;align-items: center;background-color: white;padding-right: 0.2em;padding-left: 0.2em;position: relative;}#sk-container-id-1 div.sk-item {position: relative;z-index: 1;}#sk-container-id-1 div.sk-parallel {display: flex;align-items: stretch;justify-content: center;background-color: white;position: relative;}#sk-container-id-1 div.sk-item::before, #sk-container-id-1 div.sk-parallel-item::before {content: \"\";position: absolute;border-left: 1px solid gray;box-sizing: border-box;top: 0;bottom: 0;left: 50%;z-index: -1;}#sk-container-id-1 div.sk-parallel-item {display: flex;flex-direction: column;z-index: 1;position: relative;background-color: white;}#sk-container-id-1 div.sk-parallel-item:first-child::after {align-self: flex-end;width: 50%;}#sk-container-id-1 div.sk-parallel-item:last-child::after {align-self: flex-start;width: 50%;}#sk-container-id-1 div.sk-parallel-item:only-child::after {width: 0;}#sk-container-id-1 div.sk-dashed-wrapped {border: 1px dashed gray;margin: 0 0.4em 0.5em 0.4em;box-sizing: border-box;padding-bottom: 0.4em;background-color: white;}#sk-container-id-1 div.sk-label label {font-family: monospace;font-weight: bold;display: inline-block;line-height: 1.2em;}#sk-container-id-1 div.sk-label-container {text-align: center;}#sk-container-id-1 div.sk-container {/* jupyter's `normalize.less` sets `[hidden] { display: none; }` but bootstrap.min.css set `[hidden] { display: none !important; }` so we also need the `!important` here to be able to override the default hidden behavior on the sphinx rendered scikit-learn.org. See: https://github.com/scikit-learn/scikit-learn/issues/21755 */display: inline-block !important;position: relative;}#sk-container-id-1 div.sk-text-repr-fallback {display: none;}</style><div id=\"sk-container-id-1\" class=\"sk-top-container\"><div class=\"sk-text-repr-fallback\"><pre>MultinomialNB()</pre><b>In a Jupyter environment, please rerun this cell to show the HTML representation or trust the notebook. <br />On GitHub, the HTML representation is unable to render, please try loading this page with nbviewer.org.</b></div><div class=\"sk-container\" hidden><div class=\"sk-item\"><div class=\"sk-estimator sk-toggleable\"><input class=\"sk-toggleable__control sk-hidden--visually\" id=\"sk-estimator-id-1\" type=\"checkbox\" checked><label for=\"sk-estimator-id-1\" class=\"sk-toggleable__label sk-toggleable__label-arrow\">MultinomialNB</label><div class=\"sk-toggleable__content\"><pre>MultinomialNB()</pre></div></div></div></div></div>"
                        ],
                        "text/plain": [
                            "MultinomialNB()"
                        ]
                    },
                    "execution_count": 83,
                    "metadata": {},
                    "output_type": "execute_result"
                }
            ],
            "source": [
                "#Naive Bayes\n",
                "nb = MultinomialNB()\n",
                "nb.fit(X_train, y_train)"
            ]
        },
        {
            "cell_type": "code",
            "execution_count": 84,
            "metadata": {},
            "outputs": [
                {
                    "data": {
                        "text/html": [
                            "<style>#sk-container-id-2 {color: black;background-color: white;}#sk-container-id-2 pre{padding: 0;}#sk-container-id-2 div.sk-toggleable {background-color: white;}#sk-container-id-2 label.sk-toggleable__label {cursor: pointer;display: block;width: 100%;margin-bottom: 0;padding: 0.3em;box-sizing: border-box;text-align: center;}#sk-container-id-2 label.sk-toggleable__label-arrow:before {content: \"▸\";float: left;margin-right: 0.25em;color: #696969;}#sk-container-id-2 label.sk-toggleable__label-arrow:hover:before {color: black;}#sk-container-id-2 div.sk-estimator:hover label.sk-toggleable__label-arrow:before {color: black;}#sk-container-id-2 div.sk-toggleable__content {max-height: 0;max-width: 0;overflow: hidden;text-align: left;background-color: #f0f8ff;}#sk-container-id-2 div.sk-toggleable__content pre {margin: 0.2em;color: black;border-radius: 0.25em;background-color: #f0f8ff;}#sk-container-id-2 input.sk-toggleable__control:checked~div.sk-toggleable__content {max-height: 200px;max-width: 100%;overflow: auto;}#sk-container-id-2 input.sk-toggleable__control:checked~label.sk-toggleable__label-arrow:before {content: \"▾\";}#sk-container-id-2 div.sk-estimator input.sk-toggleable__control:checked~label.sk-toggleable__label {background-color: #d4ebff;}#sk-container-id-2 div.sk-label input.sk-toggleable__control:checked~label.sk-toggleable__label {background-color: #d4ebff;}#sk-container-id-2 input.sk-hidden--visually {border: 0;clip: rect(1px 1px 1px 1px);clip: rect(1px, 1px, 1px, 1px);height: 1px;margin: -1px;overflow: hidden;padding: 0;position: absolute;width: 1px;}#sk-container-id-2 div.sk-estimator {font-family: monospace;background-color: #f0f8ff;border: 1px dotted black;border-radius: 0.25em;box-sizing: border-box;margin-bottom: 0.5em;}#sk-container-id-2 div.sk-estimator:hover {background-color: #d4ebff;}#sk-container-id-2 div.sk-parallel-item::after {content: \"\";width: 100%;border-bottom: 1px solid gray;flex-grow: 1;}#sk-container-id-2 div.sk-label:hover label.sk-toggleable__label {background-color: #d4ebff;}#sk-container-id-2 div.sk-serial::before {content: \"\";position: absolute;border-left: 1px solid gray;box-sizing: border-box;top: 0;bottom: 0;left: 50%;z-index: 0;}#sk-container-id-2 div.sk-serial {display: flex;flex-direction: column;align-items: center;background-color: white;padding-right: 0.2em;padding-left: 0.2em;position: relative;}#sk-container-id-2 div.sk-item {position: relative;z-index: 1;}#sk-container-id-2 div.sk-parallel {display: flex;align-items: stretch;justify-content: center;background-color: white;position: relative;}#sk-container-id-2 div.sk-item::before, #sk-container-id-2 div.sk-parallel-item::before {content: \"\";position: absolute;border-left: 1px solid gray;box-sizing: border-box;top: 0;bottom: 0;left: 50%;z-index: -1;}#sk-container-id-2 div.sk-parallel-item {display: flex;flex-direction: column;z-index: 1;position: relative;background-color: white;}#sk-container-id-2 div.sk-parallel-item:first-child::after {align-self: flex-end;width: 50%;}#sk-container-id-2 div.sk-parallel-item:last-child::after {align-self: flex-start;width: 50%;}#sk-container-id-2 div.sk-parallel-item:only-child::after {width: 0;}#sk-container-id-2 div.sk-dashed-wrapped {border: 1px dashed gray;margin: 0 0.4em 0.5em 0.4em;box-sizing: border-box;padding-bottom: 0.4em;background-color: white;}#sk-container-id-2 div.sk-label label {font-family: monospace;font-weight: bold;display: inline-block;line-height: 1.2em;}#sk-container-id-2 div.sk-label-container {text-align: center;}#sk-container-id-2 div.sk-container {/* jupyter's `normalize.less` sets `[hidden] { display: none; }` but bootstrap.min.css set `[hidden] { display: none !important; }` so we also need the `!important` here to be able to override the default hidden behavior on the sphinx rendered scikit-learn.org. See: https://github.com/scikit-learn/scikit-learn/issues/21755 */display: inline-block !important;position: relative;}#sk-container-id-2 div.sk-text-repr-fallback {display: none;}</style><div id=\"sk-container-id-2\" class=\"sk-top-container\"><div class=\"sk-text-repr-fallback\"><pre>MultinomialNB()</pre><b>In a Jupyter environment, please rerun this cell to show the HTML representation or trust the notebook. <br />On GitHub, the HTML representation is unable to render, please try loading this page with nbviewer.org.</b></div><div class=\"sk-container\" hidden><div class=\"sk-item\"><div class=\"sk-estimator sk-toggleable\"><input class=\"sk-toggleable__control sk-hidden--visually\" id=\"sk-estimator-id-2\" type=\"checkbox\" checked><label for=\"sk-estimator-id-2\" class=\"sk-toggleable__label sk-toggleable__label-arrow\">MultinomialNB</label><div class=\"sk-toggleable__content\"><pre>MultinomialNB()</pre></div></div></div></div></div>"
                        ],
                        "text/plain": [
                            "MultinomialNB()"
                        ]
                    },
                    "execution_count": 84,
                    "metadata": {},
                    "output_type": "execute_result"
                }
            ],
            "source": [
                "MultinomialNB()\n"
            ]
        },
        {
            "cell_type": "code",
            "execution_count": 85,
            "metadata": {},
            "outputs": [
                {
                    "data": {
                        "text/plain": [
                            "0.9520958083832335"
                        ]
                    },
                    "execution_count": 85,
                    "metadata": {},
                    "output_type": "execute_result"
                }
            ],
            "source": [
                "#score of train dataset \n",
                "nb.score(X_train, y_train)"
            ]
        },
        {
            "cell_type": "code",
            "execution_count": 86,
            "metadata": {},
            "outputs": [
                {
                    "data": {
                        "text/plain": [
                            "0.820627802690583"
                        ]
                    },
                    "execution_count": 86,
                    "metadata": {},
                    "output_type": "execute_result"
                }
            ],
            "source": [
                "#score test dataset\n",
                "nb.score(X_test, y_test)"
            ]
        },
        {
            "cell_type": "code",
            "execution_count": 87,
            "metadata": {},
            "outputs": [
                {
                    "data": {
                        "text/plain": [
                            "array([0, 0, 0, 0])"
                        ]
                    },
                    "execution_count": 87,
                    "metadata": {},
                    "output_type": "execute_result"
                }
            ],
            "source": [
                "nb.predict(vec.transform(['i don\\'t like','eat much ram','eat','like']))\n"
            ]
        },
        {
            "cell_type": "code",
            "execution_count": 88,
            "metadata": {},
            "outputs": [
                {
                    "data": {
                        "text/plain": [
                            "array([1, 1, 0, 1])"
                        ]
                    },
                    "execution_count": 88,
                    "metadata": {},
                    "output_type": "execute_result"
                }
            ],
            "source": [
                "nb.predict(vec.transform(['love','great solid love important feature','ram','like fast']))"
            ]
        },
        {
            "cell_type": "code",
            "execution_count": 89,
            "metadata": {},
            "outputs": [
                {
                    "data": {
                        "text/plain": [
                            "665    hamro keyboard fantastic ap mobile write nepal...\n",
                            "569    works great wish suported expandable colapsibl...\n",
                            "635    awesome ap god useful ap fast dowload easy use...\n",
                            "844                                              helpful\n",
                            "824             dont go wal calender turn page month aps\n",
                            "479    makes everything easy slack easy use right wel...\n",
                            "793    awesome browser realy easy use importantly alo...\n",
                            "821                            nepal improving limts gud\n",
                            "662                  word apreciate thank u much founder\n",
                            "810    nice browser doubt firefox one best browsers p...\n",
                            "Name: review, dtype: object"
                        ]
                    },
                    "execution_count": 89,
                    "metadata": {},
                    "output_type": "execute_result"
                }
            ],
            "source": [
                "df[df['polarity']==1]['review'].sample(10)"
            ]
        },
        {
            "cell_type": "code",
            "execution_count": 90,
            "metadata": {},
            "outputs": [
                {
                    "data": {
                        "text/plain": [
                            "149    able play automatic closing since last two upd...\n",
                            "364    honestly usd love realize honestly stil use ev...\n",
                            "141    frequently resets reset taken stored gone four...\n",
                            "881    game ruined felt like playing awhile imediatel...\n",
                            "876    great game ruined many ads way many ads even f...\n",
                            "323    mark found viber extremely eficient way comuni...\n",
                            "63     notifications working get notify anything new ...\n",
                            "212    update sucks open game anymore damn going war ...\n",
                            "344    wtf keps going ofline automaticaly mesages nev...\n",
                            "650    malayalam font overlaping malayalam fonts over...\n",
                            "Name: review, dtype: object"
                        ]
                    },
                    "execution_count": 90,
                    "metadata": {},
                    "output_type": "execute_result"
                }
            ],
            "source": [
                "df[df['polarity']==0]['review'].sample(10)"
            ]
        },
        {
            "cell_type": "markdown",
            "metadata": {},
            "source": [
                "Save the model \n"
            ]
        },
        {
            "cell_type": "code",
            "execution_count": 91,
            "metadata": {},
            "outputs": [],
            "source": [
                "#filename = '../modelo_final.sav' #use absolute path\n",
                "pickle.dump(nb, open('../models/modelo_final.sav', 'wb'))\n"
            ]
        }
    ],
    "metadata": {
        "kernelspec": {
            "display_name": "Python 3.8.13 64-bit ('3.8.13')",
            "language": "python",
            "name": "python3"
        },
        "language_info": {
            "codemirror_mode": {
                "name": "ipython",
                "version": 3
            },
            "file_extension": ".py",
            "mimetype": "text/x-python",
            "name": "python",
            "nbconvert_exporter": "python",
            "pygments_lexer": "ipython3",
            "version": "3.8.13"
        },
        "orig_nbformat": 4,
        "vscode": {
            "interpreter": {
                "hash": "110cc1dee26208153f2972f08a2ad52b6a56238dc66d48e87fb757ef2996db56"
            }
        }
    },
    "nbformat": 4,
    "nbformat_minor": 2
}
